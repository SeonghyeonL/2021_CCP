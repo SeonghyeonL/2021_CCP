{
  "nbformat": 4,
  "nbformat_minor": 0,
  "metadata": {
    "colab": {
      "name": "subway_data_graph.ipynb",
      "provenance": [],
      "collapsed_sections": [],
      "mount_file_id": "1UORR1nbt4EUYCZd2NpkJaH0LHgrG40vD",
      "authorship_tag": "ABX9TyNgn1+sexuOxtRwbjX3qFjB"
    },
    "kernelspec": {
      "name": "python3",
      "display_name": "Python 3"
    },
    "language_info": {
      "name": "python"
    }
  },
  "cells": [
    {
      "cell_type": "code",
      "metadata": {
        "id": "w0PL09urPA3R"
      },
      "source": [
        "import pandas as pd\n",
        "import numpy as np\n",
        "import matplotlib.pyplot as plt # 시각화\n",
        "import seaborn as sns # 시각화↑\n",
        "\n",
        "sns.set(style='ticks') # 그래프 스타일 변경"
      ],
      "execution_count": null,
      "outputs": []
    },
    {
      "cell_type": "code",
      "metadata": {
        "id": "yH7G0i9YRI3x",
        "colab": {
          "base_uri": "https://localhost:8080/",
          "height": 423
        },
        "outputId": "c3eb584c-dfc0-4921-a15d-da8fdae1f044"
      },
      "source": [
        "subdata = pd.read_csv('/content/drive/MyDrive/Colab Notebooks/2021CCP/subwayyy.csv')\n",
        "subdata = subdata.reset_index()\n",
        "subdata.columns = ['사용일자','노선명', '역명','승차총승객수','하차총승객수','e','f']\n",
        "subdata = subdata.drop(['e','f'],axis=1)\n",
        "\n",
        "subdata"
      ],
      "execution_count": null,
      "outputs": [
        {
          "output_type": "execute_result",
          "data": {
            "text/html": [
              "<div>\n",
              "<style scoped>\n",
              "    .dataframe tbody tr th:only-of-type {\n",
              "        vertical-align: middle;\n",
              "    }\n",
              "\n",
              "    .dataframe tbody tr th {\n",
              "        vertical-align: top;\n",
              "    }\n",
              "\n",
              "    .dataframe thead th {\n",
              "        text-align: right;\n",
              "    }\n",
              "</style>\n",
              "<table border=\"1\" class=\"dataframe\">\n",
              "  <thead>\n",
              "    <tr style=\"text-align: right;\">\n",
              "      <th></th>\n",
              "      <th>사용일자</th>\n",
              "      <th>노선명</th>\n",
              "      <th>역명</th>\n",
              "      <th>승차총승객수</th>\n",
              "      <th>하차총승객수</th>\n",
              "    </tr>\n",
              "  </thead>\n",
              "  <tbody>\n",
              "    <tr>\n",
              "      <th>0</th>\n",
              "      <td>20210501</td>\n",
              "      <td>9호선</td>\n",
              "      <td>노량진</td>\n",
              "      <td>19486</td>\n",
              "      <td>19311</td>\n",
              "    </tr>\n",
              "    <tr>\n",
              "      <th>1</th>\n",
              "      <td>20210501</td>\n",
              "      <td>5호선</td>\n",
              "      <td>올림픽공원(한국체대)</td>\n",
              "      <td>2406</td>\n",
              "      <td>1953</td>\n",
              "    </tr>\n",
              "    <tr>\n",
              "      <th>2</th>\n",
              "      <td>20210501</td>\n",
              "      <td>5호선</td>\n",
              "      <td>방이</td>\n",
              "      <td>4454</td>\n",
              "      <td>4330</td>\n",
              "    </tr>\n",
              "    <tr>\n",
              "      <th>3</th>\n",
              "      <td>20210501</td>\n",
              "      <td>5호선</td>\n",
              "      <td>오금</td>\n",
              "      <td>2047</td>\n",
              "      <td>1889</td>\n",
              "    </tr>\n",
              "    <tr>\n",
              "      <th>4</th>\n",
              "      <td>20210501</td>\n",
              "      <td>5호선</td>\n",
              "      <td>개롱</td>\n",
              "      <td>3667</td>\n",
              "      <td>3832</td>\n",
              "    </tr>\n",
              "    <tr>\n",
              "      <th>...</th>\n",
              "      <td>...</td>\n",
              "      <td>...</td>\n",
              "      <td>...</td>\n",
              "      <td>...</td>\n",
              "      <td>...</td>\n",
              "    </tr>\n",
              "    <tr>\n",
              "      <th>18627</th>\n",
              "      <td>20210531</td>\n",
              "      <td>안산선</td>\n",
              "      <td>반월</td>\n",
              "      <td>4361</td>\n",
              "      <td>4161</td>\n",
              "    </tr>\n",
              "    <tr>\n",
              "      <th>18628</th>\n",
              "      <td>20210531</td>\n",
              "      <td>안산선</td>\n",
              "      <td>대야미</td>\n",
              "      <td>4898</td>\n",
              "      <td>4540</td>\n",
              "    </tr>\n",
              "    <tr>\n",
              "      <th>18629</th>\n",
              "      <td>20210531</td>\n",
              "      <td>안산선</td>\n",
              "      <td>산본</td>\n",
              "      <td>15489</td>\n",
              "      <td>16517</td>\n",
              "    </tr>\n",
              "    <tr>\n",
              "      <th>18630</th>\n",
              "      <td>20210531</td>\n",
              "      <td>수인선</td>\n",
              "      <td>인천</td>\n",
              "      <td>945</td>\n",
              "      <td>1500</td>\n",
              "    </tr>\n",
              "    <tr>\n",
              "      <th>18631</th>\n",
              "      <td>20210531</td>\n",
              "      <td>분당선</td>\n",
              "      <td>수서</td>\n",
              "      <td>13158</td>\n",
              "      <td>13246</td>\n",
              "    </tr>\n",
              "  </tbody>\n",
              "</table>\n",
              "<p>18632 rows × 5 columns</p>\n",
              "</div>"
            ],
            "text/plain": [
              "           사용일자  노선명           역명  승차총승객수  하차총승객수\n",
              "0      20210501  9호선          노량진   19486   19311\n",
              "1      20210501  5호선  올림픽공원(한국체대)    2406    1953\n",
              "2      20210501  5호선           방이    4454    4330\n",
              "3      20210501  5호선           오금    2047    1889\n",
              "4      20210501  5호선           개롱    3667    3832\n",
              "...         ...  ...          ...     ...     ...\n",
              "18627  20210531  안산선           반월    4361    4161\n",
              "18628  20210531  안산선          대야미    4898    4540\n",
              "18629  20210531  안산선           산본   15489   16517\n",
              "18630  20210531  수인선           인천     945    1500\n",
              "18631  20210531  분당선           수서   13158   13246\n",
              "\n",
              "[18632 rows x 5 columns]"
            ]
          },
          "metadata": {
            "tags": []
          },
          "execution_count": 6
        }
      ]
    },
    {
      "cell_type": "code",
      "metadata": {
        "colab": {
          "base_uri": "https://localhost:8080/",
          "height": 423
        },
        "id": "LKrHYYoGTra2",
        "outputId": "5ed7067d-ec9d-4d0e-f4e0-84b2f41d2a97"
      },
      "source": [
        "is_usable1 = subdata['노선명'] == '1호선'\n",
        "is_usable2 = subdata['노선명'] == '2호선'\n",
        "is_usable3 = subdata['노선명'] == '3호선'\n",
        "is_usable4 = subdata['노선명'] == '4호선'\n",
        "is_usable5 = subdata['노선명'] == '5호선'\n",
        "is_usable6 = subdata['노선명'] == '6호선'\n",
        "is_usable7 = subdata['노선명'] == '7호선'\n",
        "is_usable8 = subdata['노선명'] == '8호선'\n",
        "is_usable9 = subdata['노선명'] == '9호선'\n",
        "is_usable = is_usable1|is_usable2|is_usable3|is_usable4|is_usable5|is_usable6|is_usable7|is_usable8|is_usable9\n",
        "\n",
        "subdata = subdata[is_usable]\n",
        "subdata = subdata.sort_values(by=['역명','사용일자'])\n",
        "subdata"
      ],
      "execution_count": null,
      "outputs": [
        {
          "output_type": "execute_result",
          "data": {
            "text/html": [
              "<div>\n",
              "<style scoped>\n",
              "    .dataframe tbody tr th:only-of-type {\n",
              "        vertical-align: middle;\n",
              "    }\n",
              "\n",
              "    .dataframe tbody tr th {\n",
              "        vertical-align: top;\n",
              "    }\n",
              "\n",
              "    .dataframe thead th {\n",
              "        text-align: right;\n",
              "    }\n",
              "</style>\n",
              "<table border=\"1\" class=\"dataframe\">\n",
              "  <thead>\n",
              "    <tr style=\"text-align: right;\">\n",
              "      <th></th>\n",
              "      <th>사용일자</th>\n",
              "      <th>노선명</th>\n",
              "      <th>역명</th>\n",
              "      <th>승차총승객수</th>\n",
              "      <th>하차총승객수</th>\n",
              "    </tr>\n",
              "  </thead>\n",
              "  <tbody>\n",
              "    <tr>\n",
              "      <th>87</th>\n",
              "      <td>20210501</td>\n",
              "      <td>3호선</td>\n",
              "      <td>가락시장</td>\n",
              "      <td>5485</td>\n",
              "      <td>5181</td>\n",
              "    </tr>\n",
              "    <tr>\n",
              "      <th>272</th>\n",
              "      <td>20210501</td>\n",
              "      <td>8호선</td>\n",
              "      <td>가락시장</td>\n",
              "      <td>5236</td>\n",
              "      <td>5152</td>\n",
              "    </tr>\n",
              "    <tr>\n",
              "      <th>696</th>\n",
              "      <td>20210502</td>\n",
              "      <td>3호선</td>\n",
              "      <td>가락시장</td>\n",
              "      <td>3574</td>\n",
              "      <td>3879</td>\n",
              "    </tr>\n",
              "    <tr>\n",
              "      <th>876</th>\n",
              "      <td>20210502</td>\n",
              "      <td>8호선</td>\n",
              "      <td>가락시장</td>\n",
              "      <td>2999</td>\n",
              "      <td>3819</td>\n",
              "    </tr>\n",
              "    <tr>\n",
              "      <th>1527</th>\n",
              "      <td>20210503</td>\n",
              "      <td>8호선</td>\n",
              "      <td>가락시장</td>\n",
              "      <td>7913</td>\n",
              "      <td>8592</td>\n",
              "    </tr>\n",
              "    <tr>\n",
              "      <th>...</th>\n",
              "      <td>...</td>\n",
              "      <td>...</td>\n",
              "      <td>...</td>\n",
              "      <td>...</td>\n",
              "      <td>...</td>\n",
              "    </tr>\n",
              "    <tr>\n",
              "      <th>15953</th>\n",
              "      <td>20210527</td>\n",
              "      <td>9호선</td>\n",
              "      <td>흑석(중앙대입구)</td>\n",
              "      <td>7799</td>\n",
              "      <td>8175</td>\n",
              "    </tr>\n",
              "    <tr>\n",
              "      <th>16523</th>\n",
              "      <td>20210528</td>\n",
              "      <td>9호선</td>\n",
              "      <td>흑석(중앙대입구)</td>\n",
              "      <td>7827</td>\n",
              "      <td>8017</td>\n",
              "    </tr>\n",
              "    <tr>\n",
              "      <th>17129</th>\n",
              "      <td>20210529</td>\n",
              "      <td>9호선</td>\n",
              "      <td>흑석(중앙대입구)</td>\n",
              "      <td>5216</td>\n",
              "      <td>5326</td>\n",
              "    </tr>\n",
              "    <tr>\n",
              "      <th>17733</th>\n",
              "      <td>20210530</td>\n",
              "      <td>9호선</td>\n",
              "      <td>흑석(중앙대입구)</td>\n",
              "      <td>3795</td>\n",
              "      <td>4032</td>\n",
              "    </tr>\n",
              "    <tr>\n",
              "      <th>18208</th>\n",
              "      <td>20210531</td>\n",
              "      <td>9호선</td>\n",
              "      <td>흑석(중앙대입구)</td>\n",
              "      <td>7605</td>\n",
              "      <td>7870</td>\n",
              "    </tr>\n",
              "  </tbody>\n",
              "</table>\n",
              "<p>9491 rows × 5 columns</p>\n",
              "</div>"
            ],
            "text/plain": [
              "           사용일자  노선명         역명  승차총승객수  하차총승객수\n",
              "87     20210501  3호선       가락시장    5485    5181\n",
              "272    20210501  8호선       가락시장    5236    5152\n",
              "696    20210502  3호선       가락시장    3574    3879\n",
              "876    20210502  8호선       가락시장    2999    3819\n",
              "1527   20210503  8호선       가락시장    7913    8592\n",
              "...         ...  ...        ...     ...     ...\n",
              "15953  20210527  9호선  흑석(중앙대입구)    7799    8175\n",
              "16523  20210528  9호선  흑석(중앙대입구)    7827    8017\n",
              "17129  20210529  9호선  흑석(중앙대입구)    5216    5326\n",
              "17733  20210530  9호선  흑석(중앙대입구)    3795    4032\n",
              "18208  20210531  9호선  흑석(중앙대입구)    7605    7870\n",
              "\n",
              "[9491 rows x 5 columns]"
            ]
          },
          "metadata": {
            "tags": []
          },
          "execution_count": 7
        }
      ]
    },
    {
      "cell_type": "code",
      "metadata": {
        "colab": {
          "base_uri": "https://localhost:8080/"
        },
        "id": "tdMy5WGo588Z",
        "outputId": "da68eacf-4f31-46d5-a69d-24d61839317b"
      },
      "source": [
        "stations = subdata['역명'].values\n",
        "stations = set(stations)\n",
        "stations = list(stations)\n",
        "stations.sort()\n",
        "len(stations)"
      ],
      "execution_count": null,
      "outputs": [
        {
          "output_type": "execute_result",
          "data": {
            "text/plain": [
              "268"
            ]
          },
          "metadata": {
            "tags": []
          },
          "execution_count": 8
        }
      ]
    },
    {
      "cell_type": "code",
      "metadata": {
        "id": "PQkw01WpEk0r"
      },
      "source": [
        "# 요일별 분류\n",
        "#예외처리 : 5/5(수) 5/8(토) 5/15(토) 5/19(수)\n",
        "data_MON = subdata[subdata['사용일자']%7==5]\n",
        "data_TUE = subdata[subdata['사용일자']%7==6]\n",
        "data_WED = subdata[subdata['사용일자']%7==0]\n",
        "#data_WED_h = data_WED[data_WED['사용일자']!=20210505]\n",
        "#data_WED_h = data_WED_h[data_WED_h['사용일자']!=20210519]\n",
        "data_THU = subdata[subdata['사용일자']%7==1]\n",
        "data_FRI = subdata[subdata['사용일자']%7==2]\n",
        "data_SAT = subdata[subdata['사용일자']%7==3]\n",
        "#data_SAT_h = data_SAT[data_SAT['사용일자']!=20210508]\n",
        "#data_SAT_h = data_SAT_h[data_SAT_h['사용일자']!=20210515]\n",
        "data_SUN = subdata[subdata['사용일자']%7==4]"
      ],
      "execution_count": null,
      "outputs": []
    },
    {
      "cell_type": "code",
      "metadata": {
        "id": "lRHAiXaySgWO"
      },
      "source": [
        "# 호선별 분류\n",
        "data_1 = subdata[subdata['노선명']=='1호선']\n",
        "data_2 = subdata[subdata['노선명']=='2호선']\n",
        "data_3 = subdata[subdata['노선명']=='3호선']\n",
        "data_4 = subdata[subdata['노선명']=='4호선']\n",
        "data_5 = subdata[subdata['노선명']=='5호선']\n",
        "data_6 = subdata[subdata['노선명']=='6호선']\n",
        "data_7 = subdata[subdata['노선명']=='7호선']\n",
        "data_8 = subdata[subdata['노선명']=='8호선']\n",
        "data_9 = subdata[subdata['노선명']=='9호선']"
      ],
      "execution_count": null,
      "outputs": []
    },
    {
      "cell_type": "code",
      "metadata": {
        "colab": {
          "base_uri": "https://localhost:8080/",
          "height": 481
        },
        "id": "8CNQj4GSULBk",
        "outputId": "f398ad16-1e9d-4fec-ad94-ecd867e9fba8"
      },
      "source": [
        "plt.subplot(241) # 세로 2개 가로 4개의 1번째\n",
        "graph_data = data_MON.groupby('노선명').sum()\n",
        "graph_data['승차총승객수'].plot(kind='bar')\n",
        "plt.xlabel('LINE')\n",
        "plt.ylabel('RIDE')\n",
        "plt.title('MON')\n",
        "plt.subplot(242)\n",
        "graph_data = data_TUE.groupby('노선명').sum()\n",
        "graph_data['승차총승객수'].plot(kind='bar')\n",
        "plt.xlabel('LINE')\n",
        "plt.ylabel('RIDE')\n",
        "plt.title('TUE')\n",
        "plt.subplot(243)\n",
        "graph_data = data_WED.groupby('노선명').sum()\n",
        "graph_data['승차총승객수'].plot(kind='bar')\n",
        "plt.xlabel('LINE')\n",
        "plt.ylabel('RIDE')\n",
        "plt.title('WED')\n",
        "plt.subplot(244)\n",
        "graph_data = data_THU.groupby('노선명').sum()\n",
        "graph_data['승차총승객수'].plot(kind='bar')\n",
        "plt.xlabel('LINE')\n",
        "plt.ylabel('RIDE')\n",
        "plt.title('THU')\n",
        "plt.subplot(245)\n",
        "graph_data = data_FRI.groupby('노선명').sum()\n",
        "graph_data['승차총승객수'].plot(kind='bar')\n",
        "plt.xlabel('LINE')\n",
        "plt.ylabel('RIDE')\n",
        "plt.title('FRI')\n",
        "plt.subplot(246)\n",
        "graph_data = data_SAT.groupby('노선명').sum()\n",
        "graph_data['승차총승객수'].plot(kind='bar')\n",
        "plt.xlabel('LINE')\n",
        "plt.ylabel('RIDE')\n",
        "plt.title('SAT')\n",
        "plt.subplot(247)\n",
        "graph_data = data_SUN.groupby('노선명').sum()\n",
        "graph_data['승차총승객수'].plot(kind='bar')\n",
        "plt.xlabel('LINE')\n",
        "plt.ylabel('RIDE')\n",
        "plt.title('SUN')\n",
        "\n",
        "plt.show()"
      ],
      "execution_count": null,
      "outputs": [
        {
          "output_type": "stream",
          "text": [
            "/usr/local/lib/python3.7/dist-packages/matplotlib/backends/backend_agg.py:214: RuntimeWarning: Glyph 54840 missing from current font.\n",
            "  font.set_text(s, 0.0, flags=flags)\n",
            "/usr/local/lib/python3.7/dist-packages/matplotlib/backends/backend_agg.py:214: RuntimeWarning: Glyph 49440 missing from current font.\n",
            "  font.set_text(s, 0.0, flags=flags)\n",
            "/usr/local/lib/python3.7/dist-packages/matplotlib/backends/backend_agg.py:183: RuntimeWarning: Glyph 54840 missing from current font.\n",
            "  font.set_text(s, 0, flags=flags)\n",
            "/usr/local/lib/python3.7/dist-packages/matplotlib/backends/backend_agg.py:183: RuntimeWarning: Glyph 49440 missing from current font.\n",
            "  font.set_text(s, 0, flags=flags)\n"
          ],
          "name": "stderr"
        },
        {
          "output_type": "display_data",
          "data": {
            "image/png": "[encoded data removed]",
            "text/plain": [
              "<Figure size 432x288 with 7 Axes>"
            ]
          },
          "metadata": {
            "tags": []
          }
        }
      ]
    },
    {
      "cell_type": "code",
      "metadata": {
        "id": "JuVrOijxXTL5"
      },
      "source": [
        ""
      ],
      "execution_count": null,
      "outputs": []
    },
    {
      "cell_type": "code",
      "metadata": {
        "id": "hHVDRRqjW9EM"
      },
      "source": [
        "#"
      ],
      "execution_count": null,
      "outputs": []
    },
    {
      "cell_type": "code",
      "metadata": {
        "colab": {
          "base_uri": "https://localhost:8080/",
          "height": 231
        },
        "id": "djloKcKW9jOZ",
        "outputId": "88f50c75-663a-44ba-93a0-731f77faf7e5"
      },
      "source": [
        "# 역별 요일 평균값\n",
        "from pandas import Series, DataFrame\n",
        "\n",
        "s_m_res_MON = {}\n",
        "s_m_res_TUE = {}\n",
        "s_m_res_WED = {}\n",
        "s_m_res_THU = {}\n",
        "s_m_res_FRI = {}\n",
        "s_m_res_SAT = {}\n",
        "s_m_res_SUN = {}\n",
        "\n",
        "for i in range(268):\n",
        "  # MON\n",
        "  is_station = traindata_MON['역명'] == stations[i]\n",
        "  train_mean = traindata_MON[is_station]\n",
        "  s_m_res_MON[stations[i]] = [train_mean.mean()[1], train_mean.mean()[2]]\n",
        "  # TUE\n",
        "  is_station = traindata_TUE['역명'] == stations[i]\n",
        "  train_mean = traindata_TUE[is_station]\n",
        "  s_m_res_TUE[stations[i]] = [train_mean.mean()[1], train_mean.mean()[2]]\n",
        "  # WED\n",
        "  is_station = traindata_WED['역명'] == stations[i]\n",
        "  train_mean = traindata_WED[is_station]\n",
        "  s_m_res_WED[stations[i]] = [train_mean.mean()[1], train_mean.mean()[2]]\n",
        "  # THU\n",
        "  is_station = traindata_THU['역명'] == stations[i]\n",
        "  train_mean = traindata_THU[is_station]\n",
        "  s_m_res_THU[stations[i]] = [train_mean.mean()[1], train_mean.mean()[2]]\n",
        "  # FRI\n",
        "  is_station = traindata_FRI['역명'] == stations[i]\n",
        "  train_mean = traindata_FRI[is_station]\n",
        "  s_m_res_FRI[stations[i]] = [train_mean.mean()[1], train_mean.mean()[2]]\n",
        "  # SAT\n",
        "  is_station = traindata_SAT['역명'] == stations[i]\n",
        "  train_mean = traindata_SAT[is_station]\n",
        "  s_m_res_SAT[stations[i]] = [train_mean.mean()[1], train_mean.mean()[2]]\n",
        "  # SUN\n",
        "  is_station = traindata_SUN['역명'] == stations[i]\n",
        "  train_mean = traindata_SUN[is_station]\n",
        "  s_m_res_SUN[stations[i]] = [train_mean.mean()[1], train_mean.mean()[2]]\n",
        "\n",
        "mean_res_MON = DataFrame(s_m_res_MON)\n",
        "mean_res_TUE = DataFrame(s_m_res_TUE)\n",
        "mean_res_WED = DataFrame(s_m_res_WED)\n",
        "mean_res_THU = DataFrame(s_m_res_THU)\n",
        "mean_res_FRI = DataFrame(s_m_res_FRI)\n",
        "mean_res_SAT = DataFrame(s_m_res_SAT)\n",
        "mean_res_SUN = DataFrame(s_m_res_SUN)\n",
        "\n",
        "mean_res_MON"
      ],
      "execution_count": null,
      "outputs": [
        {
          "output_type": "execute_result",
          "data": {
            "text/html": [
              "<div>\n",
              "<style scoped>\n",
              "    .dataframe tbody tr th:only-of-type {\n",
              "        vertical-align: middle;\n",
              "    }\n",
              "\n",
              "    .dataframe tbody tr th {\n",
              "        vertical-align: top;\n",
              "    }\n",
              "\n",
              "    .dataframe thead th {\n",
              "        text-align: right;\n",
              "    }\n",
              "</style>\n",
              "<table border=\"1\" class=\"dataframe\">\n",
              "  <thead>\n",
              "    <tr style=\"text-align: right;\">\n",
              "      <th></th>\n",
              "      <th>가락시장</th>\n",
              "      <th>가산디지털단지</th>\n",
              "      <th>가양</th>\n",
              "      <th>강남</th>\n",
              "      <th>강남구청</th>\n",
              "      <th>강동</th>\n",
              "      <th>강동구청</th>\n",
              "      <th>강변(동서울터미널)</th>\n",
              "      <th>강일</th>\n",
              "      <th>개롱</th>\n",
              "      <th>개화</th>\n",
              "      <th>개화산</th>\n",
              "      <th>거여</th>\n",
              "      <th>건대입구</th>\n",
              "      <th>경복궁(정부서울청사)</th>\n",
              "      <th>경찰병원</th>\n",
              "      <th>고덕</th>\n",
              "      <th>고려대(종암)</th>\n",
              "      <th>고속터미널</th>\n",
              "      <th>공덕</th>\n",
              "      <th>공릉(서울과학기술대)</th>\n",
              "      <th>공항시장</th>\n",
              "      <th>광나루(장신대)</th>\n",
              "      <th>광명사거리</th>\n",
              "      <th>광화문(세종문화회관)</th>\n",
              "      <th>광흥창(서강)</th>\n",
              "      <th>교대(법원.검찰청)</th>\n",
              "      <th>구로디지털단지</th>\n",
              "      <th>구반포</th>\n",
              "      <th>구산</th>\n",
              "      <th>구의(광진구청)</th>\n",
              "      <th>구파발</th>\n",
              "      <th>국회의사당</th>\n",
              "      <th>군자(능동)</th>\n",
              "      <th>굴포천</th>\n",
              "      <th>굽은다리(강동구민회관앞)</th>\n",
              "      <th>금호</th>\n",
              "      <th>길동</th>\n",
              "      <th>길음</th>\n",
              "      <th>김포공항</th>\n",
              "      <th>...</th>\n",
              "      <th>종로5가</th>\n",
              "      <th>종합운동장</th>\n",
              "      <th>중계</th>\n",
              "      <th>중곡</th>\n",
              "      <th>중화</th>\n",
              "      <th>증미</th>\n",
              "      <th>증산(명지대앞)</th>\n",
              "      <th>지축</th>\n",
              "      <th>창동</th>\n",
              "      <th>창신</th>\n",
              "      <th>천왕</th>\n",
              "      <th>천호(풍납토성)</th>\n",
              "      <th>철산</th>\n",
              "      <th>청구</th>\n",
              "      <th>청담</th>\n",
              "      <th>청량리(서울시립대입구)</th>\n",
              "      <th>총신대입구(이수)</th>\n",
              "      <th>춘의</th>\n",
              "      <th>충무로</th>\n",
              "      <th>충정로(경기대입구)</th>\n",
              "      <th>태릉입구</th>\n",
              "      <th>하계</th>\n",
              "      <th>하남검단산</th>\n",
              "      <th>하남시청(덕풍·신장)</th>\n",
              "      <th>하남풍산</th>\n",
              "      <th>학동</th>\n",
              "      <th>학여울</th>\n",
              "      <th>한강진</th>\n",
              "      <th>한성대입구(삼선교)</th>\n",
              "      <th>한양대</th>\n",
              "      <th>합정</th>\n",
              "      <th>행당</th>\n",
              "      <th>혜화</th>\n",
              "      <th>홍대입구</th>\n",
              "      <th>홍제</th>\n",
              "      <th>화곡</th>\n",
              "      <th>화랑대(서울여대입구)</th>\n",
              "      <th>회현(남대문시장)</th>\n",
              "      <th>효창공원앞</th>\n",
              "      <th>흑석(중앙대입구)</th>\n",
              "    </tr>\n",
              "  </thead>\n",
              "  <tbody>\n",
              "    <tr>\n",
              "      <th>0</th>\n",
              "      <td>16517.50</td>\n",
              "      <td>48476.25</td>\n",
              "      <td>19969.00</td>\n",
              "      <td>81613.0</td>\n",
              "      <td>15876.25</td>\n",
              "      <td>18456.25</td>\n",
              "      <td>10517.00</td>\n",
              "      <td>29604.5</td>\n",
              "      <td>3043.75</td>\n",
              "      <td>6488.25</td>\n",
              "      <td>2637.25</td>\n",
              "      <td>5412.50</td>\n",
              "      <td>8405.25</td>\n",
              "      <td>43084.75</td>\n",
              "      <td>17939.5</td>\n",
              "      <td>7638.50</td>\n",
              "      <td>9319.75</td>\n",
              "      <td>7861.75</td>\n",
              "      <td>62268.25</td>\n",
              "      <td>33061.50</td>\n",
              "      <td>11760.75</td>\n",
              "      <td>2844.25</td>\n",
              "      <td>12673.0</td>\n",
              "      <td>22248.75</td>\n",
              "      <td>28920.75</td>\n",
              "      <td>8893.75</td>\n",
              "      <td>47344.25</td>\n",
              "      <td>61413.75</td>\n",
              "      <td>2709.00</td>\n",
              "      <td>7639.75</td>\n",
              "      <td>23028.75</td>\n",
              "      <td>20379.50</td>\n",
              "      <td>15411.00</td>\n",
              "      <td>25398.75</td>\n",
              "      <td>8595.75</td>\n",
              "      <td>9374.00</td>\n",
              "      <td>8101.25</td>\n",
              "      <td>8143.0</td>\n",
              "      <td>20067.25</td>\n",
              "      <td>14438.25</td>\n",
              "      <td>...</td>\n",
              "      <td>21778.5</td>\n",
              "      <td>7059.5</td>\n",
              "      <td>14381.50</td>\n",
              "      <td>9983.75</td>\n",
              "      <td>10966.5</td>\n",
              "      <td>7392.75</td>\n",
              "      <td>9933.50</td>\n",
              "      <td>4080.5</td>\n",
              "      <td>25465.00</td>\n",
              "      <td>3618.0</td>\n",
              "      <td>11700.0</td>\n",
              "      <td>31238.00</td>\n",
              "      <td>21659.25</td>\n",
              "      <td>7776.75</td>\n",
              "      <td>19447.5</td>\n",
              "      <td>19593.25</td>\n",
              "      <td>18402.50</td>\n",
              "      <td>9622.25</td>\n",
              "      <td>25816.0</td>\n",
              "      <td>15067.00</td>\n",
              "      <td>13930.0</td>\n",
              "      <td>17272.5</td>\n",
              "      <td>4534.25</td>\n",
              "      <td>5081.00</td>\n",
              "      <td>3868.75</td>\n",
              "      <td>24537.50</td>\n",
              "      <td>1695.75</td>\n",
              "      <td>6382.00</td>\n",
              "      <td>13456.75</td>\n",
              "      <td>8196.00</td>\n",
              "      <td>40110.25</td>\n",
              "      <td>8181.75</td>\n",
              "      <td>28304.00</td>\n",
              "      <td>45717.50</td>\n",
              "      <td>17299.0</td>\n",
              "      <td>28196.25</td>\n",
              "      <td>11437.25</td>\n",
              "      <td>22910.5</td>\n",
              "      <td>6920.25</td>\n",
              "      <td>7544.25</td>\n",
              "    </tr>\n",
              "    <tr>\n",
              "      <th>1</th>\n",
              "      <td>17179.75</td>\n",
              "      <td>48838.00</td>\n",
              "      <td>19634.25</td>\n",
              "      <td>80331.5</td>\n",
              "      <td>17420.75</td>\n",
              "      <td>17675.00</td>\n",
              "      <td>10973.25</td>\n",
              "      <td>28680.5</td>\n",
              "      <td>3204.50</td>\n",
              "      <td>6716.25</td>\n",
              "      <td>1772.50</td>\n",
              "      <td>5130.75</td>\n",
              "      <td>8038.50</td>\n",
              "      <td>45663.00</td>\n",
              "      <td>17699.0</td>\n",
              "      <td>7696.25</td>\n",
              "      <td>9246.75</td>\n",
              "      <td>7549.00</td>\n",
              "      <td>59887.50</td>\n",
              "      <td>33252.75</td>\n",
              "      <td>11812.00</td>\n",
              "      <td>3036.25</td>\n",
              "      <td>11617.5</td>\n",
              "      <td>21674.00</td>\n",
              "      <td>30397.75</td>\n",
              "      <td>8630.50</td>\n",
              "      <td>46991.00</td>\n",
              "      <td>61851.75</td>\n",
              "      <td>2791.75</td>\n",
              "      <td>5818.50</td>\n",
              "      <td>22903.00</td>\n",
              "      <td>19172.25</td>\n",
              "      <td>15911.75</td>\n",
              "      <td>23844.75</td>\n",
              "      <td>9185.50</td>\n",
              "      <td>8936.75</td>\n",
              "      <td>7691.50</td>\n",
              "      <td>8417.0</td>\n",
              "      <td>19698.00</td>\n",
              "      <td>17022.50</td>\n",
              "      <td>...</td>\n",
              "      <td>21776.0</td>\n",
              "      <td>7816.0</td>\n",
              "      <td>13203.25</td>\n",
              "      <td>9196.00</td>\n",
              "      <td>10791.0</td>\n",
              "      <td>7476.50</td>\n",
              "      <td>9757.75</td>\n",
              "      <td>3927.0</td>\n",
              "      <td>26992.75</td>\n",
              "      <td>3013.0</td>\n",
              "      <td>11148.0</td>\n",
              "      <td>33397.25</td>\n",
              "      <td>22015.25</td>\n",
              "      <td>7669.25</td>\n",
              "      <td>21544.5</td>\n",
              "      <td>19481.00</td>\n",
              "      <td>19970.75</td>\n",
              "      <td>9582.75</td>\n",
              "      <td>26813.5</td>\n",
              "      <td>15669.25</td>\n",
              "      <td>14476.5</td>\n",
              "      <td>16380.5</td>\n",
              "      <td>4396.75</td>\n",
              "      <td>5118.25</td>\n",
              "      <td>3854.75</td>\n",
              "      <td>26099.25</td>\n",
              "      <td>1725.75</td>\n",
              "      <td>7358.25</td>\n",
              "      <td>13195.50</td>\n",
              "      <td>8997.25</td>\n",
              "      <td>40937.50</td>\n",
              "      <td>7336.75</td>\n",
              "      <td>28439.75</td>\n",
              "      <td>47228.25</td>\n",
              "      <td>16564.5</td>\n",
              "      <td>26491.25</td>\n",
              "      <td>8933.25</td>\n",
              "      <td>24376.0</td>\n",
              "      <td>6308.25</td>\n",
              "      <td>7961.00</td>\n",
              "    </tr>\n",
              "  </tbody>\n",
              "</table>\n",
              "<p>2 rows × 268 columns</p>\n",
              "</div>"
            ],
            "text/plain": [
              "       가락시장   가산디지털단지        가양  ...  회현(남대문시장)    효창공원앞  흑석(중앙대입구)\n",
              "0  16517.50  48476.25  19969.00  ...    22910.5  6920.25    7544.25\n",
              "1  17179.75  48838.00  19634.25  ...    24376.0  6308.25    7961.00\n",
              "\n",
              "[2 rows x 268 columns]"
            ]
          },
          "metadata": {
            "tags": []
          },
          "execution_count": 13
        }
      ]
    },
    {
      "cell_type": "code",
      "metadata": {
        "colab": {
          "base_uri": "https://localhost:8080/",
          "height": 423
        },
        "id": "56o6lCRJ-e4h",
        "outputId": "e7db8391-998a-440f-9553-a60047eebb83"
      },
      "source": [
        "# transpose\n",
        "mean_res_MON = mean_res_MON.rename(index={0:'승차총승객수', 1:'하차총승객수'})\n",
        "mean_res_MON = mean_res_MON.transpose()\n",
        "mean_res_TUE = mean_res_TUE.rename(index={0:'승차총승객수', 1:'하차총승객수'})\n",
        "mean_res_TUE = mean_res_TUE.transpose()\n",
        "mean_res_WED = mean_res_WED.rename(index={0:'승차총승객수', 1:'하차총승객수'})\n",
        "mean_res_WED = mean_res_WED.transpose()\n",
        "mean_res_THU = mean_res_THU.rename(index={0:'승차총승객수', 1:'하차총승객수'})\n",
        "mean_res_THU = mean_res_THU.transpose()\n",
        "mean_res_FRI = mean_res_FRI.rename(index={0:'승차총승객수', 1:'하차총승객수'})\n",
        "mean_res_FRI = mean_res_FRI.transpose()\n",
        "mean_res_SAT = mean_res_SAT.rename(index={0:'승차총승객수', 1:'하차총승객수'})\n",
        "mean_res_SAT = mean_res_SAT.transpose()\n",
        "mean_res_SUN = mean_res_SUN.rename(index={0:'승차총승객수', 1:'하차총승객수'})\n",
        "mean_res_SUN = mean_res_SUN.transpose()\n",
        "\n",
        "mean_res_MON"
      ],
      "execution_count": null,
      "outputs": [
        {
          "output_type": "execute_result",
          "data": {
            "text/html": [
              "<div>\n",
              "<style scoped>\n",
              "    .dataframe tbody tr th:only-of-type {\n",
              "        vertical-align: middle;\n",
              "    }\n",
              "\n",
              "    .dataframe tbody tr th {\n",
              "        vertical-align: top;\n",
              "    }\n",
              "\n",
              "    .dataframe thead th {\n",
              "        text-align: right;\n",
              "    }\n",
              "</style>\n",
              "<table border=\"1\" class=\"dataframe\">\n",
              "  <thead>\n",
              "    <tr style=\"text-align: right;\">\n",
              "      <th></th>\n",
              "      <th>승차총승객수</th>\n",
              "      <th>하차총승객수</th>\n",
              "    </tr>\n",
              "  </thead>\n",
              "  <tbody>\n",
              "    <tr>\n",
              "      <th>가락시장</th>\n",
              "      <td>16517.50</td>\n",
              "      <td>17179.75</td>\n",
              "    </tr>\n",
              "    <tr>\n",
              "      <th>가산디지털단지</th>\n",
              "      <td>48476.25</td>\n",
              "      <td>48838.00</td>\n",
              "    </tr>\n",
              "    <tr>\n",
              "      <th>가양</th>\n",
              "      <td>19969.00</td>\n",
              "      <td>19634.25</td>\n",
              "    </tr>\n",
              "    <tr>\n",
              "      <th>강남</th>\n",
              "      <td>81613.00</td>\n",
              "      <td>80331.50</td>\n",
              "    </tr>\n",
              "    <tr>\n",
              "      <th>강남구청</th>\n",
              "      <td>15876.25</td>\n",
              "      <td>17420.75</td>\n",
              "    </tr>\n",
              "    <tr>\n",
              "      <th>...</th>\n",
              "      <td>...</td>\n",
              "      <td>...</td>\n",
              "    </tr>\n",
              "    <tr>\n",
              "      <th>화곡</th>\n",
              "      <td>28196.25</td>\n",
              "      <td>26491.25</td>\n",
              "    </tr>\n",
              "    <tr>\n",
              "      <th>화랑대(서울여대입구)</th>\n",
              "      <td>11437.25</td>\n",
              "      <td>8933.25</td>\n",
              "    </tr>\n",
              "    <tr>\n",
              "      <th>회현(남대문시장)</th>\n",
              "      <td>22910.50</td>\n",
              "      <td>24376.00</td>\n",
              "    </tr>\n",
              "    <tr>\n",
              "      <th>효창공원앞</th>\n",
              "      <td>6920.25</td>\n",
              "      <td>6308.25</td>\n",
              "    </tr>\n",
              "    <tr>\n",
              "      <th>흑석(중앙대입구)</th>\n",
              "      <td>7544.25</td>\n",
              "      <td>7961.00</td>\n",
              "    </tr>\n",
              "  </tbody>\n",
              "</table>\n",
              "<p>268 rows × 2 columns</p>\n",
              "</div>"
            ],
            "text/plain": [
              "               승차총승객수    하차총승객수\n",
              "가락시장         16517.50  17179.75\n",
              "가산디지털단지      48476.25  48838.00\n",
              "가양           19969.00  19634.25\n",
              "강남           81613.00  80331.50\n",
              "강남구청         15876.25  17420.75\n",
              "...               ...       ...\n",
              "화곡           28196.25  26491.25\n",
              "화랑대(서울여대입구)  11437.25   8933.25\n",
              "회현(남대문시장)    22910.50  24376.00\n",
              "효창공원앞         6920.25   6308.25\n",
              "흑석(중앙대입구)     7544.25   7961.00\n",
              "\n",
              "[268 rows x 2 columns]"
            ]
          },
          "metadata": {
            "tags": []
          },
          "execution_count": 14
        }
      ]
    },
    {
      "cell_type": "code",
      "metadata": {
        "id": "EhuF1a3BF56_"
      },
      "source": [
        "# 5/31 월요일 기준\n",
        "# (월요일평균 하차 - 승차) vs (테스트날 하차 - 승차)\n",
        "# 테스트날이 월요일평균의 A~B 사이면 보통 / A 미만이면 여유 / B 초과면 혼잡\n",
        "# 계산 위해 리스트로 변환\n",
        "mean_res_MON_1 = mean_res_MON['승차총승객수'].values.tolist()\n",
        "mean_res_MON_2 = mean_res_MON['하차총승객수'].values.tolist()\n",
        "testdata_1 = testdata['승차총승객수'].values.tolist()\n",
        "testdata_2 = testdata['하차총승객수'].values.tolist()"
      ],
      "execution_count": null,
      "outputs": []
    },
    {
      "cell_type": "code",
      "metadata": {
        "colab": {
          "base_uri": "https://localhost:8080/"
        },
        "id": "tXReNrJICrUL",
        "outputId": "8d3b2f3a-4f06-43f1-f2d6-1d1945e63183"
      },
      "source": [
        "print(len(mean_res_MON_1))\n",
        "print(len(mean_res_MON_2))\n",
        "print(len(testdata_1))\n",
        "print(len(testdata_2))"
      ],
      "execution_count": null,
      "outputs": [
        {
          "output_type": "stream",
          "text": [
            "268\n",
            "268\n",
            "268\n",
            "268\n"
          ],
          "name": "stdout"
        }
      ]
    },
    {
      "cell_type": "code",
      "metadata": {
        "colab": {
          "base_uri": "https://localhost:8080/"
        },
        "id": "-8rP24IGGRPd",
        "outputId": "d10d7aa8-02f4-4776-a4c5-93b5bdefe298"
      },
      "source": [
        "print(max(mean_res_MON_1))\n",
        "print(max(mean_res_MON_2))\n",
        "print(max(testdata_1))\n",
        "print(max(testdata_2))"
      ],
      "execution_count": null,
      "outputs": [
        {
          "output_type": "stream",
          "text": [
            "81613.0\n",
            "80331.5\n",
            "77677\n",
            "76332\n"
          ],
          "name": "stdout"
        }
      ]
    },
    {
      "cell_type": "code",
      "metadata": {
        "colab": {
          "base_uri": "https://localhost:8080/"
        },
        "id": "0_1gef_2DgAO",
        "outputId": "97f5a804-c0a8-4848-9bbd-543f60c64eb3"
      },
      "source": [
        "res = []\n",
        "# 현재는 전체 역의 월요일 평균값의 합을 사용 -> 수정 필요 (ex. n호선 평균값)\n",
        "all_sum = sum(mean_res_MON_1) + sum(mean_res_MON_2)\n",
        "for i in range(268):\n",
        "  avg_delta = mean_res_MON_2[i] + mean_res_MON_1[i]\n",
        "  test_delta = testdata_2[i] + testdata_1[i]\n",
        "  all_ratio = avg_delta / all_sum\n",
        "  lower_bnd = avg_delta * all_ratio * 300 * 0.7\n",
        "  upper_bnd = avg_delta * all_ratio * 300 * 1.3\n",
        "  # 0.7~1.3 보통 / 0.7 미만 여유 / 1.3 초과 혼잡 -> 수정 필요 (더 나은 기준값 필요)\n",
        "  if test_delta >= lower_bnd and test_delta <= upper_bnd:\n",
        "    res.append('보통')\n",
        "  elif test_delta > upper_bnd:\n",
        "    res.append('혼잡')\n",
        "  elif test_delta < lower_bnd:\n",
        "    res.append('여유')\n",
        "\n",
        "print(res)"
      ],
      "execution_count": null,
      "outputs": [
        {
          "output_type": "stream",
          "text": [
            "['보통', '여유', '보통', '여유', '보통', '보통', '혼잡', '여유', '혼잡', '혼잡', '혼잡', '혼잡', '혼잡', '여유', '보통', '혼잡', '혼잡', '혼잡', '여유', '여유', '보통', '혼잡', '보통', '여유', '여유', '혼잡', '여유', '여유', '혼잡', '혼잡', '여유', '보통', '보통', '여유', '혼잡', '혼잡', '혼잡', '혼잡', '보통', '보통', '여유', '혼잡', '여유', '보통', '여유', '혼잡', '혼잡', '보통', '보통', '혼잡', '여유', '여유', '보통', '혼잡', '여유', '혼잡', '보통', '보통', '여유', '여유', '혼잡', '혼잡', '혼잡', '혼잡', '혼잡', '혼잡', '혼잡', '혼잡', '혼잡', '여유', '여유', '혼잡', '보통', '혼잡', '혼잡', '혼잡', '보통', '여유', '혼잡', '혼잡', '혼잡', '보통', '혼잡', '혼잡', '보통', '보통', '보통', '보통', '혼잡', '보통', '보통', '혼잡', '혼잡', '보통', '혼잡', '혼잡', '여유', '여유', '보통', '보통', '여유', '혼잡', '보통', '보통', '혼잡', '혼잡', '혼잡', '혼잡', '혼잡', '혼잡', '여유', '혼잡', '보통', '혼잡', '보통', '보통', '보통', '여유', '혼잡', '혼잡', '혼잡', '혼잡', '여유', '보통', '혼잡', '보통', '보통', '혼잡', '보통', '혼잡', '보통', '보통', '혼잡', '보통', '여유', '여유', '보통', '보통', '혼잡', '여유', '혼잡', '여유', '보통', '혼잡', '혼잡', '보통', '보통', '여유', '혼잡', '보통', '보통', '여유', '혼잡', '혼잡', '혼잡', '여유', '혼잡', '여유', '여유', '보통', '여유', '여유', '혼잡', '혼잡', '혼잡', '여유', '보통', '보통', '보통', '혼잡', '보통', '여유', '보통', '혼잡', '여유', '보통', '혼잡', '보통', '혼잡', '보통', '여유', '혼잡', '보통', '여유', '혼잡', '혼잡', '혼잡', '보통', '보통', '여유', '여유', '혼잡', '여유', '보통', '여유', '혼잡', '혼잡', '여유', '혼잡', '혼잡', '혼잡', '보통', '혼잡', '혼잡', '혼잡', '보통', '혼잡', '혼잡', '여유', '보통', '여유', '보통', '보통', '보통', '혼잡', '혼잡', '혼잡', '여유', '보통', '보통', '혼잡', '혼잡', '혼잡', '보통', '보통', '보통', '여유', '여유', '여유', '혼잡', '보통', '혼잡', '혼잡', '혼잡', '혼잡', '혼잡', '여유', '혼잡', '보통', '여유', '여유', '혼잡', '보통', '보통', '보통', '혼잡', '여유', '보통', '보통', '보통', '혼잡', '혼잡', '혼잡', '여유', '혼잡', '혼잡', '보통', '혼잡', '여유', '혼잡', '여유', '여유', '보통', '여유', '혼잡', '여유', '혼잡', '혼잡']\n"
          ],
          "name": "stdout"
        }
      ]
    },
    {
      "cell_type": "code",
      "metadata": {
        "id": "852mOaq7EgNE",
        "colab": {
          "base_uri": "https://localhost:8080/"
        },
        "outputId": "2f39ba57-f178-49e7-c7b3-5fff9fb20aab"
      },
      "source": [
        "a = [] # 여유\n",
        "b = [] # 보통\n",
        "c = [] # 혼잡\n",
        "\n",
        "for i in range(268):\n",
        "  if res[i] == '여유':\n",
        "    a.append(i)\n",
        "  elif res[i] == '보통':\n",
        "    b.append(i)\n",
        "  elif res[i] == '혼잡':\n",
        "    c.append(i)\n",
        "\n",
        "print(len(a))\n",
        "print(len(b))\n",
        "print(len(c))"
      ],
      "execution_count": null,
      "outputs": [
        {
          "output_type": "stream",
          "text": [
            "66\n",
            "83\n",
            "119\n"
          ],
          "name": "stdout"
        }
      ]
    },
    {
      "cell_type": "code",
      "metadata": {
        "colab": {
          "base_uri": "https://localhost:8080/"
        },
        "id": "BR8zHPvVisDi",
        "outputId": "dbef266f-c8f8-48f9-e541-58cf25684f89"
      },
      "source": [
        "recommend_name = []\n",
        "for i in a:\n",
        "  recommend_name.append(stations[i])\n",
        "\n",
        "print(recommend_name)"
      ],
      "execution_count": null,
      "outputs": [
        {
          "output_type": "stream",
          "text": [
            "['가산디지털단지', '강남', '강변(동서울터미널)', '건대입구', '고속터미널', '공덕', '광명사거리', '광화문(세종문화회관)', '교대(법원.검찰청)', '구로디지털단지', '구의(광진구청)', '군자(능동)', '까치산', '낙성대(강감찬)', '남부터미널(예술의전당)', '노량진', '노원', '논현', '당산', '대림(구로구청)', '동대문', '동대문역사문화공원(DDP)', '뚝섬', '문래', '문정', '미아사거리', '봉천', '사당', '삼성(무역센터)', '서울대입구(관악구청)', '서울역', '선릉', '성수', '수유(강북구청)', '시청', '신논현', '신당', '신대방', '신도림', '신림', '신사', '신촌', '쌍문', '압구정', '양재(서초구청)', '여의도', '역삼', '연신내', '영등포구청', '오목교(목동운동장앞)', '을지로3가', '을지로입구', '잠실(송파구청)', '종각', '종로3가', '종로5가', '창동', '천호(풍납토성)', '철산', '충무로', '학동', '합정', '혜화', '홍대입구', '화곡', '회현(남대문시장)']\n"
          ],
          "name": "stdout"
        }
      ]
    },
    {
      "cell_type": "code",
      "metadata": {
        "colab": {
          "base_uri": "https://localhost:8080/"
        },
        "id": "Q-KSZBh0jR4F",
        "outputId": "e846d438-d3d2-4632-bbca-1debe030f35e"
      },
      "source": [
        "# 결과 비교용\n",
        "print(stations)"
      ],
      "execution_count": null,
      "outputs": [
        {
          "output_type": "stream",
          "text": [
            "['가락시장', '가산디지털단지', '가양', '강남', '강남구청', '강동', '강동구청', '강변(동서울터미널)', '강일', '개롱', '개화', '개화산', '거여', '건대입구', '경복궁(정부서울청사)', '경찰병원', '고덕', '고려대(종암)', '고속터미널', '공덕', '공릉(서울과학기술대)', '공항시장', '광나루(장신대)', '광명사거리', '광화문(세종문화회관)', '광흥창(서강)', '교대(법원.검찰청)', '구로디지털단지', '구반포', '구산', '구의(광진구청)', '구파발', '국회의사당', '군자(능동)', '굴포천', '굽은다리(강동구민회관앞)', '금호', '길동', '길음', '김포공항', '까치산', '까치울', '낙성대(강감찬)', '남구로', '남부터미널(예술의전당)', '남성', '남태령', '남한산성입구(성남법원.검찰청)', '내방', '노들', '노량진', '노원', '녹번', '녹사평(용산구청)', '논현', '단대오거리', '답십리', '당고개', '당산', '대림(구로구청)', '대청', '대치', '대흥(서강대앞)', '도곡', '도림천', '도봉산', '독립문', '독바위', '돌곶이', '동대문', '동대문역사문화공원(DDP)', '동대입구', '동묘앞', '동작(현충원)', '둔촌동', '등촌', '디지털미디어시티', '뚝섬', '뚝섬유원지', '마곡', '마곡나루(서울식물원)', '마들', '마장', '마천', '마포', '마포구청', '망원', '매봉', '먹골', '면목', '명동', '명일', '모란', '목동', '몽촌토성(평화의문)', '무악재', '문래', '문정', '미사', '미아(서울사이버대학)', '미아사거리', '반포', '발산', '방배', '방이', '방화', '버티고개', '보라매', '보문', '복정', '봉천', '봉화산(서울의료원)', '부천시청', '부천종합운동장', '부평구청', '불광', '사가정', '사당', '사평', '산성', '삼각지', '삼산체육관', '삼성(무역센터)', '상계', '상도', '상동', '상봉(시외버스터미널)', '상수', '상왕십리', '상월곡(한국과학기술연구원)', '상일동', '새절(신사)', '샛강', '서대문', '서울대입구(관악구청)', '서울역', '서초', '석계', '석촌', '선릉', '선유도', '성수', '성신여대입구(돈암)', '송정', '송파', '수락산', '수서', '수유(강북구청)', '수진', '숙대입구(갈월)', '숭실대입구(살피재)', '시청', '신금호', '신길', '신내', '신논현', '신답', '신당', '신대방', '신대방삼거리', '신도림', '신림', '신목동', '신반포', '신방화', '신사', '신설동', '신용산', '신정(은행정)', '신정네거리', '신중동', '신촌', '신풍', '신흥', '쌍문', '아차산(어린이대공원후문)', '아현', '안국', '안암(고대병원앞)', '암사', '압구정', '애오개', '약수', '양재(서초구청)', '양천구청', '양천향교', '양평', '어린이대공원(세종대)', '여의나루', '여의도', '역삼', '역촌', '연신내', '염창', '영등포구청', '영등포시장', '오금', '오목교(목동운동장앞)', '옥수', '온수(성공회대입구)', '올림픽공원(한국체대)', '왕십리(성동구청)', '용답', '용두(동대문구청)', '용마산(용마폭포공원)', '우장산', '월곡(동덕여대)', '월드컵경기장(성산)', '을지로3가', '을지로4가', '을지로입구', '응암', '이대', '이수', '이촌(국립중앙박물관)', '이태원', '일원', '잠실(송파구청)', '잠실나루', '잠실새내', '잠원', '장승배기', '장암', '장지', '장한평', '제기동', '종각', '종로3가', '종로5가', '종합운동장', '중계', '중곡', '중화', '증미', '증산(명지대앞)', '지축', '창동', '창신', '천왕', '천호(풍납토성)', '철산', '청구', '청담', '청량리(서울시립대입구)', '총신대입구(이수)', '춘의', '충무로', '충정로(경기대입구)', '태릉입구', '하계', '하남검단산', '하남시청(덕풍·신장)', '하남풍산', '학동', '학여울', '한강진', '한성대입구(삼선교)', '한양대', '합정', '행당', '혜화', '홍대입구', '홍제', '화곡', '화랑대(서울여대입구)', '회현(남대문시장)', '효창공원앞', '흑석(중앙대입구)']\n"
          ],
          "name": "stdout"
        }
      ]
    },
    {
      "cell_type": "code",
      "metadata": {
        "id": "OSTT9P7Rjwlk"
      },
      "source": [
        "# 평균 기준이 여러 개 필요\n",
        "# 호선별 / 전체 / 요일별 / 시간대별"
      ],
      "execution_count": null,
      "outputs": []
    },
    {
      "cell_type": "code",
      "metadata": {
        "id": "gUsnoQGi-PGf"
      },
      "source": [
        ""
      ],
      "execution_count": null,
      "outputs": []
    }
  ]
}