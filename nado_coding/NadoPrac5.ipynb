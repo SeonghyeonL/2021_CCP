{
  "nbformat": 4,
  "nbformat_minor": 0,
  "metadata": {
    "colab": {
      "name": "NadoPrac5.ipynb",
      "provenance": [],
      "collapsed_sections": [],
      "authorship_tag": "ABX9TyMOAt9d0lA2woFFNnWWT2ct"
    },
    "kernelspec": {
      "name": "python3",
      "display_name": "Python 3"
    },
    "language_info": {
      "name": "python"
    }
  },
  "cells": [
    {
      "cell_type": "code",
      "metadata": {
        "id": "e56VyqqFomXx"
      },
      "source": [
        "# 10"
      ],
      "execution_count": null,
      "outputs": []
    },
    {
      "cell_type": "code",
      "metadata": {
        "colab": {
          "base_uri": "https://localhost:8080/"
        },
        "id": "5NRSUlDToo2x",
        "outputId": "7a03eaa5-a79b-4fd5-f291-2ae7cb104c3e"
      },
      "source": [
        "try:\n",
        "    print(\"나누기 전용 계산기입니다.\")\n",
        "    num1 = int(input(\"첫 번째 숫자를 입력하세요 : \"))\n",
        "    num2 = int(input(\"두 번째 숫자를 입력하세요 : \"))\n",
        "    print(\"{0} / {1} = {2}\".format(num1, num2, int(num1/num2)))\n",
        "except ValueError:\n",
        "    print(\"에러! 잘못된 값을 입력하였습니다.\")\n",
        "except ZeroDivisionError as err:\n",
        "    print(err) # division by zero"
      ],
      "execution_count": null,
      "outputs": [
        {
          "output_type": "stream",
          "text": [
            "나누기 전용 계산기입니다.\n",
            "첫 번째 숫자를 입력하세요 : 3\n",
            "두 번째 숫자를 입력하세요 : 0\n",
            "division by zero\n"
          ],
          "name": "stdout"
        }
      ]
    },
    {
      "cell_type": "code",
      "metadata": {
        "colab": {
          "base_uri": "https://localhost:8080/"
        },
        "id": "qY2HuG4guNVw",
        "outputId": "5e8ee030-5ecc-4977-d9e0-624dd917d8ec"
      },
      "source": [
        "try:\n",
        "    print(\"나누기 전용 계산기입니다.\")\n",
        "    nums = []\n",
        "    nums.append(int(input(\"첫 번째 숫자를 입력하세요 : \")))\n",
        "    nums.append(int(input(\"두 번째 숫자를 입력하세요 : \")))\n",
        "    #nums.append(int(nums[0] / nums[1])) # 계산 결과를 리스트에 추가\n",
        "    print(\"{0} / {1} = {2}\".format(nums[0], nums[1], nums[2]))\n",
        "except ValueError:\n",
        "    print(\"에러! 잘못된 값을 입력하였습니다.\")\n",
        "except ZeroDivisionError as err:\n",
        "    print(err)\n",
        "except Exception as err:\n",
        "    print(\"알 수 없는 에러가 발생하였습니다.\")\n",
        "    print(err)"
      ],
      "execution_count": null,
      "outputs": [
        {
          "output_type": "stream",
          "text": [
            "나누기 전용 계산기입니다.\n",
            "첫 번째 숫자를 입력하세요 : 3\n",
            "두 번째 숫자를 입력하세요 : 1\n",
            "알 수 없는 에러가 발생하였습니다.\n",
            "list index out of range\n"
          ],
          "name": "stdout"
        }
      ]
    },
    {
      "cell_type": "code",
      "metadata": {
        "colab": {
          "base_uri": "https://localhost:8080/"
        },
        "id": "qzdtScoZxi9U",
        "outputId": "8c4b5e7d-3198-49d4-f3e9-a0979f4c9c0d"
      },
      "source": [
        "try:\n",
        "    print(\"한 자리 숫자 나누기 전용 계산기입니다.\")\n",
        "    num1 = int(input(\"첫 번째 숫자를 입력하세요: \"))\n",
        "    num2 = int(input(\"두 번째 숫자를 입력하세요: \"))\n",
        "    if num1 >= 10 or num2 >= 10: # 입력받은 수가 한 자리인지 확인\n",
        "        raise ValueError # 의도적으로 에러 발생시키기\n",
        "    print(\"{0} / {1} = {2}\".format(num1, num2, int(num1 / num2)))\n",
        "except ValueError:\n",
        "    print(\"잘못된 값을 입력하였습니다. 한 자리 숫자만 입력하세요.\")"
      ],
      "execution_count": null,
      "outputs": [
        {
          "output_type": "stream",
          "text": [
            "한 자리 숫자 나누기 전용 계산기입니다.\n",
            "첫 번째 숫자를 입력하세요: 10\n",
            "두 번째 숫자를 입력하세요: 2\n",
            "잘못된 값을 입력하였습니다. 한 자리 숫자만 입력하세요.\n"
          ],
          "name": "stdout"
        }
      ]
    },
    {
      "cell_type": "code",
      "metadata": {
        "colab": {
          "base_uri": "https://localhost:8080/"
        },
        "id": "fREcUjunyn5l",
        "outputId": "0000756e-bd83-4c86-a1e9-9a6d193f65a9"
      },
      "source": [
        "class BigNumberError(Exception): # 사용자 정의 에러 (Exception은 파이썬에 이미 정의된 클래스)\n",
        "  def __init__(self, msg):\n",
        "    self.msg = msg\n",
        "  def __str__(self):\n",
        "    return \"[에러코드 001] \" + self.msg # 에러 메시지 가공\n",
        "\n",
        "try:\n",
        "  print(\"한 자리 숫자 나누기 전용 계산기입니다.\")\n",
        "  num1 = int(input(\"첫 번째 숫자를 입력하세요: \"))\n",
        "  num2 = int(input(\"두 번째 숫자를 입력하세요: \"))\n",
        "  if num1 >= 10 or num2 >= 10: # 입력받은 수가 한 자리인지 확인\n",
        "    # raise ValueError\n",
        "    raise BigNumberError(\"입력값 : {0}, {1}\".format(num1, num2)) # 자세한 에러 메시지\n",
        "  print(\"{0} / {1} = {2}\".format(num1, num2, int(num1 / num2)))\n",
        "except ValueError:\n",
        "  print(\"잘못된 값을 입력하였습니다.\")\n",
        "except BigNumberError as err: # 사용자 정의 예외 처리\n",
        "  print(\"에러가 발생하였습니다. 한 자리 숫자만 입력하세요.\")\n",
        "  print(err) # 에러 메시지 출력"
      ],
      "execution_count": null,
      "outputs": [
        {
          "output_type": "stream",
          "text": [
            "한 자리 숫자 나누기 전용 계산기입니다.\n",
            "첫 번째 숫자를 입력하세요: 120\n",
            "두 번째 숫자를 입력하세요: 210\n",
            "에러가 발생하였습니다. 한 자리 숫자만 입력하세요.\n",
            "[에러코드 001] 입력값 : 120, 210\n"
          ],
          "name": "stdout"
        }
      ]
    },
    {
      "cell_type": "code",
      "metadata": {
        "colab": {
          "base_uri": "https://localhost:8080/"
        },
        "id": "uGBuOQKQzwzI",
        "outputId": "89039459-b979-4f35-cbc8-daa9b8cd9e05"
      },
      "source": [
        "# finally → try 구문 내에서 에러가 발생하건 말건 try를 벗어나는 시점에 무조건 실행되는 구문\n",
        "\n",
        "class BigNumberError(Exception):\n",
        "    def __init__(self, msg):\n",
        "        self.msg = msg\n",
        "\n",
        "    def __str__(self):\n",
        "        return self.msg\n",
        "\n",
        "try:\n",
        "    print(\"한 자리 숫자 나누기 전용 계산기입니다.\")\n",
        "    num1 = int(input(\"첫 번째 숫자를 입력하세요: \"))\n",
        "    num2 = int(input(\"두 번째 숫자를 입력하세요: \"))\n",
        "    if num1 >= 10 or num2 >= 10:\n",
        "        raise BigNumberError(\"입력값 : {0}, {1}\".format(num1, num2))\n",
        "    print(\"{0} / {1} = {2}\".format(num1, num2, int(num1 / num2)))\n",
        "except ValueError:\n",
        "    print(\"잘못된 값을 입력하였습니다. 한 자리 숫자만 입력하세요.\")\n",
        "except BigNumberError as err:\n",
        "    print(\"에러가 발생하였습니다. 한 자리 숫자만 입력하세요.\")\n",
        "    print(err)\n",
        "finally: # 에러 발생 여부 상관 없이 항상 실행\n",
        "    print(\"계산기를 이용해 주셔서 감사합니다.\")"
      ],
      "execution_count": null,
      "outputs": [
        {
          "output_type": "stream",
          "text": [
            "한 자리 숫자 나누기 전용 계산기입니다.\n",
            "첫 번째 숫자를 입력하세요: 10\n",
            "두 번째 숫자를 입력하세요: 5\n",
            "에러가 발생하였습니다. 한 자리 숫자만 입력하세요.\n",
            "입력값 : 10, 5\n",
            "계산기를 이용해 주셔서 감사합니다.\n"
          ],
          "name": "stdout"
        }
      ]
    },
    {
      "cell_type": "code",
      "metadata": {
        "id": "O45YtLIL1LFU"
      },
      "source": [
        "# 자동 주문 시스템"
      ],
      "execution_count": null,
      "outputs": []
    },
    {
      "cell_type": "code",
      "metadata": {
        "colab": {
          "base_uri": "https://localhost:8080/"
        },
        "id": "VLETVm8t1USn",
        "outputId": "0c25bc6d-f035-424a-8849-00489bc2ea32"
      },
      "source": [
        "class SoldOutError(Exception):\n",
        "  pass\n",
        "\n",
        "chicken = 10 # 남은 치킨 수\n",
        "waiting = 1 # 홀 안에는 현재 만석. 대기번호 1부터 시작\n",
        "\n",
        "while(True):\n",
        "  try:\n",
        "    print(\"[남은 치킨 : {0}]\".format(chicken))\n",
        "    order = int(input(\"치킨 몇 마리 주문하시겠습니까?\"))\n",
        "    if order > chicken: # 남은 치킨보다 주문량이 많을 때\n",
        "      print(\"재료가 부족합니다.\")\n",
        "    elif order <= 0:\n",
        "      raise ValueError\n",
        "    else:\n",
        "      print(\"[대기번호 {0}] {1} 마리 주문이 완료되었습니다.\".format(waiting, order))\n",
        "      waiting += 1 # 대기번호 증가\n",
        "      chicken -= order # 주문 수 만큼 남은 치킨 감소\n",
        "    if chicken == 0:\n",
        "      raise SoldOutError\n",
        "  except ValueError:\n",
        "    print(\"잘못된 값을 입력하였습니다.\")\n",
        "  except SoldOutError:\n",
        "    print(\"재고가 소진되어 더 이상 주문을 받지 않습니다.\")\n",
        "    break"
      ],
      "execution_count": null,
      "outputs": [
        {
          "output_type": "stream",
          "text": [
            "[남은 치킨 : 10]\n",
            "치킨 몇 마리 주문하시겠습니까?5\n",
            "[대기번호 1] 5 마리 주문이 완료되었습니다.\n",
            "[남은 치킨 : 5]\n",
            "치킨 몇 마리 주문하시겠습니까?3\n",
            "[대기번호 2] 3 마리 주문이 완료되었습니다.\n",
            "[남은 치킨 : 2]\n",
            "치킨 몇 마리 주문하시겠습니까?0\n",
            "잘못된 값을 입력하였습니다.\n",
            "[남은 치킨 : 2]\n",
            "치킨 몇 마리 주문하시겠습니까?-1\n",
            "잘못된 값을 입력하였습니다.\n",
            "[남은 치킨 : 2]\n",
            "치킨 몇 마리 주문하시겠습니까?4\n",
            "재료가 부족합니다.\n",
            "[남은 치킨 : 2]\n",
            "치킨 몇 마리 주문하시겠습니까?2\n",
            "[대기번호 3] 2 마리 주문이 완료되었습니다.\n",
            "재고가 소진되어 더 이상 주문을 받지 않습니다.\n"
          ],
          "name": "stdout"
        }
      ]
    },
    {
      "cell_type": "code",
      "metadata": {
        "id": "d7AbMQ3i2wzw"
      },
      "source": [
        ""
      ],
      "execution_count": null,
      "outputs": []
    }
  ]
}