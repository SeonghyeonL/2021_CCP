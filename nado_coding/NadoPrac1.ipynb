{
  "nbformat": 4,
  "nbformat_minor": 0,
  "metadata": {
    "colab": {
      "name": "NadoPrac1.ipynb",
      "provenance": [],
      "collapsed_sections": [],
      "authorship_tag": "ABX9TyO+UjMGBj1Mmgdke5w81cy0"
    },
    "kernelspec": {
      "name": "python3",
      "display_name": "Python 3"
    },
    "language_info": {
      "name": "python"
    }
  },
  "cells": [
    {
      "cell_type": "code",
      "metadata": {
        "id": "fS4-skDo_T2B"
      },
      "source": [
        "# 1~4"
      ],
      "execution_count": null,
      "outputs": []
    },
    {
      "cell_type": "code",
      "metadata": {
        "id": "7gfG1xRaxTZ9"
      },
      "source": [
        "print(\"hello world\")\n",
        "print('풍선') # 작은 따옴표로 감싼 문자열 \n",
        "print(\"나비\") # 큰 따옴표로 감싼 문자열 \n",
        "print(\"ㅋㅋㅋㅋㅋㅋㅋㅋㅋ\") # 긴 문자열 \n",
        "print(\"ㅋ\"*9) # ㅋ 을 9번 출력"
      ],
      "execution_count": null,
      "outputs": []
    },
    {
      "cell_type": "code",
      "metadata": {
        "id": "pQKhY3OZyE6c"
      },
      "source": [
        "print(5) # 5 출력\n",
        "print(-10) # -10 출력\n",
        "print(3.14) # 3.14 출력\n",
        "print(1000) # 1000 출력\n",
        "print(5+3) # 8 출력\n",
        "print(2*8) # 16 출력 (주의 : x 가 아닌 * 예요)\n",
        "print(3*(3+1)) # 12 출력"
      ],
      "execution_count": null,
      "outputs": []
    },
    {
      "cell_type": "code",
      "metadata": {
        "id": "y3xJuTdKyVT5"
      },
      "source": [
        "print(5 > 10) # False 출력 \n",
        "print(5 < 10) # True 출력 \n",
        "print(True) # True \n",
        "print(False) # False \n",
        "print(not True) # False 출력 \n",
        "print(not False) # True 출력 \n",
        "print(not (5 > 10)) # True 출력 "
      ],
      "execution_count": null,
      "outputs": []
    },
    {
      "cell_type": "code",
      "metadata": {
        "id": "57XlxDbIypzo"
      },
      "source": [
        "name = \"연탄이\"\n",
        "animal = \"강아지\"\n",
        "age = 4\n",
        "hobby = \"산책\"\n",
        "is_adult = age >= 3"
      ],
      "execution_count": null,
      "outputs": []
    },
    {
      "cell_type": "code",
      "metadata": {
        "id": "JH27TRIFzLDI"
      },
      "source": [
        "# 애완동물을 소개해 주세요~\n",
        "print(\"우리집 \" + animal + \"의 이름은 \" + name + \"에요\") # 이름 소개\n",
        "print(name + \"는 \" + str(age) + \"살이며, \" + hobby + \"을 아주 좋아해요\")  # 나이, 취미 소개\n",
        "print(name, \"는 \", age, \"살이며, \", hobby, \"(을)를 아주 좋아해요\")\n",
        "print(name + \"는 어른일까요? \" + str(is_adult)) # 어른인지 여부 확인"
      ],
      "execution_count": null,
      "outputs": []
    },
    {
      "cell_type": "code",
      "metadata": {
        "id": "Ck71dfOHzCu_"
      },
      "source": [
        "animal = \"고양이\"\n",
        "name = \"해피\"\n",
        "age = 4\n",
        "hobby = \"낮잠\"\n",
        "is_adult = age >= 3"
      ],
      "execution_count": null,
      "outputs": []
    },
    {
      "cell_type": "code",
      "metadata": {
        "id": "gqTHFX4hzGR5"
      },
      "source": [
        "station = \"사당\"\n",
        "print(station + \"행 열차가 들어오고 있습니다\")"
      ],
      "execution_count": null,
      "outputs": []
    },
    {
      "cell_type": "code",
      "metadata": {
        "id": "AMdMSD2W0tg2"
      },
      "source": [
        "print(1 + 1) # 2\n",
        "print(3 - 2) # 1\n",
        "print(5 * 2) # 10\n",
        "print(6 / 3) # 2.0\n",
        "print(2 ** 3) # 2의 3제곱 = 2^3 = 8\n",
        "print(5 % 3) # 5를 3으로 나눈 나머지 = 2\n",
        "print(10 % 3) # 10을 3으로 나눈 나머지 = 1\n",
        "print(5 // 3) # 5를 3으로 나눈 몫 = 1\n",
        "print(10 // 3) # 10을 3으로 나눈 몫 = 3"
      ],
      "execution_count": null,
      "outputs": []
    },
    {
      "cell_type": "code",
      "metadata": {
        "id": "ViJ8EwKV007P"
      },
      "source": [
        "print(10 > 3) # True\n",
        "print(4 >= 7) # False\n",
        "print(10 < 3) # False\n",
        "print(5 <= 5) # True"
      ],
      "execution_count": null,
      "outputs": []
    },
    {
      "cell_type": "code",
      "metadata": {
        "id": "hj7_d-e31J8X"
      },
      "source": [
        "# 좌항과 우항이 같은지 비교\n",
        "print(3 == 3) # 같으므로 True\n",
        "print(4 == 2) # 다르므로 False\n",
        "print(3 + 4 == 7) # 같으므로 True\n",
        "\n",
        "# 좌항과 우항이 다른지 비교\n",
        "print(1 != 3) # 다르므로 True"
      ],
      "execution_count": null,
      "outputs": []
    },
    {
      "cell_type": "code",
      "metadata": {
        "id": "cm_Jz89m0_zB"
      },
      "source": [
        "# 좌항과 우항이 모두 참인가?\n",
        "print((3 > 0) and (3 > 5)) # 좌항(3 > 0) 은 참이지만 우항(3 > 5) 는 거짓이므로 False \n",
        "\n",
        "# 좌항 또는 우항 중 하나라도 참인가?\n",
        "print((3 > 0) or (3 > 5)) # 좌항(3 > 0) 이 참이므로 우항(3 > 5) 이 거짓이라도 True\n",
        "\n",
        "# 좌항과 우항이 다른지 비교한 결과의 반대\n",
        "print(not(1 != 3)) # 1과 3은 다르므로 True 인데, True 의 반대이므로 False"
      ],
      "execution_count": null,
      "outputs": []
    },
    {
      "cell_type": "code",
      "metadata": {
        "id": "X5W-AX5V1Hnf"
      },
      "source": [
        "print(5 > 4 > 3) # (5 > 4) 도 참이며 (4 > 3) 도 참이므로 True\n",
        "print(5 > 4 > 7) # (5 > 4) 는 참이지만 (4 > 7) 은 거짓이므로 False"
      ],
      "execution_count": null,
      "outputs": []
    },
    {
      "cell_type": "code",
      "metadata": {
        "id": "V2jdliHf1IBT"
      },
      "source": [
        "print(2 + 3 * 4) # 14\n",
        "print((2 + 3) * 4) # 20"
      ],
      "execution_count": null,
      "outputs": []
    },
    {
      "cell_type": "code",
      "metadata": {
        "id": "zXtdFZr5104C"
      },
      "source": [
        "number = 2 + 3 * 4\n",
        "print(number) # 14\n",
        "number = number + 2\n",
        "print(number) # 16\n",
        "number += 2 # number = number + 2 와 동일\n",
        "print(number) # 18\n",
        "number *= 2 # number = number * 2 와 동일\n",
        "print(number) # 36\n",
        "number /= 2 # number = number / 2 와 동일\n",
        "print(number) # 18\n",
        "number -= 2 # number = number - 2 와 동일\n",
        "print(number) # 16\n",
        "number %= 2 # number = number % 2 와 동일\n",
        "print(number) # 0"
      ],
      "execution_count": null,
      "outputs": []
    },
    {
      "cell_type": "code",
      "metadata": {
        "id": "_ms5xHkE2E2P"
      },
      "source": [
        "print(abs(-5)) # -5 의 절대값 = 5\n",
        "print(pow(4, 2)) # 4의 2제곱 = 4 * 4 = 16\n",
        "print(max(5, 12)) # 5 와 12 중 큰 값 = 12\n",
        "print(min(5, 12)) # 5 와 12 중 작은 값 = 5\n",
        "print(round(3.14)) # 3.14 의 반올림 = 3\n",
        "print(round(4.99)) # 4.99 의 반올림 = 5"
      ],
      "execution_count": null,
      "outputs": []
    },
    {
      "cell_type": "code",
      "metadata": {
        "id": "f-c610vV2ZAd"
      },
      "source": [
        "from math import * # math 모듈 내의 모든 내용을 가져다 쓰겠다는 의미\n",
        "\n",
        "print(floor(4.99)) # 4.99 의 내림 = 4\n",
        "print(ceil(3.14)) # 3.14 의 올림 = 4\n",
        "print(sqrt(16)) # 16 의 제곱근 = 4"
      ],
      "execution_count": null,
      "outputs": []
    },
    {
      "cell_type": "code",
      "metadata": {
        "id": "cx3hAYbZ2gQn"
      },
      "source": [
        "import math # math 모듈을 가져다 쓰겠다는 의미\n",
        "\n",
        "print(math.floor(4.99)) # math. 과 함께 사용\n",
        "print(math.ceil(3.14))\n",
        "print(math.sqrt(16))"
      ],
      "execution_count": null,
      "outputs": []
    },
    {
      "cell_type": "code",
      "metadata": {
        "id": "4dKEY5_72mnM"
      },
      "source": [
        "from random import * # random 모듈에서 모든 것들을 가져다 쓰겠다는 의미\n",
        "\n",
        "print(random()) # 0.0 이상 1.0 미만의 임의의 값 생성\n",
        "print(random() * 10) # 0.0 이상 10.0 미만의 임의의 값 생성\n",
        "print(int(random() * 10)) # 0 이상 10 미만의 임의의 정수 값 생성\n",
        "print(int(random() * 10) + 1) # 1 이상 10 이하 (11 미만) 의 임의의 정수 값 생성\n",
        "\n",
        "print(int(random() * 45) + 1) # 1 이상 46 미만의 임의의 정수 값 생성"
      ],
      "execution_count": null,
      "outputs": []
    },
    {
      "cell_type": "code",
      "metadata": {
        "id": "CeUtXiDx5aBR"
      },
      "source": [
        "print(randrange(1, 46)) # 1 이상 46 미만의 임의의 정수 값 생성\n",
        "print(randint(1, 45)) # 1 이상 45 이하(45를 포함해요!!)의 임의의 정수 값 생성"
      ],
      "execution_count": null,
      "outputs": []
    },
    {
      "cell_type": "code",
      "metadata": {
        "colab": {
          "base_uri": "https://localhost:8080/"
        },
        "id": "BxMqt-Kw5lbj",
        "outputId": "235ee877-0203-470b-98f7-b8098265632f"
      },
      "source": [
        "print(\"오프라인 스터디 모임 날짜는 매월 \" + str(randint(4,28)) + \"일로 선정되었습니다.\")"
      ],
      "execution_count": null,
      "outputs": [
        {
          "output_type": "stream",
          "text": [
            "오프라인 스터디 모임 날짜는 매월 21일로 선정되었습니다.\n"
          ],
          "name": "stdout"
        }
      ]
    },
    {
      "cell_type": "code",
      "metadata": {
        "colab": {
          "base_uri": "https://localhost:8080/"
        },
        "id": "PcV0jble5-ju",
        "outputId": "72dfadec-4003-483c-9287-988b32b400f3"
      },
      "source": [
        "sentence1 = '나는 소년입니다'\n",
        "print(sentence1) # 나는 소년입니다\n",
        "sentence2 = \"파이썬은 쉬워요\"\n",
        "print(sentence2) # 파이썬은 쉬워요\n",
        "sentence3 = \"\"\"\n",
        "나는 소년이고,\n",
        "파이썬은 쉬워요\n",
        "\"\"\"\n",
        "print(sentence3) # 큰 따옴표 대신 작은 따옴표 3개씩으로 감싸도 돼요\n",
        "\n",
        "# 문장 앞에 변수가 있으면 여러 줄에 걸친 문자열로, 변수가 없으면 여러 줄에 대한 주석으로 인식"
      ],
      "execution_count": null,
      "outputs": [
        {
          "output_type": "stream",
          "text": [
            "나는 소년입니다\n",
            "파이썬은 쉬워요\n",
            "\n",
            "나는 소년이고,\n",
            "파이썬은 쉬워요\n",
            "\n"
          ],
          "name": "stdout"
        }
      ]
    },
    {
      "cell_type": "code",
      "metadata": {
        "colab": {
          "base_uri": "https://localhost:8080/"
        },
        "id": "wa6Tgngr634M",
        "outputId": "1f44ba1c-356d-4deb-a860-d7cf8dc94739"
      },
      "source": [
        "jumin = \"990120-1234567\"\n",
        "\n",
        "print(\"성별 : \" + jumin[7]) # 성별 : 1\n",
        "print(\"연 : \" + jumin[0:2]) # 0 부터 2 직전까지 (0, 1) : 99 년\n",
        "print(\"월 : \" + jumin[2:4]) # 2 부터 4 직전까지 (2, 3) : 01 월\n",
        "print(\"일 : \" + jumin[4:6]) # 4 부터 6 직전까지 (4, 5) : 20 일\n",
        "print(\"생년월일 : \" + jumin[:6]) # 처음부터 6 직전까지 -> jumin[0:6] 과 동일\n",
        "print(\"뒤 7자리 : \" + jumin[7:]) # 7 부터 끝까지 -> jumin[7:14] 와 동일\n",
        "print(\"뒤 7자리 (뒤에부터) : \" + jumin[-7:]) # 맨 뒤에서 7번째 위치로부터 끝까지"
      ],
      "execution_count": null,
      "outputs": [
        {
          "output_type": "stream",
          "text": [
            "성별 : 1\n",
            "연 : 99\n",
            "월 : 01\n",
            "일 : 20\n",
            "생년월일 : 990120\n",
            "뒤 7자리 : 1234567\n",
            "뒤 7자리 (뒤에부터) : 1234567\n"
          ],
          "name": "stdout"
        }
      ]
    },
    {
      "cell_type": "code",
      "metadata": {
        "colab": {
          "base_uri": "https://localhost:8080/"
        },
        "id": "CumRbCcM7GOH",
        "outputId": "8c0658ce-9f9a-4d10-fc58-e0a666174af0"
      },
      "source": [
        "python = \"Python is Amazing\"\n",
        "\n",
        "print(python.lower()) # python is amazing\n",
        "print(python.upper()) # PYTHON IS AMAZING\n",
        "print(python[0].isupper()) # True : 0 번째 인덱스의 값이 대문자인지 확인\n",
        "print(python[1].islower()) # True : 1 번째 인덱스의 값이 대문자인지 확인\n",
        "print(len(python)) # 17 : 띄어쓰기를 포함한 문자열의 전체 길이 (length)\n",
        "print(python.replace(\"Python\", \"Java\")) # Java is Amazing"
      ],
      "execution_count": null,
      "outputs": [
        {
          "output_type": "stream",
          "text": [
            "python is amazing\n",
            "PYTHON IS AMAZING\n",
            "True\n",
            "True\n",
            "17\n",
            "Java is Amazing\n"
          ],
          "name": "stdout"
        }
      ]
    },
    {
      "cell_type": "code",
      "metadata": {
        "colab": {
          "base_uri": "https://localhost:8080/"
        },
        "id": "U_6kUzw79F8H",
        "outputId": "206da6f9-01af-4681-ce6a-9e0294001da1"
      },
      "source": [
        "index = python.index(\"n\") # 처음으로 발견된 n 의 인덱스\n",
        "print(index) # 5 : Python 의 n\n",
        "index = python.index(\"n\", index + 1) # 6 번째 인덱스 이후에 처음으로 발견된 n 의 인덱스 \n",
        "print(index) # 15 : Amazing 의 n\n",
        "#index = python.index(\"n\", index + 1) # 없으면 에러 \n",
        "#print(index) # error\n",
        "\n",
        "find = python.find(\"n\") # 처음으로 발견된 n 의 인덱스\n",
        "print(find) # 5 : Python 의 n\n",
        "find = python.find(\"n\", find + 1) # 6 번째 인덱스 이후에 처음으로 발견된 n 의 인덱스\n",
        "print(find) # 15 : Amazing 의 n\n",
        "find = python.find(\"n\", find + 1) # 없으면 -1\n",
        "print(find) # -1"
      ],
      "execution_count": null,
      "outputs": [
        {
          "output_type": "stream",
          "text": [
            "5\n",
            "15\n",
            "5\n",
            "15\n",
            "-1\n"
          ],
          "name": "stdout"
        }
      ]
    },
    {
      "cell_type": "code",
      "metadata": {
        "colab": {
          "base_uri": "https://localhost:8080/"
        },
        "id": "8MyO2yzn9Md9",
        "outputId": "8b03b2d1-554e-4a94-e792-22f63e951d51"
      },
      "source": [
        "#print(python.index(\"Java\")) # Java 가 없기 때문에 에러가 발생하며 프로그램 종료\n",
        "print(python.find(\"Java\")) # Java 가 없으면 -1 을 반환(출력)하며 프로그램 계속 수행"
      ],
      "execution_count": null,
      "outputs": [
        {
          "output_type": "stream",
          "text": [
            "-1\n"
          ],
          "name": "stdout"
        }
      ]
    },
    {
      "cell_type": "code",
      "metadata": {
        "colab": {
          "base_uri": "https://localhost:8080/"
        },
        "id": "pe_a5-5H9yLc",
        "outputId": "680706fd-e829-43fe-d736-0958a846a56f"
      },
      "source": [
        "print(python.count(\"n\")) # 2 : 문자열 내에서 n 이 나온 횟수"
      ],
      "execution_count": null,
      "outputs": [
        {
          "output_type": "stream",
          "text": [
            "2\n"
          ],
          "name": "stdout"
        }
      ]
    },
    {
      "cell_type": "code",
      "metadata": {
        "colab": {
          "base_uri": "https://localhost:8080/"
        },
        "id": "CSFBO4NE93Eh",
        "outputId": "18ff5ea4-c58a-437c-c2f1-4f61e81e0a5f"
      },
      "source": [
        "print(\"a\" + \"b\") # ab\n",
        "print(\"a\", \"b\") # a b"
      ],
      "execution_count": null,
      "outputs": [
        {
          "output_type": "stream",
          "text": [
            "ab\n",
            "a b\n"
          ],
          "name": "stdout"
        }
      ]
    },
    {
      "cell_type": "code",
      "metadata": {
        "colab": {
          "base_uri": "https://localhost:8080/"
        },
        "id": "1PqOsGIz98qr",
        "outputId": "4709d70a-deaf-4cd9-c0b9-7b1846f97767"
      },
      "source": [
        "print(\"나는 %d살입니다.\" % 20) # 나는 20살입니다\n",
        "print(\"나는 %s을 좋아합니다.\" % \"파이썬\") # 나는 파이썬을 좋아합니다.\n",
        "print(\"Apple 은 %c로 시작해요.\" % \"A\") # Apple 은 A로 시작해요.\n",
        "\n",
        "print(\"나는 %s살입니다.\" % 20) # 나는 20살입니다 (%s 로도 정수값 표현 가능)"
      ],
      "execution_count": null,
      "outputs": [
        {
          "output_type": "stream",
          "text": [
            "나는 20살입니다.\n",
            "나는 파이썬을 좋아합니다.\n",
            "Apple 은 A로 시작해요.\n",
            "나는 20살입니다.\n"
          ],
          "name": "stdout"
        }
      ]
    },
    {
      "cell_type": "code",
      "metadata": {
        "colab": {
          "base_uri": "https://localhost:8080/"
        },
        "id": "x9FOHwLZ-jUv",
        "outputId": "3c5d4684-8e5e-4080-c432-4a0603ca71a6"
      },
      "source": [
        "print(\"나는 %s색과 %d을 좋아해요.\" % (\"파란\", 20)) # 나는 파란색과 빨간색을 좋아해요."
      ],
      "execution_count": null,
      "outputs": [
        {
          "output_type": "stream",
          "text": [
            "나는 파란색과 20을 좋아해요.\n"
          ],
          "name": "stdout"
        }
      ]
    },
    {
      "cell_type": "code",
      "metadata": {
        "colab": {
          "base_uri": "https://localhost:8080/"
        },
        "id": "aI94eoYl-mF2",
        "outputId": "af62ed31-50a8-4d84-eb27-a690846f756b"
      },
      "source": [
        "print(\"나는 {}살입니다.\".format(20)) # 나는 20살입니다.\n",
        "print(\"나는 {}색과 {}색을 좋아해요.\".format(\"파란\", \"빨간\")) # 나는 파란색과 빨간색을 좋아해요\n",
        "print(\"나는 {0}색과 {1}색을 좋아해요.\".format(\"파란\", \"빨간\")) # 나는 파란색과 빨간색을 좋아해요\n",
        "print(\"나는 {1}색과 {0}색을 좋아해요.\".format(\"파란\", \"빨간\")) # 나는 빨간색과 파란색을 좋아해요"
      ],
      "execution_count": null,
      "outputs": [
        {
          "output_type": "stream",
          "text": [
            "나는 20살입니다.\n",
            "나는 파란색과 빨간색을 좋아해요.\n",
            "나는 파란색과 빨간색을 좋아해요.\n",
            "나는 빨간색과 파란색을 좋아해요.\n"
          ],
          "name": "stdout"
        }
      ]
    },
    {
      "cell_type": "code",
      "metadata": {
        "colab": {
          "base_uri": "https://localhost:8080/"
        },
        "id": "kUdbfwYm-4ZH",
        "outputId": "67172fe7-b355-4e09-fa90-8daf555dc115"
      },
      "source": [
        "print(\"나는 {age}살이며, {color}색을 좋아해요.\".format(age=20, color=\"빨간\"))\n",
        "# 나는 20살이며, 빨간색을 좋아해요\n",
        "\n",
        "print(\"나는 {age}살이며, {color}색을 좋아해요.\".format(color=\"빨간\", age=20))\n",
        "# 나는 20살이며, 빨간색을 좋아해요 (.format 뒤에 순서를 변경해도 괜찮아요)"
      ],
      "execution_count": null,
      "outputs": [
        {
          "output_type": "stream",
          "text": [
            "나는 20살이며, 빨간색을 좋아해요.\n",
            "나는 20살이며, 빨간색을 좋아해요.\n"
          ],
          "name": "stdout"
        }
      ]
    },
    {
      "cell_type": "code",
      "metadata": {
        "colab": {
          "base_uri": "https://localhost:8080/"
        },
        "id": "4qBko1z9-8gc",
        "outputId": "885bd273-c9b4-4112-cc9d-de0ac689493b"
      },
      "source": [
        "age = 20\n",
        "color = \"빨간\"\n",
        "print(f\"나는 {age}살이며, {color}색을 좋아해요.\") # 나는 20살이며, 빨간색을 좋아해요."
      ],
      "execution_count": null,
      "outputs": [
        {
          "output_type": "stream",
          "text": [
            "나는 20살이며, 빨간색을 좋아해요.\n"
          ],
          "name": "stdout"
        }
      ]
    },
    {
      "cell_type": "code",
      "metadata": {
        "colab": {
          "base_uri": "https://localhost:8080/"
        },
        "id": "-IRbk4i__AHS",
        "outputId": "dea28241-fee5-47b3-fbd0-2ec2dcfaa8c1"
      },
      "source": [
        "print(\"백문이 불여일견\\n백견이 불여일타\")"
      ],
      "execution_count": null,
      "outputs": [
        {
          "output_type": "stream",
          "text": [
            "백문이 불여일견\n",
            "백견이 불여일타\n"
          ],
          "name": "stdout"
        }
      ]
    },
    {
      "cell_type": "code",
      "metadata": {
        "colab": {
          "base_uri": "https://localhost:8080/"
        },
        "id": "fNn3vRK__F-4",
        "outputId": "ee9b901b-25a9-4869-ec19-4cd0adf6c522"
      },
      "source": [
        "print('저는 \"나도코딩\"입니다.') # 저는 \"나도코딩\"입니다.\n",
        "print(\"저는 '나도코딩'입니다.\") # 저는 '나도코딩'입니다.\n",
        "print(\"저는 \\\"나도코딩\\\"입니다.\") # 저는 \"나도코딩\"입니다.\n",
        "print(\"저는 \\'나도코딩\\'입니다.\") # 저는 '나도코딩'입니다."
      ],
      "execution_count": null,
      "outputs": [
        {
          "output_type": "stream",
          "text": [
            "저는 \"나도코딩\"입니다.\n",
            "저는 '나도코딩'입니다.\n",
            "저는 \"나도코딩\"입니다.\n",
            "저는 '나도코딩'입니다.\n"
          ],
          "name": "stdout"
        }
      ]
    },
    {
      "cell_type": "code",
      "metadata": {
        "colab": {
          "base_uri": "https://localhost:8080/"
        },
        "id": "1hCwyjp1_R6Y",
        "outputId": "0000ea01-4a8f-465c-aee3-0c2c9691e21c"
      },
      "source": [
        "print(\"C:\\\\Users\\\\Nadocoding\\\\Desktop\\\\PythonWorkspace>\")"
      ],
      "execution_count": null,
      "outputs": [
        {
          "output_type": "stream",
          "text": [
            "C:\\Users\\Nadocoding\\Desktop\\PythonWorkspace>\n"
          ],
          "name": "stdout"
        }
      ]
    },
    {
      "cell_type": "code",
      "metadata": {
        "colab": {
          "base_uri": "https://localhost:8080/"
        },
        "id": "H5ttTtcI_WXR",
        "outputId": "a0781568-786b-4352-f046-1d431102a681"
      },
      "source": [
        "print(r\"C:\\Users\\Nadocoding\\Desktop\\PythonWorkspace>\") # raw string"
      ],
      "execution_count": null,
      "outputs": [
        {
          "output_type": "stream",
          "text": [
            "C:\\Users\\Nadocoding\\Desktop\\PythonWorkspace>\n"
          ],
          "name": "stdout"
        }
      ]
    },
    {
      "cell_type": "code",
      "metadata": {
        "colab": {
          "base_uri": "https://localhost:8080/"
        },
        "id": "Qh_zmPXF_ZAq",
        "outputId": "002614de-768b-49fe-b7b2-0db361de4750"
      },
      "source": [
        "print(\"Red Apple\\rPine\") # Pine (커서를 맨 앞으로 이동시키는 역할)\n",
        "print(\"Redd\\bApple\") # RedApple (키보드의 백스페이스와 같은 역할)\n",
        "print(\"Red\\tApple\") # Red     Apple (키보드의 Tab처럼 여러 칸(보통 8칸 단위)을 띄어주는 역할)"
      ],
      "execution_count": null,
      "outputs": [
        {
          "output_type": "stream",
          "text": [
            "Red Apple\rPine\n",
            "Redd\bApple\n",
            "Red\tApple\n"
          ],
          "name": "stdout"
        }
      ]
    },
    {
      "cell_type": "code",
      "metadata": {
        "colab": {
          "base_uri": "https://localhost:8080/"
        },
        "id": "FEVT0h8u_dYm",
        "outputId": "0a115a9e-0529-4dfe-a7b6-848fc16276e0"
      },
      "source": [
        "url = \"http://daum.net\"\n",
        "url = url.replace(\"http://\", \"\")\n",
        "url = url[:url.index(\".\")] # .의 앞까지만\n",
        "pwd = url[:3]+str(len(url))+str(url.count(\"e\"))+\"!\"\n",
        "print(\"비밀번호는 {0}입니다.\".format(pwd))"
      ],
      "execution_count": null,
      "outputs": [
        {
          "output_type": "stream",
          "text": [
            "비밀번호는 dau40!입니다.\n"
          ],
          "name": "stdout"
        }
      ]
    },
    {
      "cell_type": "code",
      "metadata": {
        "id": "za-nEDAS-VxJ"
      },
      "source": [
        ""
      ],
      "execution_count": null,
      "outputs": []
    }
  ]
}