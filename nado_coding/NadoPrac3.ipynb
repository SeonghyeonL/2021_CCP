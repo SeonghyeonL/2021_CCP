{
  "nbformat": 4,
  "nbformat_minor": 0,
  "metadata": {
    "colab": {
      "name": "NadoPrac3.ipynb",
      "provenance": [],
      "collapsed_sections": [],
      "authorship_tag": "ABX9TyM0a/VNEQsRB5HeBheQJqF3"
    },
    "kernelspec": {
      "name": "python3",
      "display_name": "Python 3"
    },
    "language_info": {
      "name": "python"
    }
  },
  "cells": [
    {
      "cell_type": "code",
      "metadata": {
        "id": "Av8txIID6foB"
      },
      "source": [
        "# 8"
      ],
      "execution_count": null,
      "outputs": []
    },
    {
      "cell_type": "code",
      "metadata": {
        "colab": {
          "base_uri": "https://localhost:8080/"
        },
        "id": "IWmGginB6uOF",
        "outputId": "0197a20c-2b00-496d-c32f-c1eb38cd8b98"
      },
      "source": [
        "print(\"Python\", \"Java\")\n",
        "print(\"Python\" + \"Java\")\n",
        "print(\"Python\", \"Java\", sep=\",\") # 값들을 콤마(,) 로 구분\n",
        "print(\"Python\", \"Java\", \"JavaScript\", sep=\" vs \") # 값들을 \" vs \" 로 구분"
      ],
      "execution_count": null,
      "outputs": [
        {
          "output_type": "stream",
          "text": [
            "Python Java\n",
            "PythonJava\n",
            "Python,Java\n",
            "Python vs Java vs JavaScript\n"
          ],
          "name": "stdout"
        }
      ]
    },
    {
      "cell_type": "code",
      "metadata": {
        "colab": {
          "base_uri": "https://localhost:8080/"
        },
        "id": "QCYmlpP36_Kt",
        "outputId": "6134ada6-65e4-483a-920c-93e560566a09"
      },
      "source": [
        "print(\"Python\", \"Java\", sep=\",\")\n",
        "print(\"무엇이 더 재밌을까요?\")"
      ],
      "execution_count": null,
      "outputs": [
        {
          "output_type": "stream",
          "text": [
            "Python,Java\n",
            "무엇이 더 재밌을까요?\n"
          ],
          "name": "stdout"
        }
      ]
    },
    {
      "cell_type": "code",
      "metadata": {
        "colab": {
          "base_uri": "https://localhost:8080/"
        },
        "id": "QzByXx3e6vCm",
        "outputId": "26bd554d-53ef-4fac-9ecd-ce1dce55f31b"
      },
      "source": [
        "print(\"Python\", \"Java\", sep=\",\", end=\"?\")\n",
        "print(\"무엇이 더 재밌을까요?\")"
      ],
      "execution_count": null,
      "outputs": [
        {
          "output_type": "stream",
          "text": [
            "Python,Java?무엇이 더 재밌을까요?\n"
          ],
          "name": "stdout"
        }
      ]
    },
    {
      "cell_type": "code",
      "metadata": {
        "colab": {
          "base_uri": "https://localhost:8080/"
        },
        "id": "XipLQkMd7DmH",
        "outputId": "2c55c5d8-9a28-4389-b0cb-65ad0ad3f46b"
      },
      "source": [
        "import sys # sys 모듈을 가져와서 사용하겠다는 의미\n",
        "print(\"Python\", \"Java\", file=sys.stdout) # 표준 출력\n",
        "print(\"Python\", \"Java\", file=sys.stderr) # 표준 에러\n",
        "\n",
        "# stdout 은 일반적인 내용을, stderr 는 에러 발생 시 관련 내용을 출력"
      ],
      "execution_count": null,
      "outputs": [
        {
          "output_type": "stream",
          "text": [
            "Python Java\n"
          ],
          "name": "stdout"
        },
        {
          "output_type": "stream",
          "text": [
            "Python Java\n"
          ],
          "name": "stderr"
        }
      ]
    },
    {
      "cell_type": "code",
      "metadata": {
        "colab": {
          "base_uri": "https://localhost:8080/"
        },
        "id": "5yfwCATa7H5y",
        "outputId": "8833a3e1-4ae4-4158-cda7-81645d575ae2"
      },
      "source": [
        "scores = {\"수학\":0, \"영어\":50, \"코딩\":100}\n",
        "\n",
        "for subject, score in scores.items(): # key, value\n",
        "    print(subject.ljust(8), str(score).rjust(4), sep=\":\")"
      ],
      "execution_count": null,
      "outputs": [
        {
          "output_type": "stream",
          "text": [
            "수학      :   0\n",
            "영어      :  50\n",
            "코딩      : 100\n"
          ],
          "name": "stdout"
        }
      ]
    },
    {
      "cell_type": "code",
      "metadata": {
        "colab": {
          "base_uri": "https://localhost:8080/"
        },
        "id": "-IgfMMgJBAZB",
        "outputId": "d54a183c-4c1d-499f-f243-af427ec83da1"
      },
      "source": [
        "for num in range(1, 11): # 1~10 까지의 숫자\n",
        "    print(\"대기번호 : \" + str(num).zfill(3))"
      ],
      "execution_count": null,
      "outputs": [
        {
          "output_type": "stream",
          "text": [
            "대기번호 : 001\n",
            "대기번호 : 002\n",
            "대기번호 : 003\n",
            "대기번호 : 004\n",
            "대기번호 : 005\n",
            "대기번호 : 006\n",
            "대기번호 : 007\n",
            "대기번호 : 008\n",
            "대기번호 : 009\n",
            "대기번호 : 010\n"
          ],
          "name": "stdout"
        }
      ]
    },
    {
      "cell_type": "code",
      "metadata": {
        "colab": {
          "base_uri": "https://localhost:8080/"
        },
        "id": "dIx4FQUcBOAw",
        "outputId": "7ee54978-7942-4e8a-ec88-8bd911abe27f"
      },
      "source": [
        "answer = input(\"아무 값이나 입력하세요 : \")\n",
        "print(\"입력하신 값은 \" + answer + \"입니다.\")\n",
        "\n",
        "# input() 을 통해 입력받는 모든 값은 항상 문자열 형태로 저장"
      ],
      "execution_count": null,
      "outputs": [
        {
          "output_type": "stream",
          "text": [
            "아무 값이나 입력하세요 : 23\n",
            "입력하신 값은 23입니다.\n"
          ],
          "name": "stdout"
        }
      ]
    },
    {
      "cell_type": "code",
      "metadata": {
        "colab": {
          "base_uri": "https://localhost:8080/"
        },
        "id": "DlzX1Zs8Bg8F",
        "outputId": "48924953-e565-4267-adbe-27f46530af66"
      },
      "source": [
        "# 출력 포맷 → {인덱스:[[빈자리채우기]정렬][기호][확보공간][콤마][.자릿수][타입]}\n",
        "\n",
        "print(\"{0}\".format(500)) # {0} 위치에 500 값 출력\n",
        "print(\"{0: >10}\".format(500)) # 빈 자리는 비워두기, 우측 정렬, 10 칸의 공간 확보\n",
        "print(\"{0: >+10}\".format(500)) # 빈 자리는 비워두기, 우측 정렬, + 기호, 10 칸의 공간 확보\n",
        "print(\"{0: >+10}\".format(-500))\n",
        "print(\"{0:_<10}\".format(500)) # 빈 자리는 _ 로, 좌측 정렬, 10 칸의 공간 확보"
      ],
      "execution_count": null,
      "outputs": [
        {
          "output_type": "stream",
          "text": [
            "500\n",
            "       500\n",
            "      +500\n",
            "      -500\n",
            "500_______\n"
          ],
          "name": "stdout"
        }
      ]
    },
    {
      "cell_type": "code",
      "metadata": {
        "colab": {
          "base_uri": "https://localhost:8080/"
        },
        "id": "obOVCcagDaFX",
        "outputId": "8b3621cf-24d6-40f8-c8ef-298891affecc"
      },
      "source": [
        "print(\"{0:,}\".format(100000000000)) # 3자리 마다 콤마 찍어주기\n",
        "print(\"{0:+,}\".format(100000000000)) # + 기호, 3자리 마다 콤마 찍어주기\n",
        "print(\"{0:+,}\".format(-100000000000))\n",
        "\n",
        "# 빈 자리는 ^ 로, 좌측 정렬, + 기호, 30 칸의 공간 확보, 3자리 마다 콤마 찍어주기\n",
        "print(\"{0:^<+30,}\".format(100000000000))"
      ],
      "execution_count": null,
      "outputs": [
        {
          "output_type": "stream",
          "text": [
            "100,000,000,000\n",
            "+100,000,000,000\n",
            "-100,000,000,000\n",
            "+100,000,000,000^^^^^^^^^^^^^^\n"
          ],
          "name": "stdout"
        }
      ]
    },
    {
      "cell_type": "code",
      "metadata": {
        "colab": {
          "base_uri": "https://localhost:8080/"
        },
        "id": "KqjnxP62DtDa",
        "outputId": "e19d9daf-6efb-4558-b59a-60d524ea2cfb"
      },
      "source": [
        "print(\"{0:f}\".format(5/3)) # 실수 값 출력\n",
        "print(\"{0:.2f}\".format(5/3)) # 소수점 둘째자리까지 출력"
      ],
      "execution_count": null,
      "outputs": [
        {
          "output_type": "stream",
          "text": [
            "1.666667\n",
            "1.67\n"
          ],
          "name": "stdout"
        }
      ]
    },
    {
      "cell_type": "code",
      "metadata": {
        "id": "-hMiD3wfD2pL"
      },
      "source": [
        "score_file = open(\"score.txt\", \"w\", encoding=\"utf8\") # score.txt 파일을 쓰기(\"w\") 모드로 열기\n",
        "print(\"수학 : 0\", file=score_file) # score.txt 파일에 내용 쓰기\n",
        "print(\"영어 : 50\", file=score_file) # score.txt 파일에 내용 쓰기\n",
        "score_file.close() # score.txt 파일 닫기"
      ],
      "execution_count": null,
      "outputs": []
    },
    {
      "cell_type": "code",
      "metadata": {
        "id": "NkMu_oB3ETGu"
      },
      "source": [
        "score_file = open(\"score.txt\", \"a\", encoding=\"utf8\") # score.txt 파일을 쓰기(\"a\") 모드로 열기\n",
        "score_file.write(\"과학 : 80\")\n",
        "score_file.write(\"\\n코딩 : 100\") # write 는 줄바꿈 안해주기 때문에 탈출문자(\\n)로 줄바꿈 추가\n",
        "score_file.close()"
      ],
      "execution_count": null,
      "outputs": []
    },
    {
      "cell_type": "code",
      "metadata": {
        "colab": {
          "base_uri": "https://localhost:8080/"
        },
        "id": "EBu0QSUYEhRT",
        "outputId": "5e98d3b9-befa-44e1-b1e7-37c9b0d19f4c"
      },
      "source": [
        "score_file = open(\"score.txt\", \"r\", encoding=\"utf8\") # score.txt 파일을 읽기(\"r\") 모드로 열기\n",
        "print(score_file.read()) # 파일 전체 읽어오기\n",
        "score_file.close()"
      ],
      "execution_count": null,
      "outputs": [
        {
          "output_type": "stream",
          "text": [
            "수학 : 0\n",
            "영어 : 50\n",
            "과학 : 80\n",
            "코딩 : 100\n"
          ],
          "name": "stdout"
        }
      ]
    },
    {
      "cell_type": "code",
      "metadata": {
        "colab": {
          "base_uri": "https://localhost:8080/"
        },
        "id": "RjTaYq5BEw22",
        "outputId": "d03e6f32-c870-4871-8d1c-d2ce3ed7954b"
      },
      "source": [
        "score_file = open(\"score.txt\", \"r\", encoding=\"utf8\")\n",
        "#print(score_file.readline(), end=\"\") # 줄별로 읽기. 한 줄 읽고 커서는 다음 줄로 이동\n",
        "#print(score_file.readline(), end=\"\") # 줄바꿈 중복을 방지하기 위해 end=\"\" 처리\n",
        "#print(score_file.readline(), end=\"\")\n",
        "#print(score_file.readline(), end=\"\")\n",
        "while True:\n",
        "    line = score_file.readline()\n",
        "    if not line: # 더 이상 읽어올 내용이 없으면?\n",
        "        break # 반복문 탈출\n",
        "    print(line, end=\"\") # 읽어온 줄 출력. 줄바꿈 중복을 방지하기 위해 end=\"\" 처리\n",
        "score_file.close()"
      ],
      "execution_count": null,
      "outputs": [
        {
          "output_type": "stream",
          "text": [
            "수학 : 0\n",
            "영어 : 50\n",
            "과학 : 80\n",
            "코딩 : 100"
          ],
          "name": "stdout"
        }
      ]
    },
    {
      "cell_type": "code",
      "metadata": {
        "colab": {
          "base_uri": "https://localhost:8080/"
        },
        "id": "Ivy_VnizE4Pt",
        "outputId": "02f80a1b-d404-400c-e380-1f63c7bd7c7c"
      },
      "source": [
        "score_file = open(\"score.txt\", \"r\", encoding=\"utf8\")\n",
        "\n",
        "lines = score_file.readlines() # 모든 줄을 읽어와서 list 형태로 저장\n",
        "for line in lines:\n",
        "    print(line, end=\"\") # 읽어온 줄 출력. 줄바꿈 중복을 방지하기 위해 end=\"\" 처리\n",
        "    \n",
        "score_file.close()"
      ],
      "execution_count": null,
      "outputs": [
        {
          "output_type": "stream",
          "text": [
            "수학 : 0\n",
            "영어 : 50\n",
            "과학 : 80\n",
            "코딩 : 100"
          ],
          "name": "stdout"
        }
      ]
    },
    {
      "cell_type": "code",
      "metadata": {
        "colab": {
          "base_uri": "https://localhost:8080/"
        },
        "id": "sCc5WiqAFNZk",
        "outputId": "7e63576a-a4f3-4af2-c303-b53a600976db"
      },
      "source": [
        "# pickle → 바이너리(binary) 형태\n",
        "# 프로그램에서 사용하고 있는 데이터를 파일 형태로 저장하거나 불러올 수 있게 해주는 모듈\n",
        "\n",
        "import pickle # pickle 모듈 가져다 쓰기\n",
        "\n",
        "profile_file = open(\"profile.pickle\", \"wb\") # 바이너리(binary) 형태로 저장\n",
        "profile = {\"이름\":\"박명수\", \"나이\":30, \"취미\":[\"축구\", \"골프\", \"코딩\"]}\n",
        "print(profile)\n",
        "\n",
        "pickle.dump(profile, profile_file) # profile 데이터를 file 에 저장\n",
        "profile_file.close()"
      ],
      "execution_count": null,
      "outputs": [
        {
          "output_type": "stream",
          "text": [
            "{'이름': '박명수', '나이': 30, '취미': ['축구', '골프', '코딩']}\n"
          ],
          "name": "stdout"
        }
      ]
    },
    {
      "cell_type": "code",
      "metadata": {
        "colab": {
          "base_uri": "https://localhost:8080/"
        },
        "id": "wMg2ZlO8Fsjk",
        "outputId": "d4e1d9e6-cb67-441c-a544-7d9a87d12177"
      },
      "source": [
        "profile_file = open(\"profile.pickle\", \"rb\") # 읽을 때에도 바이너리(binary) 명시\n",
        "profile = pickle.load(profile_file) # file 에 있는 정보를 불러와서 profile 에 저장\n",
        "\n",
        "print(profile)\n",
        "profile_file.close()"
      ],
      "execution_count": null,
      "outputs": [
        {
          "output_type": "stream",
          "text": [
            "{'이름': '박명수', '나이': 30, '취미': ['축구', '골프', '코딩']}\n"
          ],
          "name": "stdout"
        }
      ]
    },
    {
      "cell_type": "code",
      "metadata": {
        "colab": {
          "base_uri": "https://localhost:8080/"
        },
        "id": "C_u-1YOPF6y4",
        "outputId": "6fc23c08-d0cd-4acd-99f2-4152cfc135f9"
      },
      "source": [
        "# with → close() 호출하지 않아도 자동으로 파일 닫아줌\n",
        "\n",
        "import pickle\n",
        "\n",
        "with open(\"profile.pickle\", \"rb\") as profile_file:\n",
        "    print(pickle.load(profile_file))"
      ],
      "execution_count": null,
      "outputs": [
        {
          "output_type": "stream",
          "text": [
            "{'이름': '박명수', '나이': 30, '취미': ['축구', '골프', '코딩']}\n"
          ],
          "name": "stdout"
        }
      ]
    },
    {
      "cell_type": "code",
      "metadata": {
        "id": "eDv8b9CZHb3h"
      },
      "source": [
        "with open(\"study.txt\", \"w\", encoding=\"utf8\") as study_file:\n",
        "    study_file.write(\"파이썬을 열심히 공부하고 있어요\")"
      ],
      "execution_count": null,
      "outputs": []
    },
    {
      "cell_type": "code",
      "metadata": {
        "colab": {
          "base_uri": "https://localhost:8080/"
        },
        "id": "5W3eMduAHfMV",
        "outputId": "c34fb53f-3bdd-4659-86d8-d7087f682d59"
      },
      "source": [
        "with open(\"study.txt\", \"r\", encoding=\"utf-8\") as study_file:\n",
        "    print(study_file.read())"
      ],
      "execution_count": null,
      "outputs": [
        {
          "output_type": "stream",
          "text": [
            "파이썬을 열심히 공부하고 있어요\n"
          ],
          "name": "stdout"
        }
      ]
    },
    {
      "cell_type": "code",
      "metadata": {
        "id": "7TgmLXXgHh08"
      },
      "source": [
        "for i in range(1,51):\n",
        "  with open(str(i)+\"주차.txt\", \"w\", encoding=\"utf8\") as report_file:\n",
        "    report_file.write(\"- {0} 주차 주간보고 -\".format(i))\n",
        "    report_file.write(\"\\n부서:\")\n",
        "    report_file.write(\"\\n이름:\")\n",
        "    report_file.write(\"\\n업무 요약:\")"
      ],
      "execution_count": null,
      "outputs": []
    },
    {
      "cell_type": "code",
      "metadata": {
        "id": "4xH-U3CcItpk"
      },
      "source": [
        ""
      ],
      "execution_count": null,
      "outputs": []
    }
  ]
}