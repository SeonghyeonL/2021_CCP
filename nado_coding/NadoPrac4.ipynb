{
  "nbformat": 4,
  "nbformat_minor": 0,
  "metadata": {
    "colab": {
      "name": "NadoPrac4.ipynb",
      "provenance": [],
      "collapsed_sections": [],
      "authorship_tag": "ABX9TyN9wsidVe4ijCRwNYhXLDAJ"
    },
    "kernelspec": {
      "name": "python3",
      "display_name": "Python 3"
    },
    "language_info": {
      "name": "python"
    }
  },
  "cells": [
    {
      "cell_type": "code",
      "metadata": {
        "id": "DG0zUMN0KBCM"
      },
      "source": [
        "# 9"
      ],
      "execution_count": null,
      "outputs": []
    },
    {
      "cell_type": "code",
      "metadata": {
        "colab": {
          "base_uri": "https://localhost:8080/"
        },
        "id": "pHP4eiSLKJVJ",
        "outputId": "c32c50cf-b788-423b-9406-a40e21ef9f60"
      },
      "source": [
        "# 마린 : 공격 유닛, 군인. 총을 쏠 수 있음\n",
        "name = \"마린\" # 유닛의 이름\n",
        "hp = 40 # 유닛의 체력\n",
        "damage = 5 # 유닛의 공격력\n",
        "\n",
        "print(\"{} 유닛이 생성되었습니다.\".format(name))\n",
        "print(\"체력 {0}, 공격력 {1}\\n\".format(hp, damage))"
      ],
      "execution_count": null,
      "outputs": [
        {
          "output_type": "stream",
          "text": [
            "마린 유닛이 생성되었습니다.\n",
            "체력 40, 공격력 5\n",
            "\n"
          ],
          "name": "stdout"
        }
      ]
    },
    {
      "cell_type": "code",
      "metadata": {
        "colab": {
          "base_uri": "https://localhost:8080/"
        },
        "id": "kdB3yCKrKKfq",
        "outputId": "796532a8-67f8-4750-a20f-f74de65faea0"
      },
      "source": [
        "# 탱크 : 공격 유닛, 탱크. 포를 쏠 수 있는데, 일반 모드 / 시즈 모드\n",
        "tank_name = \"탱크\"\n",
        "tank_hp = 150\n",
        "tank_damage = 35\n",
        "\n",
        "print(\"{} 유닛이 생성되었습니다.\".format(tank_name))\n",
        "print(\"체력 {0}, 공격력 {1}\\n\".format(tank_hp, tank_damage))\n",
        "\n",
        "# 탱크2 새로 추가\n",
        "tank2_name = \"탱크\"\n",
        "tank2_hp = 150\n",
        "tank2_damage = 35\n",
        "\n",
        "print(\"{} 유닛이 생성되었습니다.\".format(tank2_name))\n",
        "print(\"체력 {0}, 공격력 {1}\\n\".format(tank2_hp, tank2_damage))"
      ],
      "execution_count": null,
      "outputs": [
        {
          "output_type": "stream",
          "text": [
            "탱크 유닛이 생성되었습니다.\n",
            "체력 150, 공격력 35\n",
            "\n",
            "탱크 유닛이 생성되었습니다.\n",
            "체력 150, 공격력 35\n",
            "\n"
          ],
          "name": "stdout"
        }
      ]
    },
    {
      "cell_type": "code",
      "metadata": {
        "id": "nS1dgTzPKP0c"
      },
      "source": [
        "# 공격 함수\n",
        "def attack(name, location, damage):\n",
        "\tprint(\"{0} : {1} 방향으로 적군을 공격 합니다. [공격력 {2}]\".format(name, location, damage))"
      ],
      "execution_count": null,
      "outputs": []
    },
    {
      "cell_type": "code",
      "metadata": {
        "colab": {
          "base_uri": "https://localhost:8080/"
        },
        "id": "BQy0GuZwKVKH",
        "outputId": "77c05ac4-6173-4421-e392-a29748dfc22d"
      },
      "source": [
        "attack(name, \"1시\" , damage) # 마린 공격 명령\n",
        "attack(tank_name, \"1시\" , tank_damage) # 탱크 공격 명령\n",
        "attack(tank2_name, \"1시\" , tank2_damage) # 탱크2 공격 명령"
      ],
      "execution_count": null,
      "outputs": [
        {
          "output_type": "stream",
          "text": [
            "마린 : 1시 방향으로 적군을 공격 합니다. [공격력 5]\n",
            "탱크 : 1시 방향으로 적군을 공격 합니다. [공격력 35]\n",
            "탱크 : 1시 방향으로 적군을 공격 합니다. [공격력 35]\n"
          ],
          "name": "stdout"
        }
      ]
    },
    {
      "cell_type": "code",
      "metadata": {
        "id": "bpmyxSw3KYXn"
      },
      "source": [
        "class Unit:\n",
        "    def __init__(self, name, hp, damage): # __init__ = 생성자(Constructor)\n",
        "        self.name = name # 멤버변수 name 에 전달값 name 저장\n",
        "        self.hp = hp # 멤버변수 = 클래스 내에서 사용할 수 있는 변수\n",
        "        self.damage = damage\n",
        "        print(\"{0} 유닛이 생성되었습니다.\".format(self.name))\n",
        "        print(\"체력 {0}, 공격력 {1}\".format(self.hp, self.damage))"
      ],
      "execution_count": null,
      "outputs": []
    },
    {
      "cell_type": "code",
      "metadata": {
        "colab": {
          "base_uri": "https://localhost:8080/"
        },
        "id": "-qiNRtk-KvIf",
        "outputId": "82c7f05f-9b5c-4989-d778-ca33bc33c7c2"
      },
      "source": [
        "marine1 = Unit(\"마린\", 40, 5) # 마린1 생성. 전달값으로 name, hp, damage 를 전달\n",
        "marine2 = Unit(\"마린\", 40, 5) # 마린2 생성\n",
        "tank = Unit(\"탱크\", 150, 35) # 탱크 생성\n",
        "\n",
        "# 마린, 탱크는 객체라고 부르며, Unit 클래스의 인스턴스임\n",
        "# __init__() 생성자에 정의된 self를 제외한 갯수만큼 전달값을 넘겨주어야 함"
      ],
      "execution_count": null,
      "outputs": [
        {
          "output_type": "stream",
          "text": [
            "마린 유닛이 생성되었습니다.\n",
            "체력 40, 공격력 5\n",
            "마린 유닛이 생성되었습니다.\n",
            "체력 40, 공격력 5\n",
            "탱크 유닛이 생성되었습니다.\n",
            "체력 150, 공격력 35\n"
          ],
          "name": "stdout"
        }
      ]
    },
    {
      "cell_type": "code",
      "metadata": {
        "colab": {
          "base_uri": "https://localhost:8080/"
        },
        "id": "OCm4GTRlK2Od",
        "outputId": "56bfa120-53bf-4a4c-d1a4-33041f3f0ca1"
      },
      "source": [
        "# 레이스 : 공중 유닛, 비행기. 클로킹 (상대방에게 보이지 않음)\n",
        "wraith1 = Unit(\"레이스\", 80, 5) # 체력 80, 공격력 5\n",
        "print(\"유닛 이름 : {0}, 공격력 : {1}\".format(wraith1.name, wraith1.damage)) # 멤버변수 접근"
      ],
      "execution_count": null,
      "outputs": [
        {
          "output_type": "stream",
          "text": [
            "레이스 유닛이 생성되었습니다.\n",
            "체력 80, 공격력 5\n",
            "유닛 이름 : 레이스, 공격력 : 5\n"
          ],
          "name": "stdout"
        }
      ]
    },
    {
      "cell_type": "code",
      "metadata": {
        "colab": {
          "base_uri": "https://localhost:8080/"
        },
        "id": "EgelExx1L0VO",
        "outputId": "1dac6038-449a-45a9-b308-374e854f1f35"
      },
      "source": [
        "# 마인드 컨트롤 : 상대방 유닛을 내 것으로 만드는 것 (빼앗음)\n",
        "wraith2 = Unit(\"빼앗은 레이스\", 80, 5)\n",
        "\n",
        "wraith2.cloaking = True # 빼앗은 레이스만을 위한 특별한 멤버변수 정의"
      ],
      "execution_count": null,
      "outputs": [
        {
          "output_type": "stream",
          "text": [
            "빼앗은 레이스 유닛이 생성되었습니다.\n",
            "체력 80, 공격력 5\n"
          ],
          "name": "stdout"
        }
      ]
    },
    {
      "cell_type": "code",
      "metadata": {
        "colab": {
          "base_uri": "https://localhost:8080/"
        },
        "id": "m2EKOcsIL9jE",
        "outputId": "be106d83-0542-4465-c79a-e45a276b5984"
      },
      "source": [
        "if wraith2.cloaking == True: # 클로킹 상태라면?\n",
        "    print(\"{0}는 현재 클로킹 상태입니다.\".format(wraith2.name))\n",
        "\n",
        "# 에러 발생\n",
        "# if wraith1.cloaking == True: # 우리가 만든 레이스 클로킹 여부\n",
        "#     print(\"{0}는 현재 클로킹 상태입니다.\".format(wraith1.name))"
      ],
      "execution_count": null,
      "outputs": [
        {
          "output_type": "stream",
          "text": [
            "빼앗은 레이스는 현재 클로킹 상태입니다.\n"
          ],
          "name": "stdout"
        }
      ]
    },
    {
      "cell_type": "code",
      "metadata": {
        "id": "9SvZWL0aMfUy"
      },
      "source": [
        "# 메소드 = 클래스 내에서 정의되는 함수"
      ],
      "execution_count": null,
      "outputs": []
    },
    {
      "cell_type": "code",
      "metadata": {
        "id": "6vlJeiOFNDdB"
      },
      "source": [
        "class AttackUnit: # 공격 유닛\n",
        "    def __init__(self, name, hp, damage):\n",
        "        self.name = name\n",
        "        self.hp = hp\n",
        "        self.damage = damage\n",
        "\n",
        "    def attack(self, location): # 전달 받은 방향으로 공격\n",
        "        print(\"{0} : {1} 방향으로 적군을 공격 합니다. [공격력 {2}]\" \\\n",
        "            .format(self.name, location, self.damage)) # 공간이 좁아서 2줄에 걸쳐 출력 (\\ 이용)\n",
        "            \n",
        "    def damaged(self, damage): # damage 만큼 유닛 피해\n",
        "        print(\"{0} : {1} 데미지를 입었습니다.\".format(self.name, damage)) # 데미지 정보 출력\n",
        "        self.hp -= damage # 유닛의 체력에서 전달받은 damage 만큼 감소\n",
        "        print(\"{0} : 현재 체력은 {1} 입니다.\".format(self.name, self.hp)) # 남은 체력 출력\n",
        "        if self.hp <= 0: # 남은 체력이 0 이하이면?\n",
        "            print(\"{0} : 파괴되었습니다.\".format(self.name)) # 유닛 파괴 처리"
      ],
      "execution_count": null,
      "outputs": []
    },
    {
      "cell_type": "code",
      "metadata": {
        "colab": {
          "base_uri": "https://localhost:8080/"
        },
        "id": "S7SZsRzxPYYB",
        "outputId": "00aeece0-da97-4c0e-a913-a1a4fbddd09b"
      },
      "source": [
        "# 파이어뱃 : 공격 유닛, 화염방사기. \n",
        "firebat1 = AttackUnit(\"파이어뱃\", 50, 16) # 체력 50, 공격력 16\n",
        "\n",
        "firebat1.attack(\"5시\") # 5시 방향으로 공격 명령\n",
        "\n",
        "# 공격 2번 받는다고 가정\n",
        "firebat1.damaged(25) # 남은 체력 25\n",
        "firebat1.damaged(25) # 남은 채력 0"
      ],
      "execution_count": null,
      "outputs": [
        {
          "output_type": "stream",
          "text": [
            "파이어뱃 : 5시 방향으로 적군을 공격 합니다. [공격력 16]\n",
            "파이어뱃 : 25 데미지를 입었습니다.\n",
            "파이어뱃 : 현재 체력은 25 입니다.\n",
            "파이어뱃 : 25 데미지를 입었습니다.\n",
            "파이어뱃 : 현재 체력은 0 입니다.\n",
            "파이어뱃 : 파괴되었습니다.\n"
          ],
          "name": "stdout"
        }
      ]
    },
    {
      "cell_type": "code",
      "metadata": {
        "id": "oLa6OomOPY3F"
      },
      "source": [
        "# 상속 개념 적용 및 불필요한 부분 제거\n",
        "\n",
        "# 일반 유닛\n",
        "class Unit:\n",
        "    def __init__(self, name, hp):\n",
        "        self.name = name\n",
        "        self.hp = hp\n",
        "\n",
        "# 공격 유닛\n",
        "class AttackUnit(Unit):\n",
        "    def __init__(self, name, hp, damage):\n",
        "        Unit.__init__(self, name, hp)\n",
        "        self.damage = damage\n",
        "\n",
        "    def attack(self, location):\n",
        "        print(\"{0} : {1} 방향으로 적군을 공격 합니다. [공격력 {2}]\" \\\n",
        "            .format(self.name, location, self.damage))\n",
        "\n",
        "    def damaged(self, damage):\n",
        "        print(\"{0} : {1} 데미지를 입었습니다.\".format(self.name, damage))\n",
        "        self.hp -= damage\n",
        "        print(\"{0} : 현재 체력은 {1} 입니다.\".format(self.name, self.hp))\n",
        "        if self.hp <= 0:\n",
        "            print(\"{0} : 파괴되었습니다.\".format(self.name))"
      ],
      "execution_count": null,
      "outputs": []
    },
    {
      "cell_type": "code",
      "metadata": {
        "colab": {
          "base_uri": "https://localhost:8080/"
        },
        "id": "6xWbf5XTZKMc",
        "outputId": "a62a127d-0dd7-4245-dd03-99df7c6d8b4b"
      },
      "source": [
        "# 파이어뱃 : 공격 유닛, 화염방사기. \n",
        "firebat1 = AttackUnit(\"파이어뱃\", 50, 16) # 체력 50, 공격력 16\n",
        "firebat1.attack(\"5시\") # 5시 방향으로 공격 명령\n",
        "\n",
        "# 공격 2번 받는다고 가정\n",
        "firebat1.damaged(25) # 남은 체력 25\n",
        "firebat1.damaged(25) # 남은 채력 0"
      ],
      "execution_count": null,
      "outputs": [
        {
          "output_type": "stream",
          "text": [
            "파이어뱃 : 5시 방향으로 적군을 공격 합니다. [공격력 16]\n",
            "파이어뱃 : 25 데미지를 입었습니다.\n",
            "파이어뱃 : 현재 체력은 25 입니다.\n",
            "파이어뱃 : 25 데미지를 입었습니다.\n",
            "파이어뱃 : 현재 체력은 0 입니다.\n",
            "파이어뱃 : 파괴되었습니다.\n"
          ],
          "name": "stdout"
        }
      ]
    },
    {
      "cell_type": "code",
      "metadata": {
        "id": "351op8DQZgIz"
      },
      "source": [
        "# 날 수 있는 기능을 가진 클래스\n",
        "class Flyable:\n",
        "    def __init__(self, flying_speed): # 공중 이동 속도\n",
        "        self.flying_speed = flying_speed\n",
        "\n",
        "    def fly(self, name, location): # 유닛 이름, 이동 방향\n",
        "        print(\"{0} : {1} 방향으로 날아갑니다. [속도 {2}]\"\\\n",
        "            .format(name, location, self.flying_speed))"
      ],
      "execution_count": null,
      "outputs": []
    },
    {
      "cell_type": "code",
      "metadata": {
        "id": "aa5LNFY0Zvtt"
      },
      "source": [
        "# 공중 공격 유닛\n",
        "class FlyableAttackUnit(AttackUnit, Flyable):\n",
        "    def __init__(self, name, hp, damage, flying_speed): # 이름, 체력, 공격력, 공중 이동 속도\n",
        "        AttackUnit.__init__(self, name, hp, damage) # 이름, 체력, 공격력\n",
        "        Flyable.__init__(self, flying_speed) # 공중 이동 속도"
      ],
      "execution_count": null,
      "outputs": []
    },
    {
      "cell_type": "code",
      "metadata": {
        "colab": {
          "base_uri": "https://localhost:8080/"
        },
        "id": "H7myS1aoZ2Vj",
        "outputId": "db652254-eee8-4be8-cf45-f0553b58553e"
      },
      "source": [
        "# 발키리 : 공중 공격 유닛, 한번에 14발 미사일 발사.\n",
        "valkyrie = FlyableAttackUnit(\"발키리\", 200, 6, 5) # 이름, 체력, 공격력, 공중 이동 속도\n",
        "valkyrie.fly(valkyrie.name, \"3시\") # 3시 방향으로 발키리를 이동"
      ],
      "execution_count": null,
      "outputs": [
        {
          "output_type": "stream",
          "text": [
            "발키리 : 3시 방향으로 날아갑니다. [속도 5]\n"
          ],
          "name": "stdout"
        }
      ]
    },
    {
      "cell_type": "code",
      "metadata": {
        "id": "nl8m7pFHZ7B8"
      },
      "source": [
        "# 일반 유닛\n",
        "class Unit:\n",
        "    def __init__(self, name, hp, speed): # speed 추가\n",
        "        self.name = name\n",
        "        self.hp = hp\n",
        "        self.speed = speed # 지상 이동 속도\n",
        "\n",
        "    def move(self, location): # 이동 함수 정의\n",
        "        print(\"[지상 유닛 이동]\")\n",
        "        print(\"{0} : {1} 방향으로 이동합니다. [속도 {2}]\"\\\n",
        "            .format(self.name, location, self.speed))\n",
        "        \n",
        "# 공격 유닛\n",
        "class AttackUnit(Unit):\n",
        "    def __init__(self, name, hp, speed, damage): # speed 추가\n",
        "        Unit.__init__(self, name, hp, speed) # speed 추가\n",
        "        self.damage = damage\n",
        "\n",
        "    def attack(self, location):\n",
        "        print(\"{0} : {1} 방향으로 적군을 공격 합니다. [공격력 {2}]\" \\\n",
        "            .format(self.name, location, self.damage))\n",
        "\n",
        "    def damaged(self, damage):\n",
        "        print(\"{0} : {1} 데미지를 입었습니다.\".format(self.name, damage))\n",
        "        self.hp -= damage\n",
        "        print(\"{0} : 현재 체력은 {1} 입니다.\".format(self.name, self.hp))\n",
        "        if self.hp <= 0:\n",
        "            print(\"{0} : 파괴되었습니다.\".format(self.name))\n",
        "\n",
        "# 공중 공격 유닛\n",
        "class FlyableAttackUnit(AttackUnit, Flyable):\n",
        "    def __init__(self, name, hp, damage, flying_speed):\n",
        "        AttackUnit.__init__(self, name, hp, 0, damage) # 지상 speed 0\n",
        "        Flyable.__init__(self, flying_speed)"
      ],
      "execution_count": null,
      "outputs": []
    },
    {
      "cell_type": "code",
      "metadata": {
        "colab": {
          "base_uri": "https://localhost:8080/"
        },
        "id": "DjMknWL_aV75",
        "outputId": "32aa0864-9dd2-48cf-a5c4-5fe55bba4058"
      },
      "source": [
        "# 벌쳐 : 지상 유닛, 기동성이 좋음\n",
        "vulture = AttackUnit(\"벌쳐\", 80, 10, 20) # 지상 speed 10\n",
        "\n",
        "# 배틀크루저 : 공중 유닛, 체력도 굉장히 좋음, 공격력도 좋음\n",
        "battlecruiser = FlyableAttackUnit(\"배틀크루저\", 500, 25, 3)\n",
        "\n",
        "vulture.move(\"11시\")\n",
        "battlecruiser.fly(battlecruiser.name, \"9시\")"
      ],
      "execution_count": null,
      "outputs": [
        {
          "output_type": "stream",
          "text": [
            "[지상 유닛 이동]\n",
            "벌쳐 : 11시 방향으로 이동합니다. [속도 10]\n",
            "배틀크루저 : 9시 방향으로 날아갑니다. [속도 3]\n"
          ],
          "name": "stdout"
        }
      ]
    },
    {
      "cell_type": "code",
      "metadata": {
        "id": "C-fDuEu0a5aZ"
      },
      "source": [
        "# 공중 공격 유닛\n",
        "class FlyableAttackUnit(AttackUnit, Flyable):\n",
        "    def __init__(self, name, hp, damage, flying_speed):\n",
        "        AttackUnit.__init__(self, name, hp, 0, damage)\n",
        "        Flyable.__init__(self, flying_speed)\n",
        "\n",
        "    def move(self, location): # Unit 클래스의 move() 메소드를 새롭게 정의 (오버라이딩)\n",
        "        print(\"[공중 유닛 이동]\")\n",
        "        self.fly(self.name, location)"
      ],
      "execution_count": null,
      "outputs": []
    },
    {
      "cell_type": "code",
      "metadata": {
        "colab": {
          "base_uri": "https://localhost:8080/"
        },
        "id": "AungqrMhbN4x",
        "outputId": "b508865e-8c81-41df-c281-bf5239a9fcc3"
      },
      "source": [
        "# 배틀크루저 : 공중 유닛, 체력도 굉장히 좋음, 공격력도 좋음\n",
        "battlecruiser = FlyableAttackUnit(\"배틀크루저\", 500, 25, 3)\n",
        "\n",
        "vulture.move(\"11시\")\n",
        "# battlecruiser.fly(battlecruiser.name, \"9시\")\n",
        "battlecruiser.move(\"9시\") # 오버라이딩된 move() 호출"
      ],
      "execution_count": null,
      "outputs": [
        {
          "output_type": "stream",
          "text": [
            "[지상 유닛 이동]\n",
            "벌쳐 : 11시 방향으로 이동합니다. [속도 10]\n",
            "[공중 유닛 이동]\n",
            "배틀크루저 : 9시 방향으로 날아갑니다. [속도 3]\n"
          ],
          "name": "stdout"
        }
      ]
    },
    {
      "cell_type": "code",
      "metadata": {
        "colab": {
          "base_uri": "https://localhost:8080/"
        },
        "id": "kH9f51RjbPLs",
        "outputId": "103f6d78-a916-4c98-e29a-5faa6ae61f3b"
      },
      "source": [
        "# 즉, 여기까지를 정리하면\n",
        "\n",
        "# 일반 유닛\n",
        "class Unit:\n",
        "    def __init__(self, name, hp, speed):\n",
        "        self.name = name\n",
        "        self.hp = hp\n",
        "        self.speed = speed\n",
        "\n",
        "    def move(self, location):\n",
        "        print(\"[지상 유닛 이동]\")\n",
        "        print(\"{0} : {1} 방향으로 이동합니다. [속도 {2}]\"\\\n",
        "            .format(self.name, location, self.speed))\n",
        "\n",
        "# 공격 유닛\n",
        "class AttackUnit(Unit):\n",
        "    def __init__(self, name, hp, speed, damage):\n",
        "        Unit.__init__(self, name, hp, speed)\n",
        "        self.damage = damage\n",
        "\n",
        "    def attack(self, location):\n",
        "        print(\"{0} : {1} 방향으로 적군을 공격 합니다. [공격력 {2}]\" \\\n",
        "            .format(self.name, location, self.damage))\n",
        "\n",
        "    def damaged(self, damage):\n",
        "        print(\"{0} : {1} 데미지를 입었습니다.\".format(self.name, damage))\n",
        "        self.hp -= damage\n",
        "        print(\"{0} : 현재 체력은 {1} 입니다.\".format(self.name, self.hp))\n",
        "        if self.hp <= 0:\n",
        "            print(\"{0} : 파괴되었습니다.\".format(self.name))\n",
        "\n",
        "# 날 수 있는 기능을 가진 클래스\n",
        "class Flyable:\n",
        "    def __init__(self, flying_speed):\n",
        "        self.flying_speed = flying_speed\n",
        "\n",
        "    def fly(self, name, location):\n",
        "        print(\"{0} : {1} 방향으로 날아갑니다. [속도 {2}]\"\\\n",
        "            .format(name, location, self.flying_speed))\n",
        "\n",
        "# 공중 공격 유닛\n",
        "class FlyableAttackUnit(AttackUnit, Flyable):\n",
        "    def __init__(self, name, hp, damage, flying_speed):\n",
        "        AttackUnit.__init__(self, name, hp, 0, damage)\n",
        "        Flyable.__init__(self, flying_speed)\n",
        "\n",
        "    def move(self, location):\n",
        "        print(\"[공중 유닛 이동]\")\n",
        "        self.fly(self.name, location)\n",
        "\n",
        "# 벌쳐 : 지상 유닛, 기동성이 좋음\n",
        "vulture = AttackUnit(\"벌쳐\", 80, 10, 20) # 지상 speed 10\n",
        "\n",
        "# 배틀크루저 : 공중 유닛, 체력도 굉장히 좋음, 공격력도 좋음\n",
        "battlecruiser = FlyableAttackUnit(\"배틀크루저\", 500, 25, 3)\n",
        "\n",
        "vulture.move(\"11시\")\n",
        "# battlecruiser.fly(battlecruiser.name, \"9시\")\n",
        "battlecruiser.move(\"9시\") # 오버라이딩된 move() 호출"
      ],
      "execution_count": null,
      "outputs": [
        {
          "output_type": "stream",
          "text": [
            "[지상 유닛 이동]\n",
            "벌쳐 : 11시 방향으로 이동합니다. [속도 10]\n",
            "[공중 유닛 이동]\n",
            "배틀크루저 : 9시 방향으로 날아갑니다. [속도 3]\n"
          ],
          "name": "stdout"
        }
      ]
    },
    {
      "cell_type": "code",
      "metadata": {
        "id": "FCAvDhzjbvX4"
      },
      "source": [
        "# 건물\n",
        "class BuildingUnit(Unit):\n",
        "    def __init__(self, name, hp, location):\n",
        "        pass # 일단 그냥 넘어가겠다 (아직 미완)\n",
        "\n",
        "# 서플라이 디폿 : 건물, 1개 건물 = 8 유닛.\n",
        "supply_depot = BuildingUnit(\"서플라이 디폿\", 500, \"7시\") # 체력 500, 생성 위치 7시"
      ],
      "execution_count": null,
      "outputs": []
    },
    {
      "cell_type": "code",
      "metadata": {
        "colab": {
          "base_uri": "https://localhost:8080/"
        },
        "id": "dDWjDSFrcDfF",
        "outputId": "5ca5934c-554b-41eb-ac4a-fd14f999451f"
      },
      "source": [
        "def game_start():\n",
        "    print(\"[알림] 새로운 게임을 시작합니다.\")\n",
        "\n",
        "def game_over():\n",
        "    pass\n",
        "\n",
        "game_start()\n",
        "game_over()"
      ],
      "execution_count": null,
      "outputs": [
        {
          "output_type": "stream",
          "text": [
            "[알림] 새로운 게임을 시작합니다.\n"
          ],
          "name": "stdout"
        }
      ]
    },
    {
      "cell_type": "code",
      "metadata": {
        "id": "L9SiTHWAcJo3"
      },
      "source": [
        "class BuildingUnit(Unit):\n",
        "    def __init__(self, name, hp, location):\n",
        "        Unit.__init__(self, name, hp, 0) # speed 0 : 건물은 지상 이동 불가\n",
        "        self.location = location\n",
        "\n",
        "#class BuildingUnit(Unit):\n",
        "#    def __init__(self, name, hp, location):\n",
        "#        super().__init__(name, hp, 0) # 부모 클래스 접근. self 없이 사용\n",
        "#        self.location = location\n",
        "# 위와 동일한 코드임"
      ],
      "execution_count": null,
      "outputs": []
    },
    {
      "cell_type": "code",
      "metadata": {
        "colab": {
          "base_uri": "https://localhost:8080/"
        },
        "id": "qEc0bgVdcfGp",
        "outputId": "957fc6f8-ff5d-4374-ccd8-52aa709d717b"
      },
      "source": [
        "# 다중 상속의 경우에는 super()를 사용하면 가장 먼저 상속받은 클래스로 접근하게 됨\n",
        "\n",
        "class Unit:\n",
        "    def __init__(self):\n",
        "        print(\"Unit 생성자\")\n",
        "\n",
        "class Flyable:\n",
        "    def __init__(self):\n",
        "        print(\"Flyable 생성자\")\n",
        "\n",
        "class FlyableUnit(Unit, Flyable):\n",
        "    def __init__(self):\n",
        "        super().__init__()\n",
        "\n",
        "# 드랍쉽\n",
        "dropship = FlyableUnit()"
      ],
      "execution_count": null,
      "outputs": [
        {
          "output_type": "stream",
          "text": [
            "Unit 생성자\n"
          ],
          "name": "stdout"
        }
      ]
    },
    {
      "cell_type": "code",
      "metadata": {
        "colab": {
          "base_uri": "https://localhost:8080/"
        },
        "id": "H4yXotjqdFNU",
        "outputId": "22326874-f668-4b76-a254-190b044dec44"
      },
      "source": [
        "# 따라서 다중 상속을 할 때는 명시적으로 각 부모 클래스의 이름을 통해서 접근해야 함\n",
        "\n",
        "class FlyableUnit(Flyable, Unit):\n",
        "    def __init__(self):\n",
        "        # super().__init__()\n",
        "        Unit.__init__(self) # Unit 클래스 생성자 호출\n",
        "        Flyable.__init__(self) # Flyable 클래스 생성자 호출\n",
        "\n",
        "# 드랍쉽\n",
        "dropship = FlyableUnit()"
      ],
      "execution_count": null,
      "outputs": [
        {
          "output_type": "stream",
          "text": [
            "Unit 생성자\n",
            "Flyable 생성자\n"
          ],
          "name": "stdout"
        }
      ]
    },
    {
      "cell_type": "code",
      "metadata": {
        "id": "-CwROWpndNj7"
      },
      "source": [
        "# 전반전"
      ],
      "execution_count": null,
      "outputs": []
    },
    {
      "cell_type": "code",
      "metadata": {
        "id": "_574UNDAdbId"
      },
      "source": [
        "# 일반 유닛\n",
        "class Unit:\n",
        "    def __init__(self, name, hp, speed):\n",
        "        self.name = name\n",
        "        self.hp = hp\n",
        "        self.speed = speed\n",
        "        print(\"{0} 유닛이 생성되었습니다.\".format(name)) # 출력문 추가\n",
        "\n",
        "    def move(self, location):\n",
        "        # print(\"[지상 유닛 이동]\") # 출력문 제외\n",
        "        print(\"{0} : {1} 방향으로 이동합니다. [속도 {2}]\"\\\n",
        "            .format(self.name, location, self.speed))\n",
        "\n",
        "    def damaged(self, damage): # AttackUnit 에서 Unit 으로 이동\n",
        "        print(\"{0} : {1} 데미지를 입었습니다.\".format(self.name, damage))\n",
        "        self.hp -= damage\n",
        "        print(\"{0} : 현재 체력은 {1} 입니다.\".format(self.name, self.hp))\n",
        "        if self.hp <= 0:\n",
        "            print(\"{0} : 파괴되었습니다.\".format(self.name))\n",
        "\n",
        "# 공격 유닛\n",
        "class AttackUnit(Unit):\n",
        "    def __init__(self, name, hp, speed, damage):\n",
        "        Unit.__init__(self, name, hp, speed)\n",
        "        self.damage = damage\n",
        "\n",
        "    def attack(self, location):\n",
        "        print(\"{0} : {1} 방향으로 적군을 공격 합니다. [공격력 {2}]\" \\\n",
        "            .format(self.name, location, self.damage))\n",
        "        \n",
        "# 마린\n",
        "class Marine(AttackUnit):\n",
        "    def __init__(self):\n",
        "        AttackUnit.__init__(self, \"마린\", 40, 1, 5) # 이름, 체력, 이동속도, 공격력\n",
        "\n",
        "    # 스팀팩 : 일정 시간 동안 이동 및 공격 속도를 증가, 체력 10 감소\n",
        "    def stimpack(self):\n",
        "        if self.hp > 10:\n",
        "            self.hp -= 10 # 체력 10 소모\n",
        "            print(\"{0} : 스팀팩을 사용합니다. (HP 10 감소)\".format(self.name))\n",
        "        else:\n",
        "            print(\"{0} : 체력이 부족하여 스팀팩을 사용하지 않습니다\".format(self.name))\n",
        "\n",
        "# 탱크\n",
        "class Tank(AttackUnit):\n",
        "    # 시즈모드 : 탱크를 지상에 고정시켜, 더 높은 파워로 공격 가능. 이동 불가.\n",
        "    siege_developed = False # 시즈모드 개발여부 (클래스 변수)\n",
        "    # 멤버 변수는 각 클래스 객체마다 다른 값을 가지는 반면,\n",
        "    # 클래스 변수는 모든 객체가 동일한 값을 가짐\n",
        "    # 클래스 변수는 클래스 이름과 함께 어디서든지 사용 가능 ex) Tank.siege_developed\n",
        "    # 클래스 변수 선언 위치 주의!\n",
        "\n",
        "    def __init__(self):\n",
        "        AttackUnit.__init__(self, \"탱크\", 150, 1, 35) # 이름, 체력, 이동속도, 공격력\n",
        "        self.siege_mode = False # 시즈모드 (해제 상태)\n",
        "\n",
        "    # 시즈모드\n",
        "    def set_siege_mode(self): # 시즈모드와 일반모드를 전환\n",
        "        if Tank.siege_developed == False: # 시즈모드가 개발되지 않은 경우 메소드 탈출\n",
        "            return\n",
        "\n",
        "        # 현재 시즈모드가 아닐 때\n",
        "        if self.siege_mode == False:\n",
        "            print(\"{0} : 시즈모드로 전환합니다.\".format(self.name))\n",
        "            self.damage *= 2 # 공격력 2배로 증가\n",
        "            self.siege_mode = True # 시즈 모드 설정\n",
        "        # 현재 시즈모드일 때\n",
        "        else:\n",
        "            print(\"{0} : 시즈모드를 해제합니다.\".format(self.name))\n",
        "            self.damage /= 2 # 공격력 절반으로 감소\n",
        "            self.siege_mode = False # 시즈 모드 해제\n",
        "\n",
        "# 날 수 있는 기능을 가진 클래스\n",
        "class Flyable:\n",
        "    def __init__(self, flying_speed):\n",
        "        self.flying_speed = flying_speed\n",
        "\n",
        "    def fly(self, name, location):\n",
        "        print(\"{0} : {1} 방향으로 날아갑니다. [속도 {2}]\"\\\n",
        "            .format(name, location, self.flying_speed))\n",
        "\n",
        "# 공중 공격 유닛\n",
        "class FlyableAttackUnit(AttackUnit, Flyable):\n",
        "    def __init__(self, name, hp, damage, flying_speed):\n",
        "        AttackUnit.__init__(self, name, hp, 0, damage)\n",
        "        Flyable.__init__(self, flying_speed)\n",
        "\n",
        "    def move(self, location):\n",
        "        # print(\"[공중 유닛 이동]\") # 출력문 제외\n",
        "        self.fly(self.name, location)\n",
        "\n",
        "# 레이스\n",
        "class Wraith(FlyableAttackUnit):\n",
        "    def __init__(self):\n",
        "        FlyableAttackUnit.__init__(self, \"레이스\", 80, 20, 5) # 체력, 공격력, 공중 이동 속도\n",
        "        self.cloaked = False # 클로킹 모드 여부 확인 (해제 상태)\n",
        "\n",
        "    # 클로킹 모드 설정\n",
        "    def cloaking(self):\n",
        "        # 현재 클로킹 모드일 때\n",
        "        if self.cloaked == True:\n",
        "            print(\"{0} : 클로킹 모드 해제합니다.\".format(self.name))\n",
        "            self.cloaked = False\n",
        "        # 현재 클로킹 모드가 아닐 때\n",
        "        else:\n",
        "            print(\"{0} : 클로킹 모드 설정합니다.\".format(self.name))\n",
        "            self.cloaked = True"
      ],
      "execution_count": null,
      "outputs": []
    },
    {
      "cell_type": "code",
      "metadata": {
        "id": "IIt4ZtjXf67G"
      },
      "source": [
        "# 후반전"
      ],
      "execution_count": null,
      "outputs": []
    },
    {
      "cell_type": "code",
      "metadata": {
        "id": "djc3ep_DmEwv"
      },
      "source": [
        "# 게임 시작\n",
        "def game_start():\n",
        "    print(\"[알림] 새로운 게임을 시작합니다.\")\n",
        "\n",
        "# 게임 종료\n",
        "def game_over():\n",
        "    print(\"Player : gg\") # good game\n",
        "    print(\"[Player] 님이 게임에서 퇴장하셨습니다.\")"
      ],
      "execution_count": null,
      "outputs": []
    },
    {
      "cell_type": "code",
      "metadata": {
        "colab": {
          "base_uri": "https://localhost:8080/"
        },
        "id": "7P3AtT84mHg6",
        "outputId": "1d69719e-9f8a-443e-f08b-4e29180f16b2"
      },
      "source": [
        "# 게임 시작\n",
        "game_start()\n",
        "\n",
        "# 마린 3기 생성\n",
        "m1 = Marine()\n",
        "m2 = Marine()\n",
        "m3 = Marine()\n",
        "\n",
        "# 탱크 2기 생성\n",
        "t1 = Tank()\n",
        "t2 = Tank()\n",
        "\n",
        "# 레이스 1기 생성\n",
        "w1 = Wraith()\n",
        "\n",
        "# 유닛 일괄 관리 (생성된 모든 유닛 append)\n",
        "attack_units = []\n",
        "attack_units.append(m1)\n",
        "attack_units.append(m2)\n",
        "attack_units.append(m3)\n",
        "attack_units.append(t1)\n",
        "attack_units.append(t1)\n",
        "attack_units.append(w1)"
      ],
      "execution_count": null,
      "outputs": [
        {
          "output_type": "stream",
          "text": [
            "[알림] 새로운 게임을 시작합니다.\n",
            "마린 유닛이 생성되었습니다.\n",
            "마린 유닛이 생성되었습니다.\n",
            "마린 유닛이 생성되었습니다.\n",
            "탱크 유닛이 생성되었습니다.\n",
            "탱크 유닛이 생성되었습니다.\n",
            "레이스 유닛이 생성되었습니다.\n"
          ],
          "name": "stdout"
        }
      ]
    },
    {
      "cell_type": "code",
      "metadata": {
        "colab": {
          "base_uri": "https://localhost:8080/"
        },
        "id": "CzZZ7mmGmLxW",
        "outputId": "b3b79827-65dc-471d-cbd8-f42d7fa00fa5"
      },
      "source": [
        "# 전군 이동\n",
        "for unit in attack_units:\n",
        "    unit.move(\"1시\")"
      ],
      "execution_count": null,
      "outputs": [
        {
          "output_type": "stream",
          "text": [
            "마린 : 1시 방향으로 이동합니다. [속도 1]\n",
            "마린 : 1시 방향으로 이동합니다. [속도 1]\n",
            "마린 : 1시 방향으로 이동합니다. [속도 1]\n",
            "탱크 : 1시 방향으로 이동합니다. [속도 1]\n",
            "탱크 : 1시 방향으로 이동합니다. [속도 1]\n",
            "레이스 : 1시 방향으로 날아갑니다. [속도 5]\n"
          ],
          "name": "stdout"
        }
      ]
    },
    {
      "cell_type": "code",
      "metadata": {
        "colab": {
          "base_uri": "https://localhost:8080/"
        },
        "id": "aZjbPEnTmRcm",
        "outputId": "a19f02d9-a9a9-4edf-ad0a-dbe2409d65db"
      },
      "source": [
        "# 탱크 시즈모드 개발\n",
        "Tank.siege_developed = True\n",
        "print(\"[알림] 탱크 시즈 모드 개발이 완료되었습니다.\")"
      ],
      "execution_count": null,
      "outputs": [
        {
          "output_type": "stream",
          "text": [
            "[알림] 탱크 시즈 모드 개발이 완료되었습니다.\n"
          ],
          "name": "stdout"
        }
      ]
    },
    {
      "cell_type": "code",
      "metadata": {
        "colab": {
          "base_uri": "https://localhost:8080/"
        },
        "id": "M4_EDR8amUVH",
        "outputId": "36555750-234f-4e40-871d-a6d0df519a30"
      },
      "source": [
        "# 공격 모드 준비 (마린 : 스팀팩, 탱크 : 시즈모드, 레이스 : 클로킹)\n",
        "# isinstance → 객체가 특정 클래스의 인스턴스인지 여부를 확인\n",
        "for unit in attack_units:\n",
        "    if isinstance(unit, Marine): # Marine 의 인스턴스이면 스팀팩\n",
        "        unit.stimpack()\n",
        "    elif isinstance(unit, Tank): # Tank 의 인스턴스이면 시즈모드\n",
        "        unit.set_siege_mode()\n",
        "    elif isinstance(unit, Wraith): # Wraith 의 인스턴스이면 클로킹\n",
        "        unit.cloaking()"
      ],
      "execution_count": null,
      "outputs": [
        {
          "output_type": "stream",
          "text": [
            "마린 : 스팀팩을 사용합니다. (HP 10 감소)\n",
            "마린 : 스팀팩을 사용합니다. (HP 10 감소)\n",
            "마린 : 스팀팩을 사용합니다. (HP 10 감소)\n",
            "탱크 : 시즈모드로 전환합니다.\n",
            "탱크 : 시즈모드를 해제합니다.\n",
            "레이스 : 클로킹 모드 설정합니다.\n"
          ],
          "name": "stdout"
        }
      ]
    },
    {
      "cell_type": "code",
      "metadata": {
        "colab": {
          "base_uri": "https://localhost:8080/"
        },
        "id": "QT2cifnJmniT",
        "outputId": "350a6cb0-f9b4-48ea-8454-6b080349f7f5"
      },
      "source": [
        "# 전군 공격\n",
        "for unit in attack_units:\n",
        "    unit.attack(\"1시\") # 부모 클래스인 AttackUnit 의 attack() 메소드를 활용"
      ],
      "execution_count": null,
      "outputs": [
        {
          "output_type": "stream",
          "text": [
            "마린 : 1시 방향으로 적군을 공격 합니다. [공격력 5]\n",
            "마린 : 1시 방향으로 적군을 공격 합니다. [공격력 5]\n",
            "마린 : 1시 방향으로 적군을 공격 합니다. [공격력 5]\n",
            "탱크 : 1시 방향으로 적군을 공격 합니다. [공격력 35.0]\n",
            "탱크 : 1시 방향으로 적군을 공격 합니다. [공격력 35.0]\n",
            "레이스 : 1시 방향으로 적군을 공격 합니다. [공격력 20]\n"
          ],
          "name": "stdout"
        }
      ]
    },
    {
      "cell_type": "code",
      "metadata": {
        "colab": {
          "base_uri": "https://localhost:8080/"
        },
        "id": "VMUbLKHumq6z",
        "outputId": "30ffa4e8-baa8-49cf-c03a-634cd60dcf17"
      },
      "source": [
        "from random import *\n",
        "\n",
        "# 전군 피해\n",
        "for unit in attack_units:\n",
        "    unit.damaged(randint(5, 20)) # 공격은 랜덤으로 받음 (5 ~ 20)"
      ],
      "execution_count": null,
      "outputs": [
        {
          "output_type": "stream",
          "text": [
            "마린 : 20 데미지를 입었습니다.\n",
            "마린 : 현재 체력은 10 입니다.\n",
            "마린 : 5 데미지를 입었습니다.\n",
            "마린 : 현재 체력은 25 입니다.\n",
            "마린 : 11 데미지를 입었습니다.\n",
            "마린 : 현재 체력은 19 입니다.\n",
            "탱크 : 20 데미지를 입었습니다.\n",
            "탱크 : 현재 체력은 130 입니다.\n",
            "탱크 : 15 데미지를 입었습니다.\n",
            "탱크 : 현재 체력은 115 입니다.\n",
            "레이스 : 16 데미지를 입었습니다.\n",
            "레이스 : 현재 체력은 64 입니다.\n"
          ],
          "name": "stdout"
        }
      ]
    },
    {
      "cell_type": "code",
      "metadata": {
        "colab": {
          "base_uri": "https://localhost:8080/"
        },
        "id": "3Ipypcf3nHSk",
        "outputId": "d8e12670-2791-44b2-b099-10e1d2c538dd"
      },
      "source": [
        "# 게임 종료\n",
        "game_over()"
      ],
      "execution_count": null,
      "outputs": [
        {
          "output_type": "stream",
          "text": [
            "Player : gg\n",
            "[Player] 님이 게임에서 퇴장하셨습니다.\n"
          ],
          "name": "stdout"
        }
      ]
    },
    {
      "cell_type": "code",
      "metadata": {
        "id": "loppg5pTnJMc"
      },
      "source": [
        "# 부동산 프로그램"
      ],
      "execution_count": null,
      "outputs": []
    },
    {
      "cell_type": "code",
      "metadata": {
        "id": "Q6qrQZ30nwpj"
      },
      "source": [
        "class House:\n",
        "    # 매물 초기화 : 위치, 건물 종류, 매물 종류, 가격, 준공년도\n",
        "    def __init__(self, location, house_type, deal_type, price, completion_year):\n",
        "        self.location = location\n",
        "        self.house_type = house_type\n",
        "        self.deal_type = deal_type\n",
        "        self.price = price\n",
        "        self.completion_year = completion_year\n",
        "\n",
        "    # 매물 정보 표시\n",
        "    def show_detail(self):\n",
        "        print(self.location, self.house_type, self.deal_type, self.price, self.completion_year)"
      ],
      "execution_count": null,
      "outputs": []
    },
    {
      "cell_type": "code",
      "metadata": {
        "id": "QQ6Wm5IvoYUl"
      },
      "source": [
        "houses = []\n",
        "house1 = House(\"강남\", \"아파트\", \"매매\", \"10억\", \"2010년\")\n",
        "house2 = House(\"마포\", \"오피스텔\", \"전세\", \"5억\", \"2007년\")\n",
        "house3 = House(\"송파\", \"빌라\", \"월세\", \"500/50\", \"2000년\")\n",
        "\n",
        "houses.append(house1)\n",
        "houses.append(house2)\n",
        "houses.append(house3)"
      ],
      "execution_count": null,
      "outputs": []
    },
    {
      "cell_type": "code",
      "metadata": {
        "colab": {
          "base_uri": "https://localhost:8080/"
        },
        "id": "71FeZDJIoZ_z",
        "outputId": "42a90077-3b21-4762-a08e-119771528893"
      },
      "source": [
        "print(\"총 {0}대의 매물이 있습니다.\".format(len(houses)))\n",
        "\n",
        "for house in houses:\n",
        "    house.show_detail()"
      ],
      "execution_count": null,
      "outputs": [
        {
          "output_type": "stream",
          "text": [
            "총 3대의 매물이 있습니다.\n",
            "강남 아파트 매매 10억 2010년\n",
            "마포 오피스텔 전세 5억 2007년\n",
            "송파 빌라 월세 500/50 2000년\n"
          ],
          "name": "stdout"
        }
      ]
    },
    {
      "cell_type": "code",
      "metadata": {
        "id": "vozmW0VFobc-"
      },
      "source": [
        ""
      ],
      "execution_count": null,
      "outputs": []
    }
  ]
}