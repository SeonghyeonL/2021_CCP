{
  "nbformat": 4,
  "nbformat_minor": 0,
  "metadata": {
    "colab": {
      "name": "NadoPrac2.ipynb",
      "provenance": [],
      "collapsed_sections": [],
      "authorship_tag": "ABX9TyOG4HyId2ugIyZplrXJjBcp"
    },
    "kernelspec": {
      "name": "python3",
      "display_name": "Python 3"
    },
    "language_info": {
      "name": "python"
    }
  },
  "cells": [
    {
      "cell_type": "code",
      "metadata": {
        "id": "vcFIuHJ0WLnY"
      },
      "source": [
        "# 5~7"
      ],
      "execution_count": null,
      "outputs": []
    },
    {
      "cell_type": "code",
      "metadata": {
        "id": "VRE4VpwB_ZA1"
      },
      "source": [
        "subway = [10, 20, 30] # 리스트\n",
        "print(subway) # [10, 20, 30]"
      ],
      "execution_count": null,
      "outputs": []
    },
    {
      "cell_type": "code",
      "metadata": {
        "id": "9D9Cuyg-_gPL"
      },
      "source": [
        "subway = [\"유재석\", \"조세호\", \"박명수\"]\n",
        "print(subway)\n",
        "\n",
        "# 조세호씨가 몇 번째 칸에 타고 있는가?\n",
        "print(subway.index(\"조세호\")) # 1\n",
        "\n",
        "# 하하씨가 다음 정류장에서 다음 칸에 탐\n",
        "subway.append(\"하하\")\n",
        "print(subway) # ['유재석', '조세호', '박명수', '하하']\n",
        "\n",
        "# 정형돈씨를 유재석 / 조세호 사이에 태움\n",
        "subway.insert(1, \"정형돈\") # 인덱스 1 위치에 삽입\n",
        "print(subway) # ['유재석', '정형돈', '조세호', '박명수', '하하']"
      ],
      "execution_count": null,
      "outputs": []
    },
    {
      "cell_type": "code",
      "metadata": {
        "id": "-u9jf-QM_tKi"
      },
      "source": [
        "# 지하철에 있는 사람을 한 명씩 뒤에서 꺼냄\n",
        "print(subway.pop()) # 하하 내림\n",
        "print(subway) # ['유재석', '정형돈', '조세호', '박명수']\n",
        "\n",
        "print(subway.pop()) # 박명수 내림\n",
        "print(subway) # ['유재석', '정형돈', '조세호']\n",
        "\n",
        "print(subway.pop()) # 조세호 내림\n",
        "print(subway) # ['유재석', '정형돈']"
      ],
      "execution_count": null,
      "outputs": []
    },
    {
      "cell_type": "code",
      "metadata": {
        "id": "9fwy2ZJK_4KE"
      },
      "source": [
        "# 같은 이름의 사람이 몇 명 있는지 확인\n",
        "subway.append(\"유재석\") # 설명을 위해 유재석씨를 맨 뒤에 태울게요\n",
        "print(subway) # ['유재석', '정형돈', '유재석']\n",
        "print(subway.count(\"유재석\")) # 유재석씨가 2명이 있네요!"
      ],
      "execution_count": null,
      "outputs": []
    },
    {
      "cell_type": "code",
      "metadata": {
        "id": "QoxZdViC_9MF"
      },
      "source": [
        "num_list = [5, 2, 4, 3, 1]\n",
        "num_list.sort() # 정렬\n",
        "print(num_list) # [1, 2, 3, 4, 5]\n",
        "num_list.reverse() # 순서 뒤집기\n",
        "print(num_list) # [5, 4, 3, 2, 1]\n",
        "num_list.clear() # 모두 지우기\n",
        "print(num_list) # []"
      ],
      "execution_count": null,
      "outputs": []
    },
    {
      "cell_type": "code",
      "metadata": {
        "id": "T0xr0rR8BUcf"
      },
      "source": [
        "mix_list = [\"조세호\", 20, True] # 다양한 자료형을 함께 사용할 수 있어요\n",
        "print(mix_list) # ['조세호', 20, True]\n",
        "\n",
        "num_list = [5, 2, 4, 3, 1] # num_list 값 다시 정의\n",
        "num_list.extend(mix_list) # 리스트 확장\n",
        "print(num_list) # [5, 2, 4, 3, 1, '조세호', 20, True]"
      ],
      "execution_count": null,
      "outputs": []
    },
    {
      "cell_type": "code",
      "metadata": {
        "id": "YTJdnCxaTmyw"
      },
      "source": [
        "cabinet = {3: \"유재석\", 100: \"김태호\"}\n",
        "print(cabinet[3]) # 유재석 -> key 3 에 해당하는 value\n",
        "print(cabinet[100]) # 김태호 -> key 100 에 해당하는 value\n",
        "print(cabinet.get(3)) # 유재석 -> key 3 에 해당하는 value"
      ],
      "execution_count": null,
      "outputs": []
    },
    {
      "cell_type": "code",
      "metadata": {
        "id": "OmN8iLzeT94j"
      },
      "source": [
        "#print(cabinet[5]) # key 가 5 인 값이 없을 땐 에러 발생 후 프로그램 종료\n",
        "print(cabinet.get(5)) # key 가 5 인 값이 없을 땐 None 반환 후 계속 진행"
      ],
      "execution_count": null,
      "outputs": []
    },
    {
      "cell_type": "code",
      "metadata": {
        "id": "l60uH1S4URP4"
      },
      "source": [
        "print(cabinet.get(5, \"사용 가능\")) # key 에 해당하는 값이 없는 경우 기본 값을 사용"
      ],
      "execution_count": null,
      "outputs": []
    },
    {
      "cell_type": "code",
      "metadata": {
        "id": "cVER69R0UZtu"
      },
      "source": [
        "# 사전 자료형에 값이 있는지 여부 확인\n",
        "print(3 in cabinet)  # True\n",
        "print(5 in cabinet)  # False"
      ],
      "execution_count": null,
      "outputs": []
    },
    {
      "cell_type": "code",
      "metadata": {
        "id": "-Xs9Idf9UeOZ"
      },
      "source": [
        "# key 는 정수형이 아닌 문자열도 가능\n",
        "cabinet = {\"A-3\": \"유재석\", \"B-100\": \"김태호\"}\n",
        "print(cabinet[\"A-3\"]) # 유재석\n",
        "print(cabinet[\"B-100\"]) # 김태호"
      ],
      "execution_count": null,
      "outputs": []
    },
    {
      "cell_type": "code",
      "metadata": {
        "id": "SfD8CIDGUgG7"
      },
      "source": [
        "# 업데이트 또는 추가\n",
        "print(cabinet) # {'A-3': '유재석', 'B-100': '김태호'}\n",
        "cabinet[\"A-3\"] = \"김종국\" # key 에 해당하는 값이 있는 경우 업데이트\n",
        "cabinet[\"C-20\"] = \"조세호\" # key 에 해당하는 값이 없는 경우 신규 추가\n",
        "print(cabinet) # {'A-3': '김종국', 'B-100': '김태호', 'C-20': '조세호'}"
      ],
      "execution_count": null,
      "outputs": []
    },
    {
      "cell_type": "code",
      "metadata": {
        "id": "ZTxF1oL2UnC5"
      },
      "source": [
        "# 삭제\n",
        "del cabinet[\"A-3\"] # key \"A-3\" 에 해당하는 데이터 삭제\n",
        "print(cabinet) # {'B-100': '김태호', 'C-20': '조세호'}"
      ],
      "execution_count": null,
      "outputs": []
    },
    {
      "cell_type": "code",
      "metadata": {
        "id": "b20qxhSnUsPi"
      },
      "source": [
        "# key 들만 출력\n",
        "print(cabinet.keys()) # dict_keys(['B-100', 'C-20'])\n",
        "\n",
        "# value 들만 출력\n",
        "print(cabinet.values()) # dict_values(['김태호', '조세호'])\n",
        "\n",
        "# key, value 쌍으로 출력\n",
        "print(cabinet.items()) # dict_items([('B-100', '김태호'), ('C-20', '조세호')])"
      ],
      "execution_count": null,
      "outputs": []
    },
    {
      "cell_type": "code",
      "metadata": {
        "id": "E1d00B8yUvwF"
      },
      "source": [
        "# 전체 삭제\n",
        "cabinet.clear()\n",
        "print(cabinet) # {}"
      ],
      "execution_count": null,
      "outputs": []
    },
    {
      "cell_type": "code",
      "metadata": {
        "id": "QTrwLxUvU4cu"
      },
      "source": [
        "# 튜플 -> 리스트의 읽기 전용 버전\n",
        "# 처음 정의할 때를 제외하고는 데이터 변경이나 추가, 삭제 등이 불가\n",
        "# 대신 리스트보다는 속도가 빠름\n",
        "\n",
        "menu = (\"돈까스\", \"치즈까스\")\n",
        "print(menu[0]) # 돈까스\n",
        "print(menu[1]) # 치즈까스"
      ],
      "execution_count": null,
      "outputs": []
    },
    {
      "cell_type": "code",
      "metadata": {
        "id": "KzYCeKsZV7UK"
      },
      "source": [
        "(name, age, hobby) = (\"김종국\", 20, \"코딩\")\n",
        "print(name, age, hobby) # 김종국 20 코딩\n",
        "\n",
        "# 이 예제에서 좌항과 우항의 괄호는 있거나 없거나 결과는 동일!"
      ],
      "execution_count": null,
      "outputs": []
    },
    {
      "cell_type": "code",
      "metadata": {
        "id": "6kd23KIRV-je"
      },
      "source": [
        "# 세트(set, 집합)\n",
        "# 중복을 허용하지 않으며 또한 데이터의 순서도 보장하지 않음\n",
        "\n",
        "my_set = {1, 2, 3, 3, 3} # 중복을 허용하지 않으므로 3은 1번만 들어감\n",
        "print(my_set) # {1, 2, 3}\n",
        "\n",
        "java = {\"유재석\", \"김태호\", \"양세형\"} # 자바 개발자 집합\n",
        "python = set([\"유재석\", \"박명수\"]) # 파이썬 개발자 집합\n",
        "\n",
        "# 교집합 (java 와 python 을 모두 할 수 있는 개발자)\n",
        "print(java & python) # {'유재석'}\n",
        "print(java.intersection(python)) # {'유재석'}\n",
        "\n",
        "# 합집합 (java 또는 python 을 할 수 있는 개발자)\n",
        "print(java | python) # {'박명수', '유재석', '김태호', '양세형'}\n",
        "print(java.union(python)) # {'박명수', '유재석', '김태호', '양세형'}\n",
        "\n",
        "# 차집합 (java 는 할 수 있지만 python 은 할 줄 모르는 개발자)\n",
        "print(java - python) # {'양세형', '김태호'}\n",
        "print(java.difference(python)) # {'양세형', '김태호'}"
      ],
      "execution_count": null,
      "outputs": []
    },
    {
      "cell_type": "code",
      "metadata": {
        "id": "gKCAsN3OWdc0"
      },
      "source": [
        "# python 개발자 추가 (기존 개발자 : 박명수, 유재석)\n",
        "python.add(\"김태호\")\n",
        "print(python) # {'박명수', '유재석', '김태호'}\n",
        "\n",
        "# java 개발자 삭제 (기존 개발자 : 유재석, 김태호, 양세형)\n",
        "java.remove(\"김태호\")\n",
        "print(java) # {'유재석', '양세형'}"
      ],
      "execution_count": null,
      "outputs": []
    },
    {
      "cell_type": "code",
      "metadata": {
        "id": "Sfh39DFBW578"
      },
      "source": [
        "menu = {\"커피\", \"우유\", \"주스\"}\n",
        "print(menu, type(menu)) # menu 의 type 정보 : set\n",
        "menu = list(menu) # 리스트 형태로 변환\n",
        "print(menu, type(menu)) # menu 의 type 정보 : list\n",
        "menu = tuple(menu) # 튜플 형태로 변환\n",
        "print(menu, type(menu)) # menu 의 type 정보 : tuple\n",
        "menu = set(menu) # 세트 형태로 변환\n",
        "print(menu, type(menu)) # menu 의 type 정보 : set"
      ],
      "execution_count": null,
      "outputs": []
    },
    {
      "cell_type": "code",
      "metadata": {
        "colab": {
          "base_uri": "https://localhost:8080/"
        },
        "id": "LJ4V9IA1YmVX",
        "outputId": "11378c8a-e11f-43f4-b1ea-c039edd6321a"
      },
      "source": [
        "from random import *\n",
        "\n",
        "users = range(1, 21) # 1 부터 21 직전까지의 연속된 숫자 모음\n",
        "users = list(users) # range 를 list 로 변환\n",
        "shuffle(users) # shuffle은 list에 대해서만 사용 가능\n",
        "\n",
        "winners = sample(users, 4) # users 리스트에서 중복 없이 4명을 추첨\n",
        "\n",
        "print(\" -- 당첨자 발표 -- \")\n",
        "print(\"치킨 당첨자 : {0}\".format(winners[0])) # 0 번째 인덱스 (1명)\n",
        "print(\"커피 당첨자 : {0}\".format(winners[1:])) # 1 번째부터 마지막까지 슬라이싱 (3명)\n",
        "print(\" -- 축하합니다 --\")"
      ],
      "execution_count": null,
      "outputs": [
        {
          "output_type": "stream",
          "text": [
            " -- 당첨자 발표 -- \n",
            "치킨 당첨자 : 3\n",
            "커피 당첨자 : [13, 14, 12]\n",
            " -- 축하합니다 --\n"
          ],
          "name": "stdout"
        }
      ]
    },
    {
      "cell_type": "code",
      "metadata": {
        "colab": {
          "base_uri": "https://localhost:8080/"
        },
        "id": "pRVeQ_Xtg2Y2",
        "outputId": "e7308669-9873-443b-8317-11ff03916eb2"
      },
      "source": [
        "from random import *\n",
        "\n",
        "users = list(range(1, 21)) # range 를 list 로 바로 감싸면 한 줄 더 줄일 수 있어요!\n",
        "shuffle(users)\n",
        "\n",
        "chicken_winner = sample(users, 1) # 치킨 당첨자 1명 추첨\n",
        "remain_users = set(users) - set(chicken_winner) # 전체 집합에서 치킨 당첨자 집합을 제외\n",
        "coffee_winners = sample(remain_users, 3) # 남은 19명 중에서 3명 추첨\n",
        "\n",
        "print(\"-- 당첨자 발표 --\")\n",
        "print(\"치킨 당첨자 : {0}\".format(chicken_winner))\n",
        "print(\"커피 당첨자 : {0}\".format(coffee_winners))\n",
        "print(\"-- 축하합니다 --\")"
      ],
      "execution_count": null,
      "outputs": [
        {
          "output_type": "stream",
          "text": [
            "-- 당첨자 발표 --\n",
            "치킨 당첨자 : [10]\n",
            "커피 당첨자 : [2, 13, 4]\n",
            "-- 축하합니다 --\n"
          ],
          "name": "stdout"
        }
      ]
    },
    {
      "cell_type": "code",
      "metadata": {
        "colab": {
          "base_uri": "https://localhost:8080/"
        },
        "id": "9iC2C3XPi2o-",
        "outputId": "977dc9ac-6abb-49e4-d9b5-e94cc112e951"
      },
      "source": [
        "#weather = \"비\"\n",
        "#weather = \"맑음\"\n",
        "#weather = \"미세먼지\"\n",
        "weather = input(\"오늘 날씨는 어때요? \")\n",
        "\n",
        "if weather == \"비\" or weather == \"눈\":\n",
        "    print(\"우산을 챙기세요\")\n",
        "elif weather == \"미세먼지\":\n",
        "    print(\"마스크를 챙기세요\")\n",
        "else:\n",
        "    print(\"준비물 필요 없어요\")"
      ],
      "execution_count": null,
      "outputs": [
        {
          "output_type": "stream",
          "text": [
            "오늘 날씨는 어때요? 눈\n",
            "우산을 챙기세요\n"
          ],
          "name": "stdout"
        }
      ]
    },
    {
      "cell_type": "code",
      "metadata": {
        "colab": {
          "base_uri": "https://localhost:8080/"
        },
        "id": "TMRK2Sbekvkk",
        "outputId": "61e231ce-c4b0-4131-85aa-e8cf221820af"
      },
      "source": [
        "temp = int(input(\"기온은 어때요? \"))\n",
        "if 30 <= temp: # 30 도 이상이면\n",
        "    print(\"너무 더워요. 나가지 마세요\")\n",
        "elif 10 <= temp and temp < 30: # 10도 이상 30도 미만이면\n",
        "    print(\"괜찮은 날씨에요\")\n",
        "elif 0 <= temp and temp < 10: # 0도 이상 10도 미만이면\n",
        "# 위 비교 문장은 이렇게도 작성 가능합니다.\n",
        "# elif 0 <= temp < 10:\n",
        "    print(\"외투를 챙기세요\")\n",
        "else: # 그 외의 모든 경우 (0도 미만이면)\n",
        "    print(\"너무 추워요. 나가지 마세요\")"
      ],
      "execution_count": null,
      "outputs": [
        {
          "output_type": "stream",
          "text": [
            "기온은 어때요? -1\n",
            "너무 추워요. 나가지 마세요\n"
          ],
          "name": "stdout"
        }
      ]
    },
    {
      "cell_type": "code",
      "metadata": {
        "colab": {
          "base_uri": "https://localhost:8080/"
        },
        "id": "4s47Vx_klDHx",
        "outputId": "3d44a007-95db-4e77-ecb4-7dcdfd0a057c"
      },
      "source": [
        "for waiting_no in range(1, 6): # 1부터 6직전까지 (1~5)\n",
        "    print(\"대기번호 : {0}\".format(waiting_no))"
      ],
      "execution_count": null,
      "outputs": [
        {
          "output_type": "stream",
          "text": [
            "대기번호 : 1\n",
            "대기번호 : 2\n",
            "대기번호 : 3\n",
            "대기번호 : 4\n",
            "대기번호 : 5\n"
          ],
          "name": "stdout"
        }
      ]
    },
    {
      "cell_type": "code",
      "metadata": {
        "colab": {
          "base_uri": "https://localhost:8080/"
        },
        "id": "hna8uTvylhe2",
        "outputId": "18575972-3666-4e2c-d2ec-b981353b5af1"
      },
      "source": [
        "starbucks = [\"아이언맨\", \"토르\", \"아이엠 그루트\"] # 손님 리스트\n",
        "for customer in starbucks:\n",
        "    print(\"{0}, 커피가 준비되었습니다\".format(customer))"
      ],
      "execution_count": null,
      "outputs": [
        {
          "output_type": "stream",
          "text": [
            "아이언맨, 커피가 준비되었습니다\n",
            "토르, 커피가 준비되었습니다\n",
            "아이엠 그루트, 커피가 준비되었습니다\n"
          ],
          "name": "stdout"
        }
      ]
    },
    {
      "cell_type": "code",
      "metadata": {
        "colab": {
          "base_uri": "https://localhost:8080/"
        },
        "id": "y4v1_3yslqA2",
        "outputId": "8868b3c4-c195-4183-d38f-710ab6d65a03"
      },
      "source": [
        "customer = \"토르\" # 손님\n",
        "index = 5 # 부르는 횟수, 총 5회\n",
        "\n",
        "while index >= 1: # 부르는 횟수가 1 이상인 경우에만 반복 실행\n",
        "    print(\"{0}, 커피가 준비 되었습니다. {1} 번 남았어요.\".format(customer, index))    \n",
        "    index -= 1 # 부르는 횟수 감소\n",
        "    if index == 0: # 5번 모두 불렀다면\n",
        "        print(\"커피는 폐기처분되었습니다.\")"
      ],
      "execution_count": null,
      "outputs": [
        {
          "output_type": "stream",
          "text": [
            "토르, 커피가 준비 되었습니다. 5 번 남았어요.\n",
            "토르, 커피가 준비 되었습니다. 4 번 남았어요.\n",
            "토르, 커피가 준비 되었습니다. 3 번 남았어요.\n",
            "토르, 커피가 준비 되었습니다. 2 번 남았어요.\n",
            "토르, 커피가 준비 되었습니다. 1 번 남았어요.\n",
            "커피는 폐기처분되었습니다.\n"
          ],
          "name": "stdout"
        }
      ]
    },
    {
      "cell_type": "code",
      "metadata": {
        "colab": {
          "base_uri": "https://localhost:8080/"
        },
        "id": "v4gxyIqrl0W_",
        "outputId": "269fdeb2-a3ec-4a1c-e31b-7b75eae46040"
      },
      "source": [
        "customer = \"토르\"\n",
        "person = \"Unknown\"\n",
        "\n",
        "while person != customer:\n",
        "    print(\"{0}, 커피가 준비 되었습니다.\".format(customer))\n",
        "    person = input(\"이름이 어떻게 되세요? \")"
      ],
      "execution_count": null,
      "outputs": [
        {
          "output_type": "stream",
          "text": [
            "토르, 커피가 준비 되었습니다.\n",
            "이름이 어떻게 되세요? 아이언맨\n",
            "토르, 커피가 준비 되었습니다.\n",
            "이름이 어떻게 되세요? 아이엠그루트\n",
            "토르, 커피가 준비 되었습니다.\n",
            "이름이 어떻게 되세요? 토르\n"
          ],
          "name": "stdout"
        }
      ]
    },
    {
      "cell_type": "code",
      "metadata": {
        "colab": {
          "base_uri": "https://localhost:8080/"
        },
        "id": "N4ASz9Fsl_pW",
        "outputId": "22747281-055e-4dea-d18e-262f9fc7fbcb"
      },
      "source": [
        "absent = [2, 5] # 결석한 학생 출석번호\n",
        "no_book = [7] # 책을 가져오지 않은 학생 출석번호\n",
        "\n",
        "for student in range(1, 11): # 출석번호 1~10번\n",
        "    if student in absent: # 결석했으면 책을 읽지 않고 다음 학생으로 넘어가기\n",
        "        continue\n",
        "    elif student in no_book: # 책을 가져오지 않았으면 바로 수업 종료 (반복문 탈출)\n",
        "        print(\"오늘 수업 여기까지. {0}는 교무실로 따라와\".format(student))\n",
        "        break\n",
        "    print(\"{0}, 책을 읽어봐\".format(student))"
      ],
      "execution_count": null,
      "outputs": [
        {
          "output_type": "stream",
          "text": [
            "1, 책을 읽어봐\n",
            "3, 책을 읽어봐\n",
            "4, 책을 읽어봐\n",
            "6, 책을 읽어봐\n",
            "오늘 수업 여기까지. 7는 교무실로 따라와\n"
          ],
          "name": "stdout"
        }
      ]
    },
    {
      "cell_type": "code",
      "metadata": {
        "colab": {
          "base_uri": "https://localhost:8080/"
        },
        "id": "wwJzW7DWmkNx",
        "outputId": "f5ab36c8-abd1-4e43-bcb3-35eaeabe5846"
      },
      "source": [
        "students = [1, 2, 3, 4, 5]\n",
        "print(students) # [1, 2, 3, 4, 5]\n",
        "\n",
        "# 한 줄 for 를 이용하여 각 항목에 100 을 더함\n",
        "students = [i + 100 for i in students]\n",
        "print(students) # [101, 102, 103, 104, 105]"
      ],
      "execution_count": null,
      "outputs": [
        {
          "output_type": "stream",
          "text": [
            "[1, 2, 3, 4, 5]\n",
            "[101, 102, 103, 104, 105]\n"
          ],
          "name": "stdout"
        }
      ]
    },
    {
      "cell_type": "code",
      "metadata": {
        "colab": {
          "base_uri": "https://localhost:8080/"
        },
        "id": "nGHfIvWkpC5g",
        "outputId": "d3c789a5-ada6-4a68-b04b-af207f1814c5"
      },
      "source": [
        "students = [\"Iron man\", \"Thor\", \"I am groot\"]\n",
        "print(students) # [\"Iron man\", \"Thor\", \"I am groot\"]\n",
        "\n",
        "# 한 줄 for 를 이용하여 각 이름의 길이 정보로 변환 (띄어쓰기 포함)\n",
        "students = [len(i) for i in students]\n",
        "print(students) # [8, 4, 10]"
      ],
      "execution_count": null,
      "outputs": [
        {
          "output_type": "stream",
          "text": [
            "['Iron man', 'Thor', 'I am groot']\n",
            "[8, 4, 10]\n"
          ],
          "name": "stdout"
        }
      ]
    },
    {
      "cell_type": "code",
      "metadata": {
        "colab": {
          "base_uri": "https://localhost:8080/"
        },
        "id": "_pIzy6wvpEeN",
        "outputId": "9a30b841-7b89-4b50-b3c5-ba242ce75746"
      },
      "source": [
        "students = [\"Iron man\", \"Thor\", \"I am groot\"]\n",
        "print(students) # [\"Iron man\", \"Thor\", \"I am groot\"]\n",
        "\n",
        "# 한 줄 for 를 이용하여 각 이름을 대문자로 변경\n",
        "students = [i.upper() for i in students]\n",
        "print(students) # ['IRON MAN', 'THOR', 'I AM GROOT']"
      ],
      "execution_count": null,
      "outputs": [
        {
          "output_type": "stream",
          "text": [
            "['Iron man', 'Thor', 'I am groot']\n",
            "['IRON MAN', 'THOR', 'I AM GROOT']\n"
          ],
          "name": "stdout"
        }
      ]
    },
    {
      "cell_type": "code",
      "metadata": {
        "colab": {
          "base_uri": "https://localhost:8080/"
        },
        "id": "5FZCha-VpMNe",
        "outputId": "302a1b03-f162-4e62-b251-61d3639b528c"
      },
      "source": [
        "from random import *\n",
        "cnt = 0\n",
        "for i in range(1,51):\n",
        "  time = randrange(5,51)\n",
        "  if 5 <= time <= 15:\n",
        "    print(\"[O] {0}번째 손님 (소요시간 : {1}분)\".format(i, time))\n",
        "    cnt += 1\n",
        "  else:\n",
        "    print(\"[ ] {0}번째 손님 (소요시간 : {1}분)\".format(i, time))\n",
        "print(\"총 탑승 승객 : {0}분\".format(cnt))"
      ],
      "execution_count": null,
      "outputs": [
        {
          "output_type": "stream",
          "text": [
            "[ ] 1번째 손님 (소요시간 : 41분)\n",
            "[ ] 2번째 손님 (소요시간 : 41분)\n",
            "[ ] 3번째 손님 (소요시간 : 31분)\n",
            "[O] 4번째 손님 (소요시간 : 5분)\n",
            "[O] 5번째 손님 (소요시간 : 5분)\n",
            "[ ] 6번째 손님 (소요시간 : 32분)\n",
            "[O] 7번째 손님 (소요시간 : 13분)\n",
            "[ ] 8번째 손님 (소요시간 : 30분)\n",
            "[ ] 9번째 손님 (소요시간 : 23분)\n",
            "[ ] 10번째 손님 (소요시간 : 43분)\n",
            "[O] 11번째 손님 (소요시간 : 9분)\n",
            "[ ] 12번째 손님 (소요시간 : 30분)\n",
            "[ ] 13번째 손님 (소요시간 : 21분)\n",
            "[ ] 14번째 손님 (소요시간 : 37분)\n",
            "[ ] 15번째 손님 (소요시간 : 42분)\n",
            "[ ] 16번째 손님 (소요시간 : 16분)\n",
            "[O] 17번째 손님 (소요시간 : 9분)\n",
            "[O] 18번째 손님 (소요시간 : 14분)\n",
            "[ ] 19번째 손님 (소요시간 : 45분)\n",
            "[ ] 20번째 손님 (소요시간 : 43분)\n",
            "[ ] 21번째 손님 (소요시간 : 30분)\n",
            "[ ] 22번째 손님 (소요시간 : 46분)\n",
            "[ ] 23번째 손님 (소요시간 : 38분)\n",
            "[ ] 24번째 손님 (소요시간 : 18분)\n",
            "[ ] 25번째 손님 (소요시간 : 29분)\n",
            "[ ] 26번째 손님 (소요시간 : 47분)\n",
            "[ ] 27번째 손님 (소요시간 : 33분)\n",
            "[ ] 28번째 손님 (소요시간 : 47분)\n",
            "[ ] 29번째 손님 (소요시간 : 50분)\n",
            "[ ] 30번째 손님 (소요시간 : 39분)\n",
            "[O] 31번째 손님 (소요시간 : 8분)\n",
            "[ ] 32번째 손님 (소요시간 : 46분)\n",
            "[ ] 33번째 손님 (소요시간 : 26분)\n",
            "[ ] 34번째 손님 (소요시간 : 34분)\n",
            "[ ] 35번째 손님 (소요시간 : 27분)\n",
            "[O] 36번째 손님 (소요시간 : 7분)\n",
            "[ ] 37번째 손님 (소요시간 : 33분)\n",
            "[ ] 38번째 손님 (소요시간 : 49분)\n",
            "[ ] 39번째 손님 (소요시간 : 48분)\n",
            "[O] 40번째 손님 (소요시간 : 10분)\n",
            "[ ] 41번째 손님 (소요시간 : 37분)\n",
            "[ ] 42번째 손님 (소요시간 : 22분)\n",
            "[ ] 43번째 손님 (소요시간 : 22분)\n",
            "[ ] 44번째 손님 (소요시간 : 17분)\n",
            "[ ] 45번째 손님 (소요시간 : 20분)\n",
            "[O] 46번째 손님 (소요시간 : 9분)\n",
            "[ ] 47번째 손님 (소요시간 : 40분)\n",
            "[ ] 48번째 손님 (소요시간 : 40분)\n",
            "[O] 49번째 손님 (소요시간 : 9분)\n",
            "[ ] 50번째 손님 (소요시간 : 30분)\n",
            "총 탑승 승객 : 11분\n"
          ],
          "name": "stdout"
        }
      ]
    },
    {
      "cell_type": "code",
      "metadata": {
        "colab": {
          "base_uri": "https://localhost:8080/"
        },
        "id": "oQluX8WhywkM",
        "outputId": "a368a130-a83a-4d0b-c608-01ecea7c6114"
      },
      "source": [
        "# 함수\n",
        "# 보통 변수는 명사, 함수는 동사를 이용\n",
        "\n",
        "def open_account():\n",
        "    print(\"새로운 계좌가 생성되었습니다.\")\n",
        "\n",
        "open_account() # 앞에서 정의된 open_account() 함수 호출"
      ],
      "execution_count": null,
      "outputs": [
        {
          "output_type": "stream",
          "text": [
            "새로운 계좌가 생성되었습니다.\n"
          ],
          "name": "stdout"
        }
      ]
    },
    {
      "cell_type": "code",
      "metadata": {
        "colab": {
          "base_uri": "https://localhost:8080/"
        },
        "id": "UdmVoVE7zY9n",
        "outputId": "f241f11d-104f-4db3-cbc6-74eba15bde6d"
      },
      "source": [
        "def deposit(balance, money): # 입금\n",
        "    print(\"입금이 완료되었습니다. 잔액은 {0} 원입니다.\".format(balance + money))\n",
        "    return balance + money # 입금 후 잔액 정보 반환\n",
        "    \n",
        "balance = 0 # 최초 잔액\n",
        "balance = deposit(balance, 1000) # 1000원 입금\n",
        "print(balance) # 현재 잔액"
      ],
      "execution_count": null,
      "outputs": [
        {
          "output_type": "stream",
          "text": [
            "입금이 완료되었습니다. 잔액은 1000 원입니다.\n",
            "1000\n"
          ],
          "name": "stdout"
        }
      ]
    },
    {
      "cell_type": "code",
      "metadata": {
        "colab": {
          "base_uri": "https://localhost:8080/"
        },
        "id": "OhgKg36az7jH",
        "outputId": "fd3bb0a5-8c64-415c-8591-4facea143567"
      },
      "source": [
        "def withdraw(balance, money): # 출금\n",
        "    if balance >= money: # 잔액이 출금보다 많으면\n",
        "        print(\"출금이 완료되었습니다. 잔액은 {0} 원입니다.\".format(balance - money))\n",
        "        return balance - money # 출금 후 잔액 반환\n",
        "    else:\n",
        "        print(\"출금이 완료되지 않았습니다. 잔액은 {0} 원입니다.\".format(balance))\n",
        "        return balance # 기존 잔액 반환\n",
        "\n",
        "# 출금 시도\n",
        "balance = withdraw(balance, 2000) # 2000원 출금 시도 시 잔액이 부족하므로 실패\n",
        "balance = withdraw(balance, 500) # 500원 출금 시도 시 성공\n",
        "print(balance) # 현재 잔액"
      ],
      "execution_count": null,
      "outputs": [
        {
          "output_type": "stream",
          "text": [
            "출금이 완료되지 않았습니다. 잔액은 1000 원입니다.\n",
            "출금이 완료되었습니다. 잔액은 500 원입니다.\n",
            "500\n"
          ],
          "name": "stdout"
        }
      ]
    },
    {
      "cell_type": "code",
      "metadata": {
        "colab": {
          "base_uri": "https://localhost:8080/"
        },
        "id": "DmtKEZYR0LNx",
        "outputId": "b65de39a-c34f-4a47-b740-4326c077de4a"
      },
      "source": [
        "def withdraw_night(balance, money): # 저녁에 출금\n",
        "    commission = 100 # 출금 수수료 100원\n",
        "    return commission, balance - money - commission # 튜플 형식으로 반환\n",
        "    \n",
        "balance = 0 # 최초 잔액\n",
        "balance = deposit(balance, 1000) # 1000원 입금\n",
        "\n",
        "# 저녁에 출금 시도\n",
        "commission, balance = withdraw_night(balance, 500)\n",
        "print(\"수수료 {0} 원이며, 잔액은 {1} 원입니다.\".format(commission, balance))"
      ],
      "execution_count": null,
      "outputs": [
        {
          "output_type": "stream",
          "text": [
            "입금이 완료되었습니다. 잔액은 1000 원입니다.\n",
            "수수료 100 원이며, 잔액은 400 원입니다.\n"
          ],
          "name": "stdout"
        }
      ]
    },
    {
      "cell_type": "code",
      "metadata": {
        "colab": {
          "base_uri": "https://localhost:8080/"
        },
        "id": "oaws0pce0WVU",
        "outputId": "1b42950d-f533-4c7b-819e-591f2d077833"
      },
      "source": [
        "def profile(name, age, main_lang):\n",
        "    print(\"이름 : {0}\\t나이 : {1}\\t주 사용 언어 : {2}\".format(name, age, main_lang))\n",
        "    \n",
        "profile(\"유재석\", 20, \"파이썬\") # 유재석씨(20세)의 주 사용 언어는 파이썬\n",
        "profile(\"김태호\", 25, \"자바\") # 김태호씨(25세)의 주 사용 언어는 자바\n",
        "profile(name=\"유재석\", main_lang=\"파이썬\", age=20) # 순서 마음대로\n",
        "profile(main_lang=\"자바\", age=25, name=\"김태호\") # 순서 마음대로\n",
        "\n",
        "profile(\"유재석\", age=20, main_lang=\"파이썬\") # (O) 올바른 함수 호출 방법 (일반 전달값 먼저 작성)\n",
        "#profile(name=\"김태호\", 25, \"파이썬\") # (X) 잘못된 함수 호출 방법 (키워드 인자 먼저 작성)"
      ],
      "execution_count": null,
      "outputs": [
        {
          "output_type": "stream",
          "text": [
            "이름 : 유재석\t나이 : 20\t주 사용 언어 : 파이썬\n",
            "이름 : 김태호\t나이 : 25\t주 사용 언어 : 자바\n",
            "이름 : 유재석\t나이 : 20\t주 사용 언어 : 파이썬\n",
            "이름 : 김태호\t나이 : 25\t주 사용 언어 : 자바\n",
            "이름 : 유재석\t나이 : 20\t주 사용 언어 : 파이썬\n"
          ],
          "name": "stdout"
        }
      ]
    },
    {
      "cell_type": "code",
      "metadata": {
        "colab": {
          "base_uri": "https://localhost:8080/"
        },
        "id": "kO4yz-x33fXJ",
        "outputId": "32ad7919-1a22-474e-d444-6737d18b7a54"
      },
      "source": [
        "def profile(name, age=17, main_lang=\"파이썬\"): # 전달값을 따로 받지 않을때 기본으로 사용할 값\n",
        "    print(\"이름 : {0}\\t나이 : {1}\\t주 사용 언어 : {2}\".format(name, age, main_lang))\n",
        "        \n",
        "profile(\"유재석\")\n",
        "profile(\"김태호\")"
      ],
      "execution_count": null,
      "outputs": [
        {
          "output_type": "stream",
          "text": [
            "이름 : 유재석\t나이 : 17\t주 사용 언어 : 파이썬\n",
            "이름 : 김태호\t나이 : 17\t주 사용 언어 : 파이썬\n"
          ],
          "name": "stdout"
        }
      ]
    },
    {
      "cell_type": "code",
      "metadata": {
        "colab": {
          "base_uri": "https://localhost:8080/"
        },
        "id": "j8DxHlBf3kDK",
        "outputId": "7f857ad8-0186-471c-aa4c-de68dc68fd79"
      },
      "source": [
        "# 가변 인자 (변할 수 있는 인자) → 앞에 * 표시\n",
        "\n",
        "def profile(name, age, *language): # 언어 정보를 전달하고 싶은 갯수 만큼 전달 가능    \n",
        "    print(\"이름 : {0}\\t나이 : {1}\\t\".format(name, age), end=\" \")\n",
        "    \n",
        "    # print(type(language)) # tuple\n",
        "    for lang in language:\n",
        "        print(lang, end=\" \") # 언어들을 모두 한 줄에 표시\n",
        "    print() # 줄바꿈 목적\n",
        "\n",
        "profile(\"유재석\", 20, \"Python\", \"Java\", \"C\", \"C++\", \"C#\", \"JavaScript\") # JavaScript 추가\n",
        "profile(\"김태호\", 25, \"Kotlin\", \"Swift\")"
      ],
      "execution_count": null,
      "outputs": [
        {
          "output_type": "stream",
          "text": [
            "이름 : 유재석\t나이 : 20\t Python Java C C++ C# JavaScript \n",
            "이름 : 김태호\t나이 : 25\t Kotlin Swift \n"
          ],
          "name": "stdout"
        }
      ]
    },
    {
      "cell_type": "code",
      "metadata": {
        "colab": {
          "base_uri": "https://localhost:8080/"
        },
        "id": "tYZmmQiE4ady",
        "outputId": "f04feffc-9c2a-40cf-ee96-33f3212bf42f"
      },
      "source": [
        "gun = 10\n",
        "\n",
        "def checkpoint(soldiers):\n",
        "    global gun # 전역공간에 있는 gun 이라는 변수를 사용\n",
        "    gun = gun - soldiers\n",
        "    print(\"[함수 내] 남은 총 : {0}\".format(gun))\n",
        "\n",
        "print(\"전체 총 : {0}\".format(gun))\n",
        "checkpoint(2)\n",
        "print(\"남은 총 : {0}\".format(gun))"
      ],
      "execution_count": null,
      "outputs": [
        {
          "output_type": "stream",
          "text": [
            "전체 총 : 10\n",
            "[함수 내] 남은 총 : 8\n",
            "남은 총 : 8\n"
          ],
          "name": "stdout"
        }
      ]
    },
    {
      "cell_type": "code",
      "metadata": {
        "colab": {
          "base_uri": "https://localhost:8080/"
        },
        "id": "Nbu7B1L849Jg",
        "outputId": "88685e4e-ded1-4abe-c633-5c82a0632ed0"
      },
      "source": [
        "gun = 10\n",
        "\n",
        "def checkpoint_ret(gun, soldiers): # 전체 총 수와 군인 수를 전달받음\n",
        "    gun = gun - soldiers # 전달받은 gun 을 사용\n",
        "    print(\"[함수 내] 남은 총 : {0}\".format(gun))\n",
        "    return gun\n",
        "\n",
        "print(\"전체 총 : {0}\".format(gun))\n",
        "gun = checkpoint_ret(gun, 2) # gun 값을 함수에 전달\n",
        "print(\"남은 총 : {0}\".format(gun))"
      ],
      "execution_count": null,
      "outputs": [
        {
          "output_type": "stream",
          "text": [
            "전체 총 : 10\n",
            "[함수 내] 남은 총 : 8\n",
            "남은 총 : 8\n"
          ],
          "name": "stdout"
        }
      ]
    },
    {
      "cell_type": "code",
      "metadata": {
        "colab": {
          "base_uri": "https://localhost:8080/"
        },
        "id": "fWcZ18VL5CyL",
        "outputId": "b7716e04-a576-488c-c781-795e6f7c0fae"
      },
      "source": [
        "def std_weight(height, gender):\n",
        "  if gender==\"남자\":\n",
        "    return height*height*22\n",
        "  elif gender==\"여자\":\n",
        "    return height*height*21\n",
        "\n",
        "height = 175\n",
        "gender = \"남자\"\n",
        "weight = round(std_weight(height/100, gender),2)\n",
        "print(\"키 {0}cm {1}의 표준 체중은 {2}kg 입니다.\".format(height, gender, weight))"
      ],
      "execution_count": null,
      "outputs": [
        {
          "output_type": "stream",
          "text": [
            "키 175cm 남자의 표준 체중은 67.38kg 입니다.\n"
          ],
          "name": "stdout"
        }
      ]
    },
    {
      "cell_type": "code",
      "metadata": {
        "id": "Ws7Xf5SD6RXM"
      },
      "source": [
        ""
      ],
      "execution_count": null,
      "outputs": []
    }
  ]
}