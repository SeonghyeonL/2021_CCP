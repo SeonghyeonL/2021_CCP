{
  "nbformat": 4,
  "nbformat_minor": 0,
  "metadata": {
    "colab": {
      "name": "data_change_1.ipynb",
      "provenance": [],
      "collapsed_sections": [],
      "mount_file_id": "1fuWvCImqQplrtds9jDBxaWC9EYI0d6be",
      "authorship_tag": "ABX9TyMlI98ZGBFlxFduIgN1bT9b"
    },
    "kernelspec": {
      "name": "python3",
      "display_name": "Python 3"
    },
    "language_info": {
      "name": "python"
    }
  },
  "cells": [
    {
      "cell_type": "code",
      "metadata": {
        "id": "79D24RSyBfAP"
      },
      "source": [
        "# 11410585(신촌동) 11440660(서교동) 11440655(서강동) 11230545(제기동)\n",
        "# 11230740(이문1동) 11440600(대흥동) 11230710(회기동)\n",
        "# 대흥 신촌 / 서교 서강 / 제기 / 회기 이문1동"
      ],
      "execution_count": null,
      "outputs": []
    },
    {
      "cell_type": "code",
      "metadata": {
        "id": "xNGJFw5iBm8R"
      },
      "source": [
        "import pandas as pd"
      ],
      "execution_count": null,
      "outputs": []
    },
    {
      "cell_type": "code",
      "metadata": {
        "id": "aJ5HckeWBobm"
      },
      "source": [
        "read_data = pd.read_csv('/content/drive/MyDrive/Colab Notebooks/2021CCP/kt_data/data_folder/changed/202107KT.csv')"
      ],
      "execution_count": null,
      "outputs": []
    },
    {
      "cell_type": "code",
      "metadata": {
        "id": "my9-WV8NB6GW"
      },
      "source": [
        "read_data = read_data.drop(['Unnamed: 0'], axis=1)"
      ],
      "execution_count": null,
      "outputs": []
    },
    {
      "cell_type": "code",
      "metadata": {
        "id": "sNx6D2nbCV73"
      },
      "source": [
        "Jegi_data = read_data[read_data['admi_cd'] == 11230545]\n",
        "\n",
        "Hoegi_data = read_data[read_data['admi_cd'] == 11230710]\n",
        "Imun_data = read_data[read_data['admi_cd'] == 11230740]\n",
        "HoegiImun_data = Hoegi_data.append(Imun_data)\n",
        "\n",
        "Sinchon_data = read_data[read_data['admi_cd'] == 11410585]\n",
        "Daeheung_data = read_data[read_data['admi_cd'] == 11440600]\n",
        "SinchonDaeheung_data = Sinchon_data.append(Daeheung_data)\n",
        "\n",
        "Seogang_data = read_data[read_data['admi_cd'] == 11440655]\n",
        "Seogyo_data = read_data[read_data['admi_cd'] == 11440660]\n",
        "SeogangSeogyo_data = Seogang_data.append(Seogyo_data)"
      ],
      "execution_count": null,
      "outputs": []
    },
    {
      "cell_type": "code",
      "metadata": {
        "id": "-5IQnrJ_H2W_"
      },
      "source": [
        "Jegi_data = Jegi_data.reset_index(drop=True)\n",
        "HoegiImun_data = HoegiImun_data.reset_index(drop=True)\n",
        "SinchonDaeheung_data = SinchonDaeheung_data.reset_index(drop=True)\n",
        "SeogangSeogyo_data = SeogangSeogyo_data.reset_index(drop=True)"
      ],
      "execution_count": null,
      "outputs": []
    },
    {
      "cell_type": "code",
      "metadata": {
        "id": "6GqYCmDJD-fx"
      },
      "source": [
        "Jegi_data.to_csv(\"/content/drive/MyDrive/Colab Notebooks/2021CCP/kt_data/data_folder/cutted/202107KT_Jegi.csv\", mode='w')\n",
        "HoegiImun_data.to_csv(\"/content/drive/MyDrive/Colab Notebooks/2021CCP/kt_data/data_folder/cutted/202107KT_HoegiImun.csv\", mode='w')\n",
        "SinchonDaeheung_data.to_csv(\"/content/drive/MyDrive/Colab Notebooks/2021CCP/kt_data/data_folder/cutted/202107KT_SinchonDaeheung.csv\", mode='w')\n",
        "SeogangSeogyo_data.to_csv(\"/content/drive/MyDrive/Colab Notebooks/2021CCP/kt_data/data_folder/cutted/202107KT_SeogangSeogyo.csv\", mode='w')"
      ],
      "execution_count": null,
      "outputs": []
    },
    {
      "cell_type": "code",
      "metadata": {
        "id": "C-lf-0kSHhBj"
      },
      "source": [
        ""
      ],
      "execution_count": null,
      "outputs": []
    }
  ]
}